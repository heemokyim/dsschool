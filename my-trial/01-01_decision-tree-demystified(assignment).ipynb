{
 "cells": [
  {
   "cell_type": "code",
   "execution_count": 1,
   "metadata": {},
   "outputs": [],
   "source": [
    "import pandas as pd"
   ]
  },
  {
   "cell_type": "markdown",
   "metadata": {},
   "source": [
    "## Load Dataset"
   ]
  },
  {
   "cell_type": "code",
   "execution_count": 138,
   "metadata": {},
   "outputs": [
    {
     "name": "stdout",
     "output_type": "stream",
     "text": [
      "(5, 5)\n"
     ]
    },
    {
     "data": {
      "text/html": [
       "<div>\n",
       "<style scoped>\n",
       "    .dataframe tbody tr th:only-of-type {\n",
       "        vertical-align: middle;\n",
       "    }\n",
       "\n",
       "    .dataframe tbody tr th {\n",
       "        vertical-align: top;\n",
       "    }\n",
       "\n",
       "    .dataframe thead th {\n",
       "        text-align: right;\n",
       "    }\n",
       "</style>\n",
       "<table border=\"1\" class=\"dataframe\">\n",
       "  <thead>\n",
       "    <tr style=\"text-align: right;\">\n",
       "      <th></th>\n",
       "      <th>짱절미</th>\n",
       "      <th>셀스타그램</th>\n",
       "      <th>우산</th>\n",
       "      <th>follower</th>\n",
       "      <th>like</th>\n",
       "    </tr>\n",
       "    <tr>\n",
       "      <th>name</th>\n",
       "      <th></th>\n",
       "      <th></th>\n",
       "      <th></th>\n",
       "      <th></th>\n",
       "      <th></th>\n",
       "    </tr>\n",
       "  </thead>\n",
       "  <tbody>\n",
       "    <tr>\n",
       "      <th>Kang</th>\n",
       "      <td>True</td>\n",
       "      <td>False</td>\n",
       "      <td>False</td>\n",
       "      <td>0</td>\n",
       "      <td>True</td>\n",
       "    </tr>\n",
       "    <tr>\n",
       "      <th>Kim</th>\n",
       "      <td>False</td>\n",
       "      <td>False</td>\n",
       "      <td>False</td>\n",
       "      <td>0</td>\n",
       "      <td>False</td>\n",
       "    </tr>\n",
       "    <tr>\n",
       "      <th>Choi</th>\n",
       "      <td>False</td>\n",
       "      <td>True</td>\n",
       "      <td>False</td>\n",
       "      <td>100</td>\n",
       "      <td>True</td>\n",
       "    </tr>\n",
       "    <tr>\n",
       "      <th>Park</th>\n",
       "      <td>False</td>\n",
       "      <td>False</td>\n",
       "      <td>False</td>\n",
       "      <td>210</td>\n",
       "      <td>True</td>\n",
       "    </tr>\n",
       "    <tr>\n",
       "      <th>Yoon</th>\n",
       "      <td>False</td>\n",
       "      <td>False</td>\n",
       "      <td>False</td>\n",
       "      <td>0</td>\n",
       "      <td>False</td>\n",
       "    </tr>\n",
       "  </tbody>\n",
       "</table>\n",
       "</div>"
      ],
      "text/plain": [
       "        짱절미  셀스타그램     우산  follower   like\n",
       "name                                      \n",
       "Kang   True  False  False         0   True\n",
       "Kim   False  False  False         0  False\n",
       "Choi  False   True  False       100   True\n",
       "Park  False  False  False       210   True\n",
       "Yoon  False  False  False         0  False"
      ]
     },
     "execution_count": 138,
     "metadata": {},
     "output_type": "execute_result"
    }
   ],
   "source": [
    "data = {\n",
    "    'name': [\"Kang\", \"Kim\", \"Choi\", \"Park\", \"Yoon\"],\n",
    "    '짱절미': [True, False, False, False, False],\n",
    "    '셀스타그램': [False, False, True, False, False],\n",
    "    '우산': [False, False, False, False, False],\n",
    "    'follower': [0, 0, 100, 210, 0],\n",
    "    'like': [True, False, True, True, False]\n",
    "}\n",
    "\n",
    "data = pd.DataFrame(data)\n",
    "data = data.set_index(\"name\")\n",
    "\n",
    "print(data.shape)\n",
    "data.head()"
   ]
  },
  {
   "cell_type": "markdown",
   "metadata": {},
   "source": [
    "## Preprocessing"
   ]
  },
  {
   "cell_type": "code",
   "execution_count": 139,
   "metadata": {},
   "outputs": [
    {
     "data": {
      "text/plain": [
       "'like'"
      ]
     },
     "execution_count": 139,
     "metadata": {},
     "output_type": "execute_result"
    }
   ],
   "source": [
    "label_name = \"like\"\n",
    "label_name"
   ]
  },
  {
   "cell_type": "code",
   "execution_count": 140,
   "metadata": {},
   "outputs": [
    {
     "data": {
      "text/plain": [
       "Index(['follower', '셀스타그램', '우산', '짱절미'], dtype='object')"
      ]
     },
     "execution_count": 140,
     "metadata": {},
     "output_type": "execute_result"
    }
   ],
   "source": [
    "feature_names = data.columns.difference([label_name])\n",
    "feature_names"
   ]
  },
  {
   "cell_type": "markdown",
   "metadata": {},
   "source": [
    "## Prerequisites"
   ]
  },
  {
   "cell_type": "markdown",
   "metadata": {},
   "source": [
    "### Visualize Tree"
   ]
  },
  {
   "cell_type": "code",
   "execution_count": 5,
   "metadata": {},
   "outputs": [],
   "source": [
    "import graphviz\n",
    "from graphviz import Digraph\n",
    "\n",
    "def display_node(dot, key, node):\n",
    "    if node[\"leaf\"] == True:\n",
    "        probability = node['probability']\n",
    "        probability = round(probability, 4)\n",
    "        probability = str(probability)\n",
    "        \n",
    "        dot.node(key, probability)\n",
    "    else:\n",
    "        description = node['description']\n",
    "        dot.node(key, description)\n",
    "        \n",
    "        if \"left\" in node:\n",
    "            left_key = key + \"L\"\n",
    "            display_node(dot, left_key, node['left'])\n",
    "            dot.edge(key, left_key)\n",
    "\n",
    "        if \"right\" in node:\n",
    "            right_key = key + \"R\"\n",
    "            display_node(dot, right_key, node['right'])\n",
    "            dot.edge(key, right_key)\n",
    "\n",
    "def display_tree(tree):\n",
    "    dot = Digraph(comment='Decision Tree')\n",
    "\n",
    "    display_node(dot, \"Root\", tree)\n",
    "\n",
    "    return graphviz.Source(dot.source)"
   ]
  },
  {
   "cell_type": "markdown",
   "metadata": {},
   "source": [
    "### Predict"
   ]
  },
  {
   "cell_type": "code",
   "execution_count": 6,
   "metadata": {},
   "outputs": [],
   "source": [
    "def predict(data, node):\n",
    "    if node['leaf'] == True:\n",
    "        probability = node[\"probability\"]\n",
    "        result = dict(zip(data.index, len(data) * [probability]))\n",
    "    else:\n",
    "        condition = node['condition']\n",
    "        \n",
    "        left_data = data[condition(data)]\n",
    "        left_result = predict(left_data, node['left'])\n",
    "        \n",
    "        right_data = data[~condition(data)]\n",
    "        right_result = predict(right_data, node['right'])    \n",
    "    \n",
    "        return {**left_result, **right_result}\n",
    "\n",
    "    return result"
   ]
  },
  {
   "cell_type": "markdown",
   "metadata": {
    "collapsed": true
   },
   "source": [
    "## Prior Knowledge"
   ]
  },
  {
   "cell_type": "markdown",
   "metadata": {},
   "source": [
    "### Dictionary"
   ]
  },
  {
   "cell_type": "code",
   "execution_count": 8,
   "metadata": {},
   "outputs": [
    {
     "data": {
      "text/plain": [
       "{'apple': '사과', 'banana': '바나나'}"
      ]
     },
     "execution_count": 8,
     "metadata": {},
     "output_type": "execute_result"
    }
   ],
   "source": [
    "vocabulary = {'apple':'사과', 'banana':'바나나'}\n",
    "vocabulary"
   ]
  },
  {
   "cell_type": "code",
   "execution_count": 9,
   "metadata": {},
   "outputs": [
    {
     "data": {
      "text/plain": [
       "'사과'"
      ]
     },
     "execution_count": 9,
     "metadata": {},
     "output_type": "execute_result"
    }
   ],
   "source": [
    "vocabulary['apple']"
   ]
  },
  {
   "cell_type": "code",
   "execution_count": 10,
   "metadata": {},
   "outputs": [
    {
     "data": {
      "text/plain": [
       "'바나나'"
      ]
     },
     "execution_count": 10,
     "metadata": {},
     "output_type": "execute_result"
    }
   ],
   "source": [
    "vocabulary['banana']"
   ]
  },
  {
   "cell_type": "code",
   "execution_count": 11,
   "metadata": {},
   "outputs": [],
   "source": [
    "vocabulary = {\n",
    "    'apple': {\n",
    "        'ko':'사과',\n",
    "        'jp':'ringo'\n",
    "    }, \n",
    "    'banana': {\n",
    "        'ko':'바나나',\n",
    "        'jp':'banana'\n",
    "    }\n",
    "}"
   ]
  },
  {
   "cell_type": "code",
   "execution_count": 12,
   "metadata": {},
   "outputs": [
    {
     "data": {
      "text/plain": [
       "{'apple': {'ko': '사과', 'jp': 'ringo'}, 'banana': {'ko': '바나나', 'jp': 'banana'}}"
      ]
     },
     "execution_count": 12,
     "metadata": {},
     "output_type": "execute_result"
    }
   ],
   "source": [
    "vocabulary"
   ]
  },
  {
   "cell_type": "code",
   "execution_count": 13,
   "metadata": {},
   "outputs": [
    {
     "data": {
      "text/plain": [
       "{'ko': '사과', 'jp': 'ringo'}"
      ]
     },
     "execution_count": 13,
     "metadata": {},
     "output_type": "execute_result"
    }
   ],
   "source": [
    "vocabulary['apple']"
   ]
  },
  {
   "cell_type": "code",
   "execution_count": 14,
   "metadata": {},
   "outputs": [
    {
     "data": {
      "text/plain": [
       "'사과'"
      ]
     },
     "execution_count": 14,
     "metadata": {},
     "output_type": "execute_result"
    }
   ],
   "source": [
    "vocabulary['apple']['ko']"
   ]
  },
  {
   "cell_type": "code",
   "execution_count": 15,
   "metadata": {},
   "outputs": [
    {
     "data": {
      "text/plain": [
       "'banana'"
      ]
     },
     "execution_count": 15,
     "metadata": {},
     "output_type": "execute_result"
    }
   ],
   "source": [
    "vocabulary['banana']['jp']"
   ]
  },
  {
   "cell_type": "code",
   "execution_count": 17,
   "metadata": {},
   "outputs": [
    {
     "data": {
      "text/plain": [
       "dict_keys(['apple', 'banana'])"
      ]
     },
     "execution_count": 17,
     "metadata": {},
     "output_type": "execute_result"
    }
   ],
   "source": [
    "vocabulary.keys()"
   ]
  },
  {
   "cell_type": "code",
   "execution_count": 18,
   "metadata": {},
   "outputs": [
    {
     "data": {
      "text/plain": [
       "dict_values([{'ko': '사과', 'jp': 'ringo'}, {'ko': '바나나', 'jp': 'banana'}])"
      ]
     },
     "execution_count": 18,
     "metadata": {},
     "output_type": "execute_result"
    }
   ],
   "source": [
    "vocabulary.values()"
   ]
  },
  {
   "cell_type": "code",
   "execution_count": 21,
   "metadata": {},
   "outputs": [
    {
     "data": {
      "text/plain": [
       "'사과'"
      ]
     },
     "execution_count": 21,
     "metadata": {},
     "output_type": "execute_result"
    }
   ],
   "source": [
    "keys = list(vocabulary.keys())\n",
    "first_key = keys[0]\n",
    "\n",
    "vocabulary[first_key]['ko']"
   ]
  },
  {
   "cell_type": "markdown",
   "metadata": {},
   "source": [
    "### 함수 (+익명함수, lamda)"
   ]
  },
  {
   "cell_type": "code",
   "execution_count": 23,
   "metadata": {},
   "outputs": [
    {
     "data": {
      "text/plain": [
       "15"
      ]
     },
     "execution_count": 23,
     "metadata": {},
     "output_type": "execute_result"
    }
   ],
   "source": [
    "def multiply(a, b):\n",
    "    return a * b\n",
    "\n",
    "multiply(3, 5)"
   ]
  },
  {
   "cell_type": "code",
   "execution_count": 26,
   "metadata": {},
   "outputs": [
    {
     "data": {
      "text/plain": [
       "15"
      ]
     },
     "execution_count": 26,
     "metadata": {},
     "output_type": "execute_result"
    }
   ],
   "source": [
    "multiply = lambda a,b : a * b\n",
    "\n",
    "multiply(3,5)"
   ]
  },
  {
   "cell_type": "markdown",
   "metadata": {},
   "source": [
    "### 재귀함수"
   ]
  },
  {
   "cell_type": "code",
   "execution_count": 35,
   "metadata": {},
   "outputs": [
    {
     "name": "stdout",
     "output_type": "stream",
     "text": [
      "True\n",
      "True\n",
      "True\n",
      "True\n",
      "True\n"
     ]
    }
   ],
   "source": [
    "def cycle(n):\n",
    "    if n == 1:\n",
    "        return [n]\n",
    "    \n",
    "    if n % 2 == 0:\n",
    "        return [n] + cycle(n / 2)\n",
    "    else:\n",
    "        return [n] + cycle(n * 3 + 1)\n",
    "    \n",
    "print(cycle(1) == [1])\n",
    "print(cycle(2) == [2,1])\n",
    "print(cycle(3) == [3,10,5,16,8,4,2,1])\n",
    "print(cycle(4) == [4,2,1])\n",
    "print(cycle(5) == [5,16,8,4,2,1])"
   ]
  },
  {
   "cell_type": "markdown",
   "metadata": {},
   "source": [
    "### Closure"
   ]
  },
  {
   "cell_type": "code",
   "execution_count": 36,
   "metadata": {},
   "outputs": [],
   "source": [
    "def profile_generator(company):\n",
    "    def user_generator(name):\n",
    "        print(f\"Name = {name}, Company = {company}\")\n",
    "    \n",
    "    return user_generator"
   ]
  },
  {
   "cell_type": "code",
   "execution_count": 38,
   "metadata": {},
   "outputs": [
    {
     "data": {
      "text/plain": [
       "<function __main__.profile_generator.<locals>.user_generator(name)>"
      ]
     },
     "execution_count": 38,
     "metadata": {},
     "output_type": "execute_result"
    }
   ],
   "source": [
    "generator = profile_generator('DS School')\n",
    "generator"
   ]
  },
  {
   "cell_type": "code",
   "execution_count": 40,
   "metadata": {},
   "outputs": [
    {
     "name": "stdout",
     "output_type": "stream",
     "text": [
      "Name = 김광섭, Company = DS School\n"
     ]
    }
   ],
   "source": [
    "generator('김광섭')"
   ]
  },
  {
   "cell_type": "markdown",
   "metadata": {
    "collapsed": true
   },
   "source": [
    "## Implement a Decision Tree"
   ]
  },
  {
   "cell_type": "markdown",
   "metadata": {},
   "source": [
    "### Make Conditions"
   ]
  },
  {
   "cell_type": "code",
   "execution_count": 141,
   "metadata": {},
   "outputs": [],
   "source": [
    "def binary_condition(data, feature_name, value):\n",
    "    return data[feature_name] == value\n",
    "\n",
    "def continuous_condition(data, feature_name, value):\n",
    "    return data[feature_name] < value\n",
    "\n",
    "def make_condition(method, feature_name, value):\n",
    "    def call_condition(data):\n",
    "        return method(data, feature_name, value)\n",
    "\n",
    "    return call_condition"
   ]
  },
  {
   "cell_type": "code",
   "execution_count": 8,
   "metadata": {},
   "outputs": [
    {
     "data": {
      "text/html": [
       "<div>\n",
       "<style scoped>\n",
       "    .dataframe tbody tr th:only-of-type {\n",
       "        vertical-align: middle;\n",
       "    }\n",
       "\n",
       "    .dataframe tbody tr th {\n",
       "        vertical-align: top;\n",
       "    }\n",
       "\n",
       "    .dataframe thead th {\n",
       "        text-align: right;\n",
       "    }\n",
       "</style>\n",
       "<table border=\"1\" class=\"dataframe\">\n",
       "  <thead>\n",
       "    <tr style=\"text-align: right;\">\n",
       "      <th></th>\n",
       "      <th>짱절미</th>\n",
       "      <th>셀스타그램</th>\n",
       "      <th>우산</th>\n",
       "      <th>like</th>\n",
       "    </tr>\n",
       "    <tr>\n",
       "      <th>name</th>\n",
       "      <th></th>\n",
       "      <th></th>\n",
       "      <th></th>\n",
       "      <th></th>\n",
       "    </tr>\n",
       "  </thead>\n",
       "  <tbody>\n",
       "    <tr>\n",
       "      <th>Kang</th>\n",
       "      <td>True</td>\n",
       "      <td>False</td>\n",
       "      <td>False</td>\n",
       "      <td>True</td>\n",
       "    </tr>\n",
       "  </tbody>\n",
       "</table>\n",
       "</div>"
      ],
      "text/plain": [
       "       짱절미  셀스타그램     우산  like\n",
       "name                          \n",
       "Kang  True  False  False  True"
      ]
     },
     "execution_count": 8,
     "metadata": {},
     "output_type": "execute_result"
    }
   ],
   "source": [
    "condition = make_condition(binary_condition, \"짱절미\", True)\n",
    "data[condition(data)]"
   ]
  },
  {
   "cell_type": "code",
   "execution_count": 9,
   "metadata": {},
   "outputs": [
    {
     "data": {
      "text/html": [
       "<div>\n",
       "<style scoped>\n",
       "    .dataframe tbody tr th:only-of-type {\n",
       "        vertical-align: middle;\n",
       "    }\n",
       "\n",
       "    .dataframe tbody tr th {\n",
       "        vertical-align: top;\n",
       "    }\n",
       "\n",
       "    .dataframe thead th {\n",
       "        text-align: right;\n",
       "    }\n",
       "</style>\n",
       "<table border=\"1\" class=\"dataframe\">\n",
       "  <thead>\n",
       "    <tr style=\"text-align: right;\">\n",
       "      <th></th>\n",
       "      <th>짱절미</th>\n",
       "      <th>셀스타그램</th>\n",
       "      <th>우산</th>\n",
       "      <th>like</th>\n",
       "    </tr>\n",
       "    <tr>\n",
       "      <th>name</th>\n",
       "      <th></th>\n",
       "      <th></th>\n",
       "      <th></th>\n",
       "      <th></th>\n",
       "    </tr>\n",
       "  </thead>\n",
       "  <tbody>\n",
       "    <tr>\n",
       "      <th>Choi</th>\n",
       "      <td>False</td>\n",
       "      <td>True</td>\n",
       "      <td>False</td>\n",
       "      <td>True</td>\n",
       "    </tr>\n",
       "  </tbody>\n",
       "</table>\n",
       "</div>"
      ],
      "text/plain": [
       "        짱절미  셀스타그램     우산  like\n",
       "name                           \n",
       "Choi  False   True  False  True"
      ]
     },
     "execution_count": 9,
     "metadata": {},
     "output_type": "execute_result"
    }
   ],
   "source": [
    "condition = make_condition(binary_condition, \"셀스타그램\", True)\n",
    "data[condition(data)]"
   ]
  },
  {
   "cell_type": "code",
   "execution_count": 161,
   "metadata": {},
   "outputs": [],
   "source": [
    "def make_condition_list(data, feature_names):\n",
    "    condition_list = {}\n",
    "    \n",
    "    for feature_name in feature_names:\n",
    "        if data[feature_name].dtype == 'bool':\n",
    "            description = f\"{feature_name} == True\"\n",
    "            condition = make_condition(binary_condition, feature_name, True)\n",
    "            \n",
    "            condition_list[description] = condition        \n",
    "        else:\n",
    "            value_list = data[feature_name].unique()\n",
    "            value_list.sort()\n",
    "            \n",
    "            value_list = value_list[1:]\n",
    "            \n",
    "            for value in value_list:\n",
    "                description = f\"{feature_name} < {value}\"\n",
    "                condition = make_condition(continuous_condition, feature_name, value)\n",
    "                \n",
    "                condition_list[description] = condition\n",
    "    \n",
    "    return condition_list"
   ]
  },
  {
   "cell_type": "code",
   "execution_count": 162,
   "metadata": {},
   "outputs": [
    {
     "data": {
      "text/plain": [
       "{'follower < 100': <function __main__.make_condition.<locals>.call_condition(data)>,\n",
       " 'follower < 210': <function __main__.make_condition.<locals>.call_condition(data)>,\n",
       " '셀스타그램 == True': <function __main__.make_condition.<locals>.call_condition(data)>,\n",
       " '우산 == True': <function __main__.make_condition.<locals>.call_condition(data)>,\n",
       " '짱절미 == True': <function __main__.make_condition.<locals>.call_condition(data)>}"
      ]
     },
     "execution_count": 162,
     "metadata": {},
     "output_type": "execute_result"
    }
   ],
   "source": [
    "make_condition_list(data, feature_names)"
   ]
  },
  {
   "cell_type": "markdown",
   "metadata": {},
   "source": [
    "### Evaluate Gini Impurity\n",
    "\n",
    "$$\n",
    "{\\displaystyle I_{G}(p)=\\sum _{i=1}^{J}p_{i}(1-p_{i})=p_{t}(1-p_{t}) + p_{f}(1-p_{f})}\n",
    "$$"
   ]
  },
  {
   "cell_type": "code",
   "execution_count": 101,
   "metadata": {},
   "outputs": [],
   "source": [
    "def evaluate_gini_impurity(data, label_name):\n",
    "    if len(data) == 0:\n",
    "        return 0\n",
    "    true_probability = data[label_name].mean()\n",
    "    false_probability = 1 - true_probability\n",
    "    \n",
    "    true_gini_impurity = true_probability * (1 - true_probability)\n",
    "    false_gini_impurity = false_probability * (1 - false_probability)\n",
    "    \n",
    "    gini_impurity = true_gini_impurity + false_gini_impurity\n",
    "    return gini_impurity"
   ]
  },
  {
   "cell_type": "code",
   "execution_count": 100,
   "metadata": {},
   "outputs": [
    {
     "data": {
      "text/plain": [
       "0.48"
      ]
     },
     "execution_count": 100,
     "metadata": {},
     "output_type": "execute_result"
    }
   ],
   "source": [
    "evaluate_gini_impurity(data, label_name)"
   ]
  },
  {
   "cell_type": "code",
   "execution_count": 104,
   "metadata": {},
   "outputs": [],
   "source": [
    "def evaluate_average_gini_evaluate(data, condition, label_name):\n",
    "    true_data = data[condition(data)]\n",
    "    false_data = data[~condition(data)]\n",
    "    \n",
    "    true_impurity = evaluate_gini_impurity(true_data, label_name)\n",
    "    false_impurity = evaluate_gini_impurity(false_data, label_name)\n",
    "    \n",
    "    gini_impurity = len(true_data) * true_impurity + len(false_data) * false_impurity\n",
    "    gini_impurity = gini_impurity / len(data)\n",
    "    \n",
    "    return gini_impurity"
   ]
  },
  {
   "cell_type": "code",
   "execution_count": 105,
   "metadata": {},
   "outputs": [
    {
     "data": {
      "text/plain": [
       "0.4"
      ]
     },
     "execution_count": 105,
     "metadata": {},
     "output_type": "execute_result"
    }
   ],
   "source": [
    "condition = make_condition(binary_condition, \"짱절미\", True)\n",
    "evaluate_average_gini_evaluate(data, condition, label_name)"
   ]
  },
  {
   "cell_type": "code",
   "execution_count": 106,
   "metadata": {},
   "outputs": [
    {
     "data": {
      "text/plain": [
       "0.4"
      ]
     },
     "execution_count": 106,
     "metadata": {},
     "output_type": "execute_result"
    }
   ],
   "source": [
    "condition = make_condition(binary_condition, \"셀스타그램\", True)\n",
    "evaluate_average_gini_evaluate(data, condition, label_name)"
   ]
  },
  {
   "cell_type": "code",
   "execution_count": 158,
   "metadata": {},
   "outputs": [
    {
     "data": {
      "text/plain": [
       "0.26666666666666666"
      ]
     },
     "execution_count": 158,
     "metadata": {},
     "output_type": "execute_result"
    }
   ],
   "source": [
    "condition = make_condition(continuous_condition, \"follower\", 100)\n",
    "evaluate_average_gini_evaluate(data, condition, label_name)"
   ]
  },
  {
   "cell_type": "code",
   "execution_count": 153,
   "metadata": {},
   "outputs": [],
   "source": [
    "def find_best_condition(data, condition_list, label_name):\n",
    "    best_gini_impurity = 0.51\n",
    "    best_condition = None\n",
    "    best_description = None\n",
    "    \n",
    "    for description, condition in condition_list.items():\n",
    "        gini_impurity = evaluate_average_gini_evaluate(data, condition, label_name)\n",
    "        \n",
    "        if gini_impurity < best_gini_impurity:\n",
    "            best_gini_impurity = gini_impurity\n",
    "            best_description = description\n",
    "            best_condition = condition\n",
    "            \n",
    "    return best_gini_impurity, best_description, best_condition"
   ]
  },
  {
   "cell_type": "code",
   "execution_count": 154,
   "metadata": {},
   "outputs": [
    {
     "data": {
      "text/plain": [
       "(0.26666666666666666,\n",
       " 'follower < 100',\n",
       " <function __main__.make_condition.<locals>.call_condition(data)>)"
      ]
     },
     "execution_count": 154,
     "metadata": {},
     "output_type": "execute_result"
    }
   ],
   "source": [
    "condition_list = make_condition_list(data, feature_names)\n",
    "    \n",
    "find_best_condition(data, condition_list, label_name)"
   ]
  },
  {
   "cell_type": "markdown",
   "metadata": {},
   "source": [
    "### Make a Tree"
   ]
  },
  {
   "cell_type": "code",
   "execution_count": 163,
   "metadata": {},
   "outputs": [
    {
     "name": "stdout",
     "output_type": "stream",
     "text": [
      "0\n",
      "1\n",
      "2\n",
      "2\n",
      "1\n",
      "2\n",
      "2\n"
     ]
    },
    {
     "data": {
      "image/svg+xml": [
       "<?xml version=\"1.0\" encoding=\"UTF-8\" standalone=\"no\"?>\r\n",
       "<!DOCTYPE svg PUBLIC \"-//W3C//DTD SVG 1.1//EN\"\r\n",
       " \"http://www.w3.org/Graphics/SVG/1.1/DTD/svg11.dtd\">\r\n",
       "<!-- Generated by graphviz version 2.38.0 (20140413.2041)\r\n",
       " -->\r\n",
       "<!-- Title: %3 Pages: 1 -->\r\n",
       "<svg width=\"305pt\" height=\"188pt\"\r\n",
       " viewBox=\"0.00 0.00 305.24 188.00\" xmlns=\"http://www.w3.org/2000/svg\" xmlns:xlink=\"http://www.w3.org/1999/xlink\">\r\n",
       "<g id=\"graph0\" class=\"graph\" transform=\"scale(1 1) rotate(0) translate(4 184)\">\r\n",
       "<title>%3</title>\r\n",
       "<polygon fill=\"white\" stroke=\"none\" points=\"-4,4 -4,-184 301.244,-184 301.244,4 -4,4\"/>\r\n",
       "<!-- Root -->\r\n",
       "<g id=\"node1\" class=\"node\"><title>Root</title>\r\n",
       "<ellipse fill=\"none\" stroke=\"black\" cx=\"143.244\" cy=\"-162\" rx=\"63.8893\" ry=\"18\"/>\r\n",
       "<text text-anchor=\"middle\" x=\"143.244\" y=\"-158.3\" font-family=\"Times New Roman,serif\" font-size=\"14.00\">follower &lt; 100</text>\r\n",
       "</g>\r\n",
       "<!-- RootL -->\r\n",
       "<g id=\"node2\" class=\"node\"><title>RootL</title>\r\n",
       "<ellipse fill=\"none\" stroke=\"black\" cx=\"68.2439\" cy=\"-90\" rx=\"68.4888\" ry=\"18\"/>\r\n",
       "<text text-anchor=\"middle\" x=\"68.2439\" y=\"-86.3\" font-family=\"Times New Roman,serif\" font-size=\"14.00\">짱절미 == True</text>\r\n",
       "</g>\r\n",
       "<!-- Root&#45;&gt;RootL -->\r\n",
       "<g id=\"edge3\" class=\"edge\"><title>Root&#45;&gt;RootL</title>\r\n",
       "<path fill=\"none\" stroke=\"black\" d=\"M125.47,-144.411C115.849,-135.432 103.807,-124.193 93.255,-114.344\"/>\r\n",
       "<polygon fill=\"black\" stroke=\"black\" points=\"95.589,-111.734 85.8903,-107.47 90.8128,-116.852 95.589,-111.734\"/>\r\n",
       "</g>\r\n",
       "<!-- RootR -->\r\n",
       "<g id=\"node5\" class=\"node\"><title>RootR</title>\r\n",
       "<ellipse fill=\"none\" stroke=\"black\" cx=\"218.244\" cy=\"-90\" rx=\"63.8893\" ry=\"18\"/>\r\n",
       "<text text-anchor=\"middle\" x=\"218.244\" y=\"-86.3\" font-family=\"Times New Roman,serif\" font-size=\"14.00\">follower &lt; 210</text>\r\n",
       "</g>\r\n",
       "<!-- Root&#45;&gt;RootR -->\r\n",
       "<g id=\"edge6\" class=\"edge\"><title>Root&#45;&gt;RootR</title>\r\n",
       "<path fill=\"none\" stroke=\"black\" d=\"M161.018,-144.411C170.638,-135.432 182.68,-124.193 193.233,-114.344\"/>\r\n",
       "<polygon fill=\"black\" stroke=\"black\" points=\"195.675,-116.852 200.598,-107.47 190.899,-111.734 195.675,-116.852\"/>\r\n",
       "</g>\r\n",
       "<!-- RootLL -->\r\n",
       "<g id=\"node3\" class=\"node\"><title>RootLL</title>\r\n",
       "<ellipse fill=\"none\" stroke=\"black\" cx=\"35.2439\" cy=\"-18\" rx=\"27\" ry=\"18\"/>\r\n",
       "<text text-anchor=\"middle\" x=\"35.2439\" y=\"-14.3\" font-family=\"Times New Roman,serif\" font-size=\"14.00\">1.0</text>\r\n",
       "</g>\r\n",
       "<!-- RootL&#45;&gt;RootLL -->\r\n",
       "<g id=\"edge1\" class=\"edge\"><title>RootL&#45;&gt;RootLL</title>\r\n",
       "<path fill=\"none\" stroke=\"black\" d=\"M60.2556,-72.055C56.3482,-63.7665 51.5638,-53.6178 47.2296,-44.4241\"/>\r\n",
       "<polygon fill=\"black\" stroke=\"black\" points=\"50.3616,-42.8598 42.9315,-35.307 44.0299,-45.8448 50.3616,-42.8598\"/>\r\n",
       "</g>\r\n",
       "<!-- RootLR -->\r\n",
       "<g id=\"node4\" class=\"node\"><title>RootLR</title>\r\n",
       "<ellipse fill=\"none\" stroke=\"black\" cx=\"107.244\" cy=\"-18\" rx=\"27\" ry=\"18\"/>\r\n",
       "<text text-anchor=\"middle\" x=\"107.244\" y=\"-14.3\" font-family=\"Times New Roman,serif\" font-size=\"14.00\">0.0</text>\r\n",
       "</g>\r\n",
       "<!-- RootL&#45;&gt;RootLR -->\r\n",
       "<g id=\"edge2\" class=\"edge\"><title>RootL&#45;&gt;RootLR</title>\r\n",
       "<path fill=\"none\" stroke=\"black\" d=\"M77.6848,-72.055C82.3512,-63.6793 88.076,-53.4039 93.2407,-44.1341\"/>\r\n",
       "<polygon fill=\"black\" stroke=\"black\" points=\"96.349,-45.7462 98.1586,-35.307 90.2341,-42.3392 96.349,-45.7462\"/>\r\n",
       "</g>\r\n",
       "<!-- RootRL -->\r\n",
       "<g id=\"node6\" class=\"node\"><title>RootRL</title>\r\n",
       "<ellipse fill=\"none\" stroke=\"black\" cx=\"198.244\" cy=\"-18\" rx=\"27\" ry=\"18\"/>\r\n",
       "<text text-anchor=\"middle\" x=\"198.244\" y=\"-14.3\" font-family=\"Times New Roman,serif\" font-size=\"14.00\">1.0</text>\r\n",
       "</g>\r\n",
       "<!-- RootR&#45;&gt;RootRL -->\r\n",
       "<g id=\"edge4\" class=\"edge\"><title>RootR&#45;&gt;RootRL</title>\r\n",
       "<path fill=\"none\" stroke=\"black\" d=\"M213.3,-71.6966C211.072,-63.8979 208.389,-54.5085 205.909,-45.8292\"/>\r\n",
       "<polygon fill=\"black\" stroke=\"black\" points=\"209.244,-44.758 203.131,-36.1043 202.513,-46.6811 209.244,-44.758\"/>\r\n",
       "</g>\r\n",
       "<!-- RootRR -->\r\n",
       "<g id=\"node7\" class=\"node\"><title>RootRR</title>\r\n",
       "<ellipse fill=\"none\" stroke=\"black\" cx=\"270.244\" cy=\"-18\" rx=\"27\" ry=\"18\"/>\r\n",
       "<text text-anchor=\"middle\" x=\"270.244\" y=\"-14.3\" font-family=\"Times New Roman,serif\" font-size=\"14.00\">1.0</text>\r\n",
       "</g>\r\n",
       "<!-- RootR&#45;&gt;RootRR -->\r\n",
       "<g id=\"edge5\" class=\"edge\"><title>RootR&#45;&gt;RootRR</title>\r\n",
       "<path fill=\"none\" stroke=\"black\" d=\"M230.832,-72.055C237.434,-63.1672 245.625,-52.1404 252.827,-42.4457\"/>\r\n",
       "<polygon fill=\"black\" stroke=\"black\" points=\"255.683,-44.471 258.836,-34.3564 250.063,-40.2967 255.683,-44.471\"/>\r\n",
       "</g>\r\n",
       "</g>\r\n",
       "</svg>\r\n"
      ],
      "text/plain": [
       "<graphviz.files.Source at 0x18ae785d940>"
      ]
     },
     "execution_count": 163,
     "metadata": {},
     "output_type": "execute_result"
    }
   ],
   "source": [
    "min_sample_split = 0\n",
    "max_depth = 5\n",
    "\n",
    "def make_node(data, condition_list, current_gini, current_depth):\n",
    "    condition = len(condition_list) != 0\n",
    "    sample = (len(data) >= min_sample_split)\n",
    "    depth = (max_depth == None) or (current_depth < max_depth)\n",
    "    print(current_depth)\n",
    "   \n",
    "    if condition and sample and depth:\n",
    "        gini, description, condition = find_best_condition(data, condition_list, label_name)\n",
    "        \n",
    "        node = {'leaf' : False, 'description': description, 'condition': condition}\n",
    "            \n",
    "        left_data = data[condition(data)]\n",
    "        right_data = data[~condition(data)]\n",
    "              \n",
    "        if gini < current_gini and len(left_data) > 0 and len(right_data) > 0:\n",
    "            del condition_list[description]\n",
    "            node['left'] = make_node(left_data, condition_list.copy(), gini, current_depth+1)\n",
    "            node['right'] = make_node(right_data, condition_list.copy(), gini, current_depth+1)             \n",
    "       \n",
    "            return node\n",
    "\n",
    "    probability = data[label_name].mean()\n",
    "    node = {'leaf' : True, 'probability': probability}\n",
    "\n",
    "    return node\n",
    "\n",
    "def make_tree(data):\n",
    "    tree = {}\n",
    "\n",
    "    condition_list = make_condition_list(data, feature_names)\n",
    "    \n",
    "    tree = make_node(data, condition_list, current_gini=0.51, current_depth=0)\n",
    "    \n",
    "    return tree\n",
    "\n",
    "tree = make_tree(data)\n",
    "\n",
    "display_tree(tree)"
   ]
  },
  {
   "cell_type": "code",
   "execution_count": null,
   "metadata": {},
   "outputs": [],
   "source": []
  },
  {
   "cell_type": "code",
   "execution_count": null,
   "metadata": {},
   "outputs": [],
   "source": []
  },
  {
   "cell_type": "code",
   "execution_count": null,
   "metadata": {},
   "outputs": [],
   "source": []
  },
  {
   "cell_type": "code",
   "execution_count": null,
   "metadata": {},
   "outputs": [],
   "source": []
  },
  {
   "cell_type": "code",
   "execution_count": null,
   "metadata": {},
   "outputs": [],
   "source": []
  }
 ],
 "metadata": {
  "kernelspec": {
   "display_name": "Python 3",
   "language": "python",
   "name": "python3"
  },
  "language_info": {
   "codemirror_mode": {
    "name": "ipython",
    "version": 3
   },
   "file_extension": ".py",
   "mimetype": "text/x-python",
   "name": "python",
   "nbconvert_exporter": "python",
   "pygments_lexer": "ipython3",
   "version": "3.6.5"
  }
 },
 "nbformat": 4,
 "nbformat_minor": 2
}
