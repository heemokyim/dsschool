{
 "cells": [
  {
   "cell_type": "code",
   "execution_count": 1,
   "metadata": {},
   "outputs": [],
   "source": [
    "import pandas as pd"
   ]
  },
  {
   "cell_type": "markdown",
   "metadata": {},
   "source": [
    "## Load Dataset"
   ]
  },
  {
   "cell_type": "code",
   "execution_count": 2,
   "metadata": {},
   "outputs": [
    {
     "name": "stdout",
     "output_type": "stream",
     "text": [
      "(5, 5)\n"
     ]
    },
    {
     "data": {
      "text/html": [
       "<div>\n",
       "<style scoped>\n",
       "    .dataframe tbody tr th:only-of-type {\n",
       "        vertical-align: middle;\n",
       "    }\n",
       "\n",
       "    .dataframe tbody tr th {\n",
       "        vertical-align: top;\n",
       "    }\n",
       "\n",
       "    .dataframe thead th {\n",
       "        text-align: right;\n",
       "    }\n",
       "</style>\n",
       "<table border=\"1\" class=\"dataframe\">\n",
       "  <thead>\n",
       "    <tr style=\"text-align: right;\">\n",
       "      <th></th>\n",
       "      <th>짱절미</th>\n",
       "      <th>셀스타그램</th>\n",
       "      <th>우산</th>\n",
       "      <th>follower</th>\n",
       "      <th>like</th>\n",
       "    </tr>\n",
       "    <tr>\n",
       "      <th>name</th>\n",
       "      <th></th>\n",
       "      <th></th>\n",
       "      <th></th>\n",
       "      <th></th>\n",
       "      <th></th>\n",
       "    </tr>\n",
       "  </thead>\n",
       "  <tbody>\n",
       "    <tr>\n",
       "      <th>Kang</th>\n",
       "      <td>True</td>\n",
       "      <td>False</td>\n",
       "      <td>False</td>\n",
       "      <td>0</td>\n",
       "      <td>True</td>\n",
       "    </tr>\n",
       "    <tr>\n",
       "      <th>Kim</th>\n",
       "      <td>False</td>\n",
       "      <td>False</td>\n",
       "      <td>False</td>\n",
       "      <td>0</td>\n",
       "      <td>False</td>\n",
       "    </tr>\n",
       "    <tr>\n",
       "      <th>Choi</th>\n",
       "      <td>False</td>\n",
       "      <td>True</td>\n",
       "      <td>False</td>\n",
       "      <td>100</td>\n",
       "      <td>True</td>\n",
       "    </tr>\n",
       "    <tr>\n",
       "      <th>Park</th>\n",
       "      <td>False</td>\n",
       "      <td>False</td>\n",
       "      <td>False</td>\n",
       "      <td>210</td>\n",
       "      <td>True</td>\n",
       "    </tr>\n",
       "    <tr>\n",
       "      <th>Yoon</th>\n",
       "      <td>False</td>\n",
       "      <td>False</td>\n",
       "      <td>False</td>\n",
       "      <td>0</td>\n",
       "      <td>False</td>\n",
       "    </tr>\n",
       "  </tbody>\n",
       "</table>\n",
       "</div>"
      ],
      "text/plain": [
       "        짱절미  셀스타그램     우산  follower   like\n",
       "name                                      \n",
       "Kang   True  False  False         0   True\n",
       "Kim   False  False  False         0  False\n",
       "Choi  False   True  False       100   True\n",
       "Park  False  False  False       210   True\n",
       "Yoon  False  False  False         0  False"
      ]
     },
     "execution_count": 2,
     "metadata": {},
     "output_type": "execute_result"
    }
   ],
   "source": [
    "data = {\n",
    "    'name': [\"Kang\", \"Kim\", \"Choi\", \"Park\", \"Yoon\"],\n",
    "    '짱절미': [True, False, False, False, False],\n",
    "    '셀스타그램': [False, False, True, False, False],\n",
    "    '우산': [False, False, False, False, False],\n",
    "    'follower': [0, 0, 100, 210, 0],\n",
    "    'like': [True, False, True, True, False]\n",
    "}\n",
    "\n",
    "data = pd.DataFrame(data)\n",
    "data = data.set_index(\"name\")\n",
    "\n",
    "print(data.shape)\n",
    "data.head()"
   ]
  },
  {
   "cell_type": "markdown",
   "metadata": {},
   "source": [
    "## Preprocessing"
   ]
  },
  {
   "cell_type": "code",
   "execution_count": 3,
   "metadata": {},
   "outputs": [
    {
     "data": {
      "text/plain": [
       "'follower'"
      ]
     },
     "execution_count": 3,
     "metadata": {},
     "output_type": "execute_result"
    }
   ],
   "source": [
    "label_name = \"follower\"\n",
    "label_name"
   ]
  },
  {
   "cell_type": "code",
   "execution_count": 4,
   "metadata": {},
   "outputs": [
    {
     "data": {
      "text/plain": [
       "Index(['like', '셀스타그램', '우산', '짱절미'], dtype='object')"
      ]
     },
     "execution_count": 4,
     "metadata": {},
     "output_type": "execute_result"
    }
   ],
   "source": [
    "feature_names = data.columns.difference([label_name])\n",
    "feature_names"
   ]
  },
  {
   "cell_type": "markdown",
   "metadata": {},
   "source": [
    "## Prerequisites"
   ]
  },
  {
   "cell_type": "markdown",
   "metadata": {},
   "source": [
    "### Visualize Tree"
   ]
  },
  {
   "cell_type": "code",
   "execution_count": 5,
   "metadata": {},
   "outputs": [],
   "source": [
    "import graphviz\n",
    "from graphviz import Digraph\n",
    "\n",
    "def display_node(dot, key, node):\n",
    "    if node[\"leaf\"] == True:\n",
    "        probability = node['probability']\n",
    "        probability = round(probability, 4)\n",
    "        probability = str(probability)\n",
    "        \n",
    "        dot.node(key, probability)\n",
    "    else:\n",
    "        description = node['description']\n",
    "        dot.node(key, description)\n",
    "        \n",
    "        if \"left\" in node:\n",
    "            left_key = key + \"L\"\n",
    "            display_node(dot, left_key, node['left'])\n",
    "            dot.edge(key, left_key)\n",
    "\n",
    "        if \"right\" in node:\n",
    "            right_key = key + \"R\"\n",
    "            display_node(dot, right_key, node['right'])\n",
    "            dot.edge(key, right_key)\n",
    "\n",
    "def display_tree(tree):\n",
    "    dot = Digraph(comment='Decision Tree')\n",
    "\n",
    "    display_node(dot, \"Root\", tree)\n",
    "\n",
    "    return graphviz.Source(dot.source)"
   ]
  },
  {
   "cell_type": "markdown",
   "metadata": {},
   "source": [
    "### Predict"
   ]
  },
  {
   "cell_type": "code",
   "execution_count": 6,
   "metadata": {},
   "outputs": [],
   "source": [
    "def predict(data, node):\n",
    "    if node['leaf'] == True:\n",
    "        probability = node[\"probability\"]\n",
    "        result = dict(zip(data.index, len(data) * [probability]))\n",
    "    else:\n",
    "        condition = node['condition']\n",
    "        \n",
    "        left_data = data[condition(data)]\n",
    "        left_result = predict(left_data, node['left'])\n",
    "        \n",
    "        right_data = data[~condition(data)]\n",
    "        right_result = predict(right_data, node['right'])    \n",
    "    \n",
    "        return {**left_result, **right_result}\n",
    "\n",
    "    return result"
   ]
  },
  {
   "cell_type": "markdown",
   "metadata": {
    "collapsed": true
   },
   "source": [
    "## Prior Knowledge"
   ]
  },
  {
   "cell_type": "markdown",
   "metadata": {},
   "source": [
    "### Dictionary"
   ]
  },
  {
   "cell_type": "code",
   "execution_count": 7,
   "metadata": {},
   "outputs": [
    {
     "data": {
      "text/plain": [
       "{'apple': {'ko': '바나나', 'ja': 'ringo'},\n",
       " 'banana': {'ko': '바나나', 'ja': 'banana'}}"
      ]
     },
     "execution_count": 7,
     "metadata": {},
     "output_type": "execute_result"
    }
   ],
   "source": [
    "vocabulary = {\n",
    "    'apple': {\n",
    "        'ko': '바나나',\n",
    "        'ja': 'ringo'\n",
    "    },\n",
    "    'banana': {\n",
    "        'ko': '바나나',\n",
    "        'ja': 'banana'\n",
    "    }\n",
    "}\n",
    "\n",
    "vocabulary"
   ]
  },
  {
   "cell_type": "code",
   "execution_count": 8,
   "metadata": {},
   "outputs": [
    {
     "data": {
      "text/plain": [
       "'ringo'"
      ]
     },
     "execution_count": 8,
     "metadata": {},
     "output_type": "execute_result"
    }
   ],
   "source": [
    "vocabulary[\"apple\"]['ja']"
   ]
  },
  {
   "cell_type": "code",
   "execution_count": 9,
   "metadata": {},
   "outputs": [
    {
     "data": {
      "text/plain": [
       "'바나나'"
      ]
     },
     "execution_count": 9,
     "metadata": {},
     "output_type": "execute_result"
    }
   ],
   "source": [
    "vocabulary[\"banana\"]['ko']"
   ]
  },
  {
   "cell_type": "code",
   "execution_count": 10,
   "metadata": {},
   "outputs": [
    {
     "data": {
      "text/plain": [
       "('apple', {'ko': '바나나', 'ja': 'ringo'})"
      ]
     },
     "execution_count": 10,
     "metadata": {},
     "output_type": "execute_result"
    }
   ],
   "source": [
    "first_key = list(vocabulary.keys())[0]\n",
    "first_key, vocabulary[first_key]"
   ]
  },
  {
   "cell_type": "markdown",
   "metadata": {},
   "source": [
    "### Recursive Function"
   ]
  },
  {
   "cell_type": "code",
   "execution_count": 11,
   "metadata": {},
   "outputs": [],
   "source": [
    "# 3n + 1\n",
    "# 홀수면 3 * n + 1\n",
    "# 짝수면 n / 2\n",
    "# n이 1이면 종료"
   ]
  },
  {
   "cell_type": "code",
   "execution_count": 12,
   "metadata": {},
   "outputs": [
    {
     "name": "stdout",
     "output_type": "stream",
     "text": [
      "True\n",
      "True\n",
      "True\n",
      "True\n",
      "True\n"
     ]
    }
   ],
   "source": [
    "# def cycle(n):\n",
    "#     result = [n]\n",
    "    \n",
    "#     while True:\n",
    "#         if n == 1:\n",
    "#             break\n",
    "\n",
    "#         if n % 2 == 0:\n",
    "#             n = n / 2\n",
    "#         else:\n",
    "#             n = 3 * n + 1\n",
    "        \n",
    "#         result = result + [n]\n",
    "\n",
    "#     return result\n",
    "\n",
    "def cycle(n):\n",
    "    if n == 1:\n",
    "        return [n]\n",
    "    \n",
    "    if n % 2 == 0:\n",
    "        return [n] + cycle(n / 2)\n",
    "    else:\n",
    "        return [n] + cycle(3 * n + 1)\n",
    "\n",
    "print(cycle(1) == [1])\n",
    "print(cycle(2) == [2, 1])\n",
    "print(cycle(3) == [3, 10, 5, 16, 8, 4, 2, 1])\n",
    "print(cycle(4) == [4, 2, 1])\n",
    "print(cycle(5) == [5, 16, 8, 4, 2, 1])"
   ]
  },
  {
   "cell_type": "markdown",
   "metadata": {},
   "source": [
    "### Function + Lambda Function"
   ]
  },
  {
   "cell_type": "code",
   "execution_count": 13,
   "metadata": {},
   "outputs": [
    {
     "data": {
      "text/plain": [
       "12"
      ]
     },
     "execution_count": 13,
     "metadata": {},
     "output_type": "execute_result"
    }
   ],
   "source": [
    "def multiply(a, b):\n",
    "    return a * b\n",
    "    \n",
    "multiply(3, 4)"
   ]
  },
  {
   "cell_type": "code",
   "execution_count": 14,
   "metadata": {},
   "outputs": [
    {
     "data": {
      "text/plain": [
       "12"
      ]
     },
     "execution_count": 14,
     "metadata": {},
     "output_type": "execute_result"
    }
   ],
   "source": [
    "multiply = lambda a, b: a * b\n",
    "\n",
    "multiply(3, 4)"
   ]
  },
  {
   "cell_type": "markdown",
   "metadata": {},
   "source": [
    "### Closure"
   ]
  },
  {
   "cell_type": "code",
   "execution_count": 15,
   "metadata": {},
   "outputs": [],
   "source": [
    "def profile_generator(company):\n",
    "    def user_geneartor(name):\n",
    "        print(f\"Name = {name}, Company = {company}\")\n",
    "        \n",
    "    return user_geneartor"
   ]
  },
  {
   "cell_type": "code",
   "execution_count": 16,
   "metadata": {},
   "outputs": [
    {
     "name": "stdout",
     "output_type": "stream",
     "text": [
      "Name = 강성희, Company = DS School\n"
     ]
    }
   ],
   "source": [
    "generator = profile_generator(\"DS School\")\n",
    "\n",
    "generator(\"강성희\")"
   ]
  },
  {
   "cell_type": "markdown",
   "metadata": {},
   "source": [
    "## Implement a Decision Tree"
   ]
  },
  {
   "cell_type": "markdown",
   "metadata": {},
   "source": [
    "### Make Conditions"
   ]
  },
  {
   "cell_type": "code",
   "execution_count": 17,
   "metadata": {},
   "outputs": [],
   "source": [
    "def binary_condition(data, feature_name, value):\n",
    "    return data[feature_name] == value\n",
    "\n",
    "def continuous_condition(data, feature_name, value):\n",
    "    return data[feature_name] < value\n",
    "\n",
    "def make_condition(method, feature_name, value):\n",
    "    def call_condition(data):\n",
    "        return method(data, feature_name, value)\n",
    "    \n",
    "    return call_condition"
   ]
  },
  {
   "cell_type": "code",
   "execution_count": 18,
   "metadata": {},
   "outputs": [
    {
     "data": {
      "text/html": [
       "<div>\n",
       "<style scoped>\n",
       "    .dataframe tbody tr th:only-of-type {\n",
       "        vertical-align: middle;\n",
       "    }\n",
       "\n",
       "    .dataframe tbody tr th {\n",
       "        vertical-align: top;\n",
       "    }\n",
       "\n",
       "    .dataframe thead th {\n",
       "        text-align: right;\n",
       "    }\n",
       "</style>\n",
       "<table border=\"1\" class=\"dataframe\">\n",
       "  <thead>\n",
       "    <tr style=\"text-align: right;\">\n",
       "      <th></th>\n",
       "      <th>짱절미</th>\n",
       "      <th>셀스타그램</th>\n",
       "      <th>우산</th>\n",
       "      <th>follower</th>\n",
       "      <th>like</th>\n",
       "    </tr>\n",
       "    <tr>\n",
       "      <th>name</th>\n",
       "      <th></th>\n",
       "      <th></th>\n",
       "      <th></th>\n",
       "      <th></th>\n",
       "      <th></th>\n",
       "    </tr>\n",
       "  </thead>\n",
       "  <tbody>\n",
       "    <tr>\n",
       "      <th>Kang</th>\n",
       "      <td>True</td>\n",
       "      <td>False</td>\n",
       "      <td>False</td>\n",
       "      <td>0</td>\n",
       "      <td>True</td>\n",
       "    </tr>\n",
       "  </tbody>\n",
       "</table>\n",
       "</div>"
      ],
      "text/plain": [
       "       짱절미  셀스타그램     우산  follower  like\n",
       "name                                    \n",
       "Kang  True  False  False         0  True"
      ]
     },
     "execution_count": 18,
     "metadata": {},
     "output_type": "execute_result"
    }
   ],
   "source": [
    "condition = make_condition(binary_condition, \"짱절미\", True)\n",
    "data[condition(data)]"
   ]
  },
  {
   "cell_type": "code",
   "execution_count": 19,
   "metadata": {},
   "outputs": [
    {
     "data": {
      "text/html": [
       "<div>\n",
       "<style scoped>\n",
       "    .dataframe tbody tr th:only-of-type {\n",
       "        vertical-align: middle;\n",
       "    }\n",
       "\n",
       "    .dataframe tbody tr th {\n",
       "        vertical-align: top;\n",
       "    }\n",
       "\n",
       "    .dataframe thead th {\n",
       "        text-align: right;\n",
       "    }\n",
       "</style>\n",
       "<table border=\"1\" class=\"dataframe\">\n",
       "  <thead>\n",
       "    <tr style=\"text-align: right;\">\n",
       "      <th></th>\n",
       "      <th>짱절미</th>\n",
       "      <th>셀스타그램</th>\n",
       "      <th>우산</th>\n",
       "      <th>follower</th>\n",
       "      <th>like</th>\n",
       "    </tr>\n",
       "    <tr>\n",
       "      <th>name</th>\n",
       "      <th></th>\n",
       "      <th></th>\n",
       "      <th></th>\n",
       "      <th></th>\n",
       "      <th></th>\n",
       "    </tr>\n",
       "  </thead>\n",
       "  <tbody>\n",
       "    <tr>\n",
       "      <th>Kang</th>\n",
       "      <td>True</td>\n",
       "      <td>False</td>\n",
       "      <td>False</td>\n",
       "      <td>0</td>\n",
       "      <td>True</td>\n",
       "    </tr>\n",
       "    <tr>\n",
       "      <th>Kim</th>\n",
       "      <td>False</td>\n",
       "      <td>False</td>\n",
       "      <td>False</td>\n",
       "      <td>0</td>\n",
       "      <td>False</td>\n",
       "    </tr>\n",
       "    <tr>\n",
       "      <th>Choi</th>\n",
       "      <td>False</td>\n",
       "      <td>True</td>\n",
       "      <td>False</td>\n",
       "      <td>100</td>\n",
       "      <td>True</td>\n",
       "    </tr>\n",
       "    <tr>\n",
       "      <th>Yoon</th>\n",
       "      <td>False</td>\n",
       "      <td>False</td>\n",
       "      <td>False</td>\n",
       "      <td>0</td>\n",
       "      <td>False</td>\n",
       "    </tr>\n",
       "  </tbody>\n",
       "</table>\n",
       "</div>"
      ],
      "text/plain": [
       "        짱절미  셀스타그램     우산  follower   like\n",
       "name                                      \n",
       "Kang   True  False  False         0   True\n",
       "Kim   False  False  False         0  False\n",
       "Choi  False   True  False       100   True\n",
       "Yoon  False  False  False         0  False"
      ]
     },
     "execution_count": 19,
     "metadata": {},
     "output_type": "execute_result"
    }
   ],
   "source": [
    "condition = make_condition(continuous_condition, \"follower\", 150)\n",
    "data[condition(data)]"
   ]
  },
  {
   "cell_type": "code",
   "execution_count": 20,
   "metadata": {},
   "outputs": [],
   "source": [
    "def make_condition_list(data, feature_names):\n",
    "    condition_list = {}\n",
    "\n",
    "    for feature_name in feature_names:\n",
    "        if data[feature_name].dtype == \"bool\":\n",
    "            description = f\"{feature_name} == True\"\n",
    "            condition = make_condition(binary_condition, feature_name, True)\n",
    "\n",
    "            condition_list[description] = condition\n",
    "        else:\n",
    "            values = data[feature_name].unique()\n",
    "            values = values[1:-1]\n",
    "\n",
    "            for value in values:\n",
    "                description = f\"{feature_name} < {value}\"\n",
    "                condition = make_condition(continuous_condition, feature_name, value)\n",
    "\n",
    "                condition_list[description] = condition\n",
    "\n",
    "    return condition_list"
   ]
  },
  {
   "cell_type": "code",
   "execution_count": 21,
   "metadata": {},
   "outputs": [
    {
     "data": {
      "text/plain": [
       "{'like == True': <function __main__.make_condition.<locals>.call_condition(data)>,\n",
       " '셀스타그램 == True': <function __main__.make_condition.<locals>.call_condition(data)>,\n",
       " '우산 == True': <function __main__.make_condition.<locals>.call_condition(data)>,\n",
       " '짱절미 == True': <function __main__.make_condition.<locals>.call_condition(data)>}"
      ]
     },
     "execution_count": 21,
     "metadata": {},
     "output_type": "execute_result"
    }
   ],
   "source": [
    "condition_list = make_condition_list(data, feature_names)\n",
    "condition_list"
   ]
  },
  {
   "cell_type": "markdown",
   "metadata": {},
   "source": [
    "### Evaluate Mean Squaed Error\n",
    "\n",
    "$$\n",
    "{\\displaystyle \\operatorname {MSE} ={\\frac {1}{n}}\\sum _{i=1}^{n}(p_{i}-{{a_{i}}})^{2}.}\n",
    "$$"
   ]
  },
  {
   "cell_type": "code",
   "execution_count": 22,
   "metadata": {},
   "outputs": [
    {
     "data": {
      "text/plain": [
       "6976.0"
      ]
     },
     "execution_count": 22,
     "metadata": {},
     "output_type": "execute_result"
    }
   ],
   "source": [
    "def evaluate_mse(data, label_name):\n",
    "    if len(data) == 0:\n",
    "        # return np.inf\n",
    "        return 999999\n",
    "\n",
    "    mean = data[label_name].mean()\n",
    "\n",
    "    mse = ((data[label_name] - mean) ** 2).mean()\n",
    "\n",
    "    return mse\n",
    "\n",
    "evaluate_mse(data, \"follower\")"
   ]
  },
  {
   "cell_type": "code",
   "execution_count": 23,
   "metadata": {},
   "outputs": [
    {
     "data": {
      "text/plain": [
       "6976.0"
      ]
     },
     "execution_count": 23,
     "metadata": {},
     "output_type": "execute_result"
    }
   ],
   "source": [
    "evaluate_mse(data, label_name)"
   ]
  },
  {
   "cell_type": "code",
   "execution_count": 24,
   "metadata": {},
   "outputs": [
    {
     "data": {
      "text/plain": [
       "999999"
      ]
     },
     "execution_count": 24,
     "metadata": {},
     "output_type": "execute_result"
    }
   ],
   "source": [
    "evaluate_mse([], label_name)"
   ]
  },
  {
   "cell_type": "code",
   "execution_count": 25,
   "metadata": {},
   "outputs": [],
   "source": [
    "def evaluate_average_mse(data, condition, label_name):\n",
    "    true_data = data[condition(data)]\n",
    "    false_data = data[~condition(data)]\n",
    "\n",
    "    true_mse = evaluate_mse(true_data, label_name)\n",
    "    false_mse = evaluate_mse(false_data, label_name)\n",
    "\n",
    "    mse = (len(true_data) * true_mse + len(false_data) * false_mse)\n",
    "    mse = mse / len(data)\n",
    "\n",
    "    return mse"
   ]
  },
  {
   "cell_type": "code",
   "execution_count": 26,
   "metadata": {},
   "outputs": [
    {
     "data": {
      "text/plain": [
       "6015.0"
      ]
     },
     "execution_count": 26,
     "metadata": {},
     "output_type": "execute_result"
    }
   ],
   "source": [
    "condition = make_condition(binary_condition, \"짱절미\", True)\n",
    "evaluate_average_mse(data, condition, label_name)"
   ]
  },
  {
   "cell_type": "code",
   "execution_count": 27,
   "metadata": {},
   "outputs": [
    {
     "data": {
      "text/plain": [
       "6615.0"
      ]
     },
     "execution_count": 27,
     "metadata": {},
     "output_type": "execute_result"
    }
   ],
   "source": [
    "condition = make_condition(binary_condition, \"셀스타그램\", True)\n",
    "evaluate_average_mse(data, condition, label_name)"
   ]
  },
  {
   "cell_type": "code",
   "execution_count": 28,
   "metadata": {},
   "outputs": [
    {
     "data": {
      "text/plain": [
       "6976.0"
      ]
     },
     "execution_count": 28,
     "metadata": {},
     "output_type": "execute_result"
    }
   ],
   "source": [
    "condition = make_condition(binary_condition, \"우산\", True)\n",
    "evaluate_average_mse(data, condition, label_name)"
   ]
  },
  {
   "cell_type": "code",
   "execution_count": 29,
   "metadata": {},
   "outputs": [
    {
     "data": {
      "text/plain": [
       "4413.333333333334"
      ]
     },
     "execution_count": 29,
     "metadata": {},
     "output_type": "execute_result"
    }
   ],
   "source": [
    "condition = make_condition(binary_condition, \"like\", True)\n",
    "evaluate_average_mse(data, condition, label_name)"
   ]
  },
  {
   "cell_type": "code",
   "execution_count": 30,
   "metadata": {},
   "outputs": [],
   "source": [
    "import numpy as np\n",
    "\n",
    "def find_best_condition(data, condition_list, label_name):\n",
    "    best_mse = np.inf\n",
    "    best_condition = None\n",
    "    best_description = None\n",
    "\n",
    "    for description, condition in condition_list.items():\n",
    "        mse = evaluate_average_mse(data, condition, label_name)\n",
    "\n",
    "        if mse < best_mse:\n",
    "            best_mse = mse\n",
    "            best_condition = condition\n",
    "            best_description = description\n",
    "\n",
    "    return best_condition, best_description, best_mse"
   ]
  },
  {
   "cell_type": "code",
   "execution_count": 31,
   "metadata": {},
   "outputs": [
    {
     "data": {
      "text/plain": [
       "(<function __main__.make_condition.<locals>.call_condition(data)>,\n",
       " '짱절미 == True',\n",
       " 6015.0)"
      ]
     },
     "execution_count": 31,
     "metadata": {},
     "output_type": "execute_result"
    }
   ],
   "source": [
    "condition1 = make_condition(binary_condition, \"짱절미\", True)\n",
    "condition2 = make_condition(binary_condition, \"셀스타그램\", True)\n",
    "condition3 = make_condition(binary_condition, \"우산\", True)\n",
    "\n",
    "condition_list = {\n",
    "    \"짱절미 == True\": condition1,\n",
    "    \"셀스타그램 == True\": condition2,\n",
    "    \"우산 == True\": condition3,\n",
    "}\n",
    "\n",
    "find_best_condition(data, condition_list, label_name)"
   ]
  },
  {
   "cell_type": "markdown",
   "metadata": {},
   "source": [
    "### Make a Tree"
   ]
  },
  {
   "cell_type": "code",
   "execution_count": 32,
   "metadata": {},
   "outputs": [
    {
     "data": {
      "image/svg+xml": [
       "<?xml version=\"1.0\" encoding=\"UTF-8\" standalone=\"no\"?>\r\n",
       "<!DOCTYPE svg PUBLIC \"-//W3C//DTD SVG 1.1//EN\"\r\n",
       " \"http://www.w3.org/Graphics/SVG/1.1/DTD/svg11.dtd\">\r\n",
       "<!-- Generated by graphviz version 2.38.0 (20140413.2041)\r\n",
       " -->\r\n",
       "<!-- Title: %3 Pages: 1 -->\r\n",
       "<svg width=\"250pt\" height=\"260pt\"\r\n",
       " viewBox=\"0.00 0.00 250.14 260.00\" xmlns=\"http://www.w3.org/2000/svg\" xmlns:xlink=\"http://www.w3.org/1999/xlink\">\r\n",
       "<g id=\"graph0\" class=\"graph\" transform=\"scale(1 1) rotate(0) translate(4 256)\">\r\n",
       "<title>%3</title>\r\n",
       "<polygon fill=\"white\" stroke=\"none\" points=\"-4,4 -4,-256 246.142,-256 246.142,4 -4,4\"/>\r\n",
       "<!-- Root -->\r\n",
       "<g id=\"node1\" class=\"node\"><title>Root</title>\r\n",
       "<ellipse fill=\"none\" stroke=\"black\" cx=\"148\" cy=\"-234\" rx=\"55.7903\" ry=\"18\"/>\r\n",
       "<text text-anchor=\"middle\" x=\"148\" y=\"-230.3\" font-family=\"Times New Roman,serif\" font-size=\"14.00\">like == True</text>\r\n",
       "</g>\r\n",
       "<!-- RootL -->\r\n",
       "<g id=\"node2\" class=\"node\"><title>RootL</title>\r\n",
       "<ellipse fill=\"none\" stroke=\"black\" cx=\"92\" cy=\"-162\" rx=\"68.4888\" ry=\"18\"/>\r\n",
       "<text text-anchor=\"middle\" x=\"92\" y=\"-158.3\" font-family=\"Times New Roman,serif\" font-size=\"14.00\">짱절미 == True</text>\r\n",
       "</g>\r\n",
       "<!-- Root&#45;&gt;RootL -->\r\n",
       "<g id=\"edge5\" class=\"edge\"><title>Root&#45;&gt;RootL</title>\r\n",
       "<path fill=\"none\" stroke=\"black\" d=\"M134.729,-216.411C127.924,-207.906 119.498,-197.372 111.931,-187.914\"/>\r\n",
       "<polygon fill=\"black\" stroke=\"black\" points=\"114.545,-185.578 105.565,-179.956 109.079,-189.951 114.545,-185.578\"/>\r\n",
       "</g>\r\n",
       "<!-- RootR -->\r\n",
       "<g id=\"node7\" class=\"node\"><title>RootR</title>\r\n",
       "<ellipse fill=\"none\" stroke=\"black\" cx=\"205\" cy=\"-162\" rx=\"27\" ry=\"18\"/>\r\n",
       "<text text-anchor=\"middle\" x=\"205\" y=\"-158.3\" font-family=\"Times New Roman,serif\" font-size=\"14.00\">0.0</text>\r\n",
       "</g>\r\n",
       "<!-- Root&#45;&gt;RootR -->\r\n",
       "<g id=\"edge6\" class=\"edge\"><title>Root&#45;&gt;RootR</title>\r\n",
       "<path fill=\"none\" stroke=\"black\" d=\"M161.508,-216.411C168.813,-207.441 177.954,-196.215 185.968,-186.373\"/>\r\n",
       "<polygon fill=\"black\" stroke=\"black\" points=\"188.769,-188.475 192.37,-178.511 183.341,-184.055 188.769,-188.475\"/>\r\n",
       "</g>\r\n",
       "<!-- RootLL -->\r\n",
       "<g id=\"node3\" class=\"node\"><title>RootLL</title>\r\n",
       "<ellipse fill=\"none\" stroke=\"black\" cx=\"27\" cy=\"-90\" rx=\"27\" ry=\"18\"/>\r\n",
       "<text text-anchor=\"middle\" x=\"27\" y=\"-86.3\" font-family=\"Times New Roman,serif\" font-size=\"14.00\">0.0</text>\r\n",
       "</g>\r\n",
       "<!-- RootL&#45;&gt;RootLL -->\r\n",
       "<g id=\"edge1\" class=\"edge\"><title>RootL&#45;&gt;RootLL</title>\r\n",
       "<path fill=\"none\" stroke=\"black\" d=\"M76.5959,-144.411C68.0645,-135.223 57.336,-123.67 48.0414,-113.66\"/>\r\n",
       "<polygon fill=\"black\" stroke=\"black\" points=\"50.3334,-110.985 40.9641,-106.038 45.2038,-115.748 50.3334,-110.985\"/>\r\n",
       "</g>\r\n",
       "<!-- RootLR -->\r\n",
       "<g id=\"node4\" class=\"node\"><title>RootLR</title>\r\n",
       "<ellipse fill=\"none\" stroke=\"black\" cx=\"157\" cy=\"-90\" rx=\"85.2851\" ry=\"18\"/>\r\n",
       "<text text-anchor=\"middle\" x=\"157\" y=\"-86.3\" font-family=\"Times New Roman,serif\" font-size=\"14.00\">셀스타그램 == True</text>\r\n",
       "</g>\r\n",
       "<!-- RootL&#45;&gt;RootLR -->\r\n",
       "<g id=\"edge4\" class=\"edge\"><title>RootL&#45;&gt;RootLR</title>\r\n",
       "<path fill=\"none\" stroke=\"black\" d=\"M107.404,-144.411C115.461,-135.734 125.479,-124.946 134.397,-115.342\"/>\r\n",
       "<polygon fill=\"black\" stroke=\"black\" points=\"137.015,-117.666 141.255,-107.956 131.886,-112.903 137.015,-117.666\"/>\r\n",
       "</g>\r\n",
       "<!-- RootLRL -->\r\n",
       "<g id=\"node5\" class=\"node\"><title>RootLRL</title>\r\n",
       "<ellipse fill=\"none\" stroke=\"black\" cx=\"117\" cy=\"-18\" rx=\"30.5947\" ry=\"18\"/>\r\n",
       "<text text-anchor=\"middle\" x=\"117\" y=\"-14.3\" font-family=\"Times New Roman,serif\" font-size=\"14.00\">100.0</text>\r\n",
       "</g>\r\n",
       "<!-- RootLR&#45;&gt;RootLRL -->\r\n",
       "<g id=\"edge2\" class=\"edge\"><title>RootLR&#45;&gt;RootLRL</title>\r\n",
       "<path fill=\"none\" stroke=\"black\" d=\"M147.317,-72.055C142.531,-63.6793 136.659,-53.4039 131.362,-44.1341\"/>\r\n",
       "<polygon fill=\"black\" stroke=\"black\" points=\"134.319,-42.2529 126.318,-35.307 128.241,-45.7259 134.319,-42.2529\"/>\r\n",
       "</g>\r\n",
       "<!-- RootLRR -->\r\n",
       "<g id=\"node6\" class=\"node\"><title>RootLRR</title>\r\n",
       "<ellipse fill=\"none\" stroke=\"black\" cx=\"196\" cy=\"-18\" rx=\"30.5947\" ry=\"18\"/>\r\n",
       "<text text-anchor=\"middle\" x=\"196\" y=\"-14.3\" font-family=\"Times New Roman,serif\" font-size=\"14.00\">210.0</text>\r\n",
       "</g>\r\n",
       "<!-- RootLR&#45;&gt;RootLRR -->\r\n",
       "<g id=\"edge3\" class=\"edge\"><title>RootLR&#45;&gt;RootLRR</title>\r\n",
       "<path fill=\"none\" stroke=\"black\" d=\"M166.441,-72.055C171.107,-63.6793 176.832,-53.4039 181.997,-44.1341\"/>\r\n",
       "<polygon fill=\"black\" stroke=\"black\" points=\"185.105,-45.7462 186.915,-35.307 178.99,-42.3392 185.105,-45.7462\"/>\r\n",
       "</g>\r\n",
       "</g>\r\n",
       "</svg>\r\n"
      ],
      "text/plain": [
       "<graphviz.files.Source at 0x22a1d7a4198>"
      ]
     },
     "execution_count": 32,
     "metadata": {},
     "output_type": "execute_result"
    }
   ],
   "source": [
    "max_depth = None\n",
    "min_sample_split = 2\n",
    "\n",
    "def make_node(data, label_name, condition_list, current_mse, current_depth):\n",
    "    condition = (len(condition_list) != 0)\n",
    "    sample = (len(data) >= min_sample_split)\n",
    "    depth = (max_depth == None) or (current_depth < max_depth)\n",
    "    \n",
    "    if condition and sample and depth:\n",
    "        condition, description, mse = \\\n",
    "            find_best_condition(data, condition_list, label_name)\n",
    "\n",
    "        left_data = data[condition(data)]\n",
    "        right_data = data[~condition(data)]\n",
    "        \n",
    "        if mse < current_mse and len(left_data) != 0 and len(right_data) != 0:\n",
    "            node = {'leaf': False, 'description': description, 'condition': condition}\n",
    "\n",
    "            del condition_list[description]\n",
    "\n",
    "            node['left'] = make_node(left_data, label_name, condition_list.copy(), mse, current_depth + 1)\n",
    "            node['right'] = make_node(right_data, label_name, condition_list.copy(), mse, current_depth + 1)\n",
    "\n",
    "            return node\n",
    "\n",
    "    probability = data[label_name].mean()\n",
    "    node = {'leaf': True, 'probability': probability}\n",
    "\n",
    "    return node\n",
    "\n",
    "    \n",
    "def make_tree(data, feature_names, label_name):\n",
    "    condition_list = make_condition_list(data, feature_names)\n",
    "\n",
    "    tree = make_node(data, label_name, condition_list, current_mse = 999999999, current_depth=0)\n",
    "\n",
    "    return tree\n",
    "\n",
    "tree = make_tree(data, feature_names, label_name)\n",
    "display_tree(tree)"
   ]
  },
  {
   "cell_type": "code",
   "execution_count": 33,
   "metadata": {},
   "outputs": [
    {
     "data": {
      "text/html": [
       "<div>\n",
       "<style scoped>\n",
       "    .dataframe tbody tr th:only-of-type {\n",
       "        vertical-align: middle;\n",
       "    }\n",
       "\n",
       "    .dataframe tbody tr th {\n",
       "        vertical-align: top;\n",
       "    }\n",
       "\n",
       "    .dataframe thead th {\n",
       "        text-align: right;\n",
       "    }\n",
       "</style>\n",
       "<table border=\"1\" class=\"dataframe\">\n",
       "  <thead>\n",
       "    <tr style=\"text-align: right;\">\n",
       "      <th></th>\n",
       "      <th>짱절미</th>\n",
       "      <th>셀스타그램</th>\n",
       "      <th>우산</th>\n",
       "      <th>follower</th>\n",
       "      <th>like</th>\n",
       "      <th>follower(predict)</th>\n",
       "    </tr>\n",
       "    <tr>\n",
       "      <th>name</th>\n",
       "      <th></th>\n",
       "      <th></th>\n",
       "      <th></th>\n",
       "      <th></th>\n",
       "      <th></th>\n",
       "      <th></th>\n",
       "    </tr>\n",
       "  </thead>\n",
       "  <tbody>\n",
       "    <tr>\n",
       "      <th>Kang</th>\n",
       "      <td>True</td>\n",
       "      <td>False</td>\n",
       "      <td>False</td>\n",
       "      <td>0</td>\n",
       "      <td>True</td>\n",
       "      <td>0.0</td>\n",
       "    </tr>\n",
       "    <tr>\n",
       "      <th>Kim</th>\n",
       "      <td>False</td>\n",
       "      <td>False</td>\n",
       "      <td>False</td>\n",
       "      <td>0</td>\n",
       "      <td>False</td>\n",
       "      <td>0.0</td>\n",
       "    </tr>\n",
       "    <tr>\n",
       "      <th>Choi</th>\n",
       "      <td>False</td>\n",
       "      <td>True</td>\n",
       "      <td>False</td>\n",
       "      <td>100</td>\n",
       "      <td>True</td>\n",
       "      <td>100.0</td>\n",
       "    </tr>\n",
       "    <tr>\n",
       "      <th>Park</th>\n",
       "      <td>False</td>\n",
       "      <td>False</td>\n",
       "      <td>False</td>\n",
       "      <td>210</td>\n",
       "      <td>True</td>\n",
       "      <td>210.0</td>\n",
       "    </tr>\n",
       "    <tr>\n",
       "      <th>Yoon</th>\n",
       "      <td>False</td>\n",
       "      <td>False</td>\n",
       "      <td>False</td>\n",
       "      <td>0</td>\n",
       "      <td>False</td>\n",
       "      <td>0.0</td>\n",
       "    </tr>\n",
       "  </tbody>\n",
       "</table>\n",
       "</div>"
      ],
      "text/plain": [
       "        짱절미  셀스타그램     우산  follower   like  follower(predict)\n",
       "name                                                         \n",
       "Kang   True  False  False         0   True                0.0\n",
       "Kim   False  False  False         0  False                0.0\n",
       "Choi  False   True  False       100   True              100.0\n",
       "Park  False  False  False       210   True              210.0\n",
       "Yoon  False  False  False         0  False                0.0"
      ]
     },
     "execution_count": 33,
     "metadata": {},
     "output_type": "execute_result"
    }
   ],
   "source": [
    "predictions = predict(data, tree)\n",
    "predictions = pd.Series(predictions)\n",
    "\n",
    "result = data.copy()\n",
    "result[\"follower(predict)\"] = predictions\n",
    "\n",
    "result"
   ]
  },
  {
   "cell_type": "markdown",
   "metadata": {
    "collapsed": true
   },
   "source": [
    "## Implement a Gradient Boosting Machine"
   ]
  },
  {
   "cell_type": "code",
   "execution_count": 35,
   "metadata": {
    "collapsed": true
   },
   "outputs": [],
   "source": [
    "def mse_loss_gradient(y_true, y_predicted):\n",
    "    return y_predicted - y_true"
   ]
  },
  {
   "cell_type": "code",
   "execution_count": 36,
   "metadata": {},
   "outputs": [
    {
     "data": {
      "text/plain": [
       "name\n",
       "Kang     62.0\n",
       "Kim      62.0\n",
       "Choi    -38.0\n",
       "Park   -148.0\n",
       "Yoon     62.0\n",
       "Name: follower, dtype: float64"
      ]
     },
     "execution_count": 36,
     "metadata": {},
     "output_type": "execute_result"
    }
   ],
   "source": [
    "y_predicted = data[label_name].mean()\n",
    "\n",
    "mse_loss_gradient(data[label_name], y_predicted)"
   ]
  },
  {
   "cell_type": "code",
   "execution_count": 38,
   "metadata": {},
   "outputs": [],
   "source": [
    "import numpy as np\n",
    "\n",
    "def make_boosting_tree(data, label_name, n_estimator, learning_rate):\n",
    "    result = data.copy()\n",
    "    \n",
    "    y_true = data[label_name]\n",
    "    y_predict = np.zeros(len(data))\n",
    "    \n",
    "    forest = []\n",
    "    \n",
    "    for i in range(n_estimator):\n",
    "        boosted_label_name = f\"follower(residual)({i})\"\n",
    "        \n",
    "        residual = -mse_loss_gradient(y_true, y_predict)\n",
    "        result[boosted_label_name] = residual\n",
    "        \n",
    "        tree = make_tree(result, feature_names, boosted_label_name)\n",
    "        \n",
    "        forest.append(tree)\n",
    "        \n",
    "        predictions = predict(data, tree)\n",
    "        predictions = pd.Series(predictions)\n",
    "        \n",
    "        y_predict = y_predict + learning_rate * predictions\n",
    "    \n",
    "    return forest, y_predict"
   ]
  },
  {
   "cell_type": "code",
   "execution_count": 39,
   "metadata": {},
   "outputs": [
    {
     "data": {
      "text/plain": [
       "Kang      0.000000\n",
       "Choi     99.997344\n",
       "Park    209.994422\n",
       "Kim       0.000000\n",
       "Yoon      0.000000\n",
       "dtype: float64"
      ]
     },
     "execution_count": 39,
     "metadata": {},
     "output_type": "execute_result"
    }
   ],
   "source": [
    "forest, result = make_boosting_tree(data, label_name, n_estimator=100, learning_rate=0.1)\n",
    "\n",
    "result"
   ]
  },
  {
   "cell_type": "code",
   "execution_count": 47,
   "metadata": {},
   "outputs": [],
   "source": [
    "def boosting_predict(data, forest, learning_rate):\n",
    "    total_predictions = np.zeros(len(data))\n",
    "    \n",
    "    for tree in forest:\n",
    "        predictions = predict(data, tree)\n",
    "        predictions = pd.Series(predictions)\n",
    "        \n",
    "        total_predictions = total_predictions + learning_rate * predictions\n",
    "        \n",
    "    return total_predictions"
   ]
  },
  {
   "cell_type": "code",
   "execution_count": 48,
   "metadata": {},
   "outputs": [
    {
     "data": {
      "text/plain": [
       "Kang      0.000000\n",
       "Choi     99.997344\n",
       "Park    209.994422\n",
       "Kim       0.000000\n",
       "Yoon      0.000000\n",
       "dtype: float64"
      ]
     },
     "execution_count": 48,
     "metadata": {},
     "output_type": "execute_result"
    }
   ],
   "source": [
    "predictions = boosting_predict(data, forest,learning_rate=0.1)\n",
    "predictions"
   ]
  },
  {
   "cell_type": "code",
   "execution_count": null,
   "metadata": {},
   "outputs": [],
   "source": []
  },
  {
   "cell_type": "code",
   "execution_count": null,
   "metadata": {},
   "outputs": [],
   "source": []
  },
  {
   "cell_type": "code",
   "execution_count": null,
   "metadata": {},
   "outputs": [],
   "source": []
  },
  {
   "cell_type": "code",
   "execution_count": null,
   "metadata": {},
   "outputs": [],
   "source": []
  },
  {
   "cell_type": "code",
   "execution_count": null,
   "metadata": {},
   "outputs": [],
   "source": []
  },
  {
   "cell_type": "code",
   "execution_count": null,
   "metadata": {},
   "outputs": [],
   "source": []
  }
 ],
 "metadata": {
  "kernelspec": {
   "display_name": "Python 3",
   "language": "python",
   "name": "python3"
  },
  "language_info": {
   "codemirror_mode": {
    "name": "ipython",
    "version": 3
   },
   "file_extension": ".py",
   "mimetype": "text/x-python",
   "name": "python",
   "nbconvert_exporter": "python",
   "pygments_lexer": "ipython3",
   "version": "3.6.5"
  }
 },
 "nbformat": 4,
 "nbformat_minor": 2
}
