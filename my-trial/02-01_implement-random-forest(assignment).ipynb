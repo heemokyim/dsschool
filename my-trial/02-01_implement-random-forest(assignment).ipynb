{
 "cells": [
  {
   "cell_type": "code",
   "execution_count": 1,
   "metadata": {},
   "outputs": [],
   "source": [
    "import pandas as pd"
   ]
  },
  {
   "cell_type": "markdown",
   "metadata": {},
   "source": [
    "## Load Dataset"
   ]
  },
  {
   "cell_type": "code",
   "execution_count": 2,
   "metadata": {},
   "outputs": [
    {
     "name": "stdout",
     "output_type": "stream",
     "text": [
      "(5, 5)\n"
     ]
    },
    {
     "data": {
      "text/html": [
       "<div>\n",
       "<style scoped>\n",
       "    .dataframe tbody tr th:only-of-type {\n",
       "        vertical-align: middle;\n",
       "    }\n",
       "\n",
       "    .dataframe tbody tr th {\n",
       "        vertical-align: top;\n",
       "    }\n",
       "\n",
       "    .dataframe thead th {\n",
       "        text-align: right;\n",
       "    }\n",
       "</style>\n",
       "<table border=\"1\" class=\"dataframe\">\n",
       "  <thead>\n",
       "    <tr style=\"text-align: right;\">\n",
       "      <th></th>\n",
       "      <th>짱절미</th>\n",
       "      <th>셀스타그램</th>\n",
       "      <th>우산</th>\n",
       "      <th>follower</th>\n",
       "      <th>like</th>\n",
       "    </tr>\n",
       "    <tr>\n",
       "      <th>name</th>\n",
       "      <th></th>\n",
       "      <th></th>\n",
       "      <th></th>\n",
       "      <th></th>\n",
       "      <th></th>\n",
       "    </tr>\n",
       "  </thead>\n",
       "  <tbody>\n",
       "    <tr>\n",
       "      <th>Kang</th>\n",
       "      <td>True</td>\n",
       "      <td>False</td>\n",
       "      <td>False</td>\n",
       "      <td>0</td>\n",
       "      <td>True</td>\n",
       "    </tr>\n",
       "    <tr>\n",
       "      <th>Kim</th>\n",
       "      <td>False</td>\n",
       "      <td>False</td>\n",
       "      <td>False</td>\n",
       "      <td>0</td>\n",
       "      <td>False</td>\n",
       "    </tr>\n",
       "    <tr>\n",
       "      <th>Choi</th>\n",
       "      <td>False</td>\n",
       "      <td>True</td>\n",
       "      <td>False</td>\n",
       "      <td>100</td>\n",
       "      <td>True</td>\n",
       "    </tr>\n",
       "    <tr>\n",
       "      <th>Park</th>\n",
       "      <td>False</td>\n",
       "      <td>False</td>\n",
       "      <td>False</td>\n",
       "      <td>210</td>\n",
       "      <td>True</td>\n",
       "    </tr>\n",
       "    <tr>\n",
       "      <th>Yoon</th>\n",
       "      <td>False</td>\n",
       "      <td>False</td>\n",
       "      <td>False</td>\n",
       "      <td>0</td>\n",
       "      <td>False</td>\n",
       "    </tr>\n",
       "  </tbody>\n",
       "</table>\n",
       "</div>"
      ],
      "text/plain": [
       "        짱절미  셀스타그램     우산  follower   like\n",
       "name                                      \n",
       "Kang   True  False  False         0   True\n",
       "Kim   False  False  False         0  False\n",
       "Choi  False   True  False       100   True\n",
       "Park  False  False  False       210   True\n",
       "Yoon  False  False  False         0  False"
      ]
     },
     "execution_count": 2,
     "metadata": {},
     "output_type": "execute_result"
    }
   ],
   "source": [
    "data = {\n",
    "    'name': [\"Kang\", \"Kim\", \"Choi\", \"Park\", \"Yoon\"],\n",
    "    '짱절미': [True, False, False, False, False],\n",
    "    '셀스타그램': [False, False, True, False, False],\n",
    "    '우산': [False, False, False, False, False],\n",
    "    'follower': [0, 0, 100, 210, 0],\n",
    "    'like': [True, False, True, True, False]\n",
    "}\n",
    "\n",
    "data = pd.DataFrame(data)\n",
    "data = data.set_index(\"name\")\n",
    "\n",
    "print(data.shape)\n",
    "data.head()"
   ]
  },
  {
   "cell_type": "markdown",
   "metadata": {},
   "source": [
    "## Preprocessing"
   ]
  },
  {
   "cell_type": "code",
   "execution_count": 3,
   "metadata": {},
   "outputs": [
    {
     "data": {
      "text/plain": [
       "'like'"
      ]
     },
     "execution_count": 3,
     "metadata": {},
     "output_type": "execute_result"
    }
   ],
   "source": [
    "label_name = \"like\"\n",
    "label_name"
   ]
  },
  {
   "cell_type": "code",
   "execution_count": 4,
   "metadata": {},
   "outputs": [
    {
     "data": {
      "text/plain": [
       "Index(['follower', '셀스타그램', '우산', '짱절미'], dtype='object')"
      ]
     },
     "execution_count": 4,
     "metadata": {},
     "output_type": "execute_result"
    }
   ],
   "source": [
    "feature_names = data.columns.difference([label_name])\n",
    "feature_names"
   ]
  },
  {
   "cell_type": "markdown",
   "metadata": {},
   "source": [
    "## Prerequisites"
   ]
  },
  {
   "cell_type": "markdown",
   "metadata": {},
   "source": [
    "### Visualize Tree"
   ]
  },
  {
   "cell_type": "code",
   "execution_count": 5,
   "metadata": {},
   "outputs": [],
   "source": [
    "import graphviz\n",
    "from graphviz import Digraph\n",
    "\n",
    "def display_node(dot, key, node):\n",
    "    if node[\"leaf\"] == True:\n",
    "        probability = node['probability']\n",
    "        probability = round(probability, 4)\n",
    "        probability = str(probability)\n",
    "        \n",
    "        dot.node(key, probability)\n",
    "    else:\n",
    "        description = node['description']\n",
    "        dot.node(key, description)\n",
    "        \n",
    "        if \"left\" in node:\n",
    "            left_key = key + \"L\"\n",
    "            display_node(dot, left_key, node['left'])\n",
    "            dot.edge(key, left_key)\n",
    "\n",
    "        if \"right\" in node:\n",
    "            right_key = key + \"R\"\n",
    "            display_node(dot, right_key, node['right'])\n",
    "            dot.edge(key, right_key)\n",
    "\n",
    "def display_tree(tree):\n",
    "    dot = Digraph(comment='Decision Tree')\n",
    "\n",
    "    display_node(dot, \"Root\", tree)\n",
    "\n",
    "    return graphviz.Source(dot.source)"
   ]
  },
  {
   "cell_type": "markdown",
   "metadata": {},
   "source": [
    "### Predict"
   ]
  },
  {
   "cell_type": "code",
   "execution_count": 6,
   "metadata": {},
   "outputs": [],
   "source": [
    "def predict(data, node):\n",
    "    if node['leaf'] == True:\n",
    "        probability = node[\"probability\"]\n",
    "        result = dict(zip(data.index, len(data) * [probability]))\n",
    "    else:\n",
    "        condition = node['condition']\n",
    "        \n",
    "        left_data = data[condition(data)]\n",
    "        left_result = predict(left_data, node['left'])\n",
    "        \n",
    "        right_data = data[~condition(data)]\n",
    "        right_result = predict(right_data, node['right'])    \n",
    "    \n",
    "        return {**left_result, **right_result}\n",
    "\n",
    "    return result"
   ]
  },
  {
   "cell_type": "markdown",
   "metadata": {},
   "source": [
    "## Implement a Decision Tree"
   ]
  },
  {
   "cell_type": "markdown",
   "metadata": {},
   "source": [
    "### Make Conditions"
   ]
  },
  {
   "cell_type": "code",
   "execution_count": 17,
   "metadata": {},
   "outputs": [],
   "source": [
    "def binary_condition(data, feature_name, value):\n",
    "    return data[feature_name] == value\n",
    "\n",
    "def continuous_condition(data, feature_name, value):\n",
    "    return data[feature_name] < value\n",
    "\n",
    "def make_condition(method, feature_name, value):\n",
    "    def call_condition(data):\n",
    "        return method(data, feature_name, value)\n",
    "    \n",
    "    return call_condition"
   ]
  },
  {
   "cell_type": "code",
   "execution_count": 18,
   "metadata": {},
   "outputs": [
    {
     "data": {
      "text/html": [
       "<div>\n",
       "<style scoped>\n",
       "    .dataframe tbody tr th:only-of-type {\n",
       "        vertical-align: middle;\n",
       "    }\n",
       "\n",
       "    .dataframe tbody tr th {\n",
       "        vertical-align: top;\n",
       "    }\n",
       "\n",
       "    .dataframe thead th {\n",
       "        text-align: right;\n",
       "    }\n",
       "</style>\n",
       "<table border=\"1\" class=\"dataframe\">\n",
       "  <thead>\n",
       "    <tr style=\"text-align: right;\">\n",
       "      <th></th>\n",
       "      <th>짱절미</th>\n",
       "      <th>셀스타그램</th>\n",
       "      <th>우산</th>\n",
       "      <th>follower</th>\n",
       "      <th>like</th>\n",
       "    </tr>\n",
       "    <tr>\n",
       "      <th>name</th>\n",
       "      <th></th>\n",
       "      <th></th>\n",
       "      <th></th>\n",
       "      <th></th>\n",
       "      <th></th>\n",
       "    </tr>\n",
       "  </thead>\n",
       "  <tbody>\n",
       "    <tr>\n",
       "      <th>Kang</th>\n",
       "      <td>True</td>\n",
       "      <td>False</td>\n",
       "      <td>False</td>\n",
       "      <td>0</td>\n",
       "      <td>True</td>\n",
       "    </tr>\n",
       "  </tbody>\n",
       "</table>\n",
       "</div>"
      ],
      "text/plain": [
       "       짱절미  셀스타그램     우산  follower  like\n",
       "name                                    \n",
       "Kang  True  False  False         0  True"
      ]
     },
     "execution_count": 18,
     "metadata": {},
     "output_type": "execute_result"
    }
   ],
   "source": [
    "condition = make_condition(binary_condition, \"짱절미\", True)\n",
    "data[condition(data)]"
   ]
  },
  {
   "cell_type": "code",
   "execution_count": 19,
   "metadata": {},
   "outputs": [
    {
     "data": {
      "text/html": [
       "<div>\n",
       "<style scoped>\n",
       "    .dataframe tbody tr th:only-of-type {\n",
       "        vertical-align: middle;\n",
       "    }\n",
       "\n",
       "    .dataframe tbody tr th {\n",
       "        vertical-align: top;\n",
       "    }\n",
       "\n",
       "    .dataframe thead th {\n",
       "        text-align: right;\n",
       "    }\n",
       "</style>\n",
       "<table border=\"1\" class=\"dataframe\">\n",
       "  <thead>\n",
       "    <tr style=\"text-align: right;\">\n",
       "      <th></th>\n",
       "      <th>짱절미</th>\n",
       "      <th>셀스타그램</th>\n",
       "      <th>우산</th>\n",
       "      <th>follower</th>\n",
       "      <th>like</th>\n",
       "    </tr>\n",
       "    <tr>\n",
       "      <th>name</th>\n",
       "      <th></th>\n",
       "      <th></th>\n",
       "      <th></th>\n",
       "      <th></th>\n",
       "      <th></th>\n",
       "    </tr>\n",
       "  </thead>\n",
       "  <tbody>\n",
       "    <tr>\n",
       "      <th>Kang</th>\n",
       "      <td>True</td>\n",
       "      <td>False</td>\n",
       "      <td>False</td>\n",
       "      <td>0</td>\n",
       "      <td>True</td>\n",
       "    </tr>\n",
       "    <tr>\n",
       "      <th>Kim</th>\n",
       "      <td>False</td>\n",
       "      <td>False</td>\n",
       "      <td>False</td>\n",
       "      <td>0</td>\n",
       "      <td>False</td>\n",
       "    </tr>\n",
       "    <tr>\n",
       "      <th>Choi</th>\n",
       "      <td>False</td>\n",
       "      <td>True</td>\n",
       "      <td>False</td>\n",
       "      <td>100</td>\n",
       "      <td>True</td>\n",
       "    </tr>\n",
       "    <tr>\n",
       "      <th>Yoon</th>\n",
       "      <td>False</td>\n",
       "      <td>False</td>\n",
       "      <td>False</td>\n",
       "      <td>0</td>\n",
       "      <td>False</td>\n",
       "    </tr>\n",
       "  </tbody>\n",
       "</table>\n",
       "</div>"
      ],
      "text/plain": [
       "        짱절미  셀스타그램     우산  follower   like\n",
       "name                                      \n",
       "Kang   True  False  False         0   True\n",
       "Kim   False  False  False         0  False\n",
       "Choi  False   True  False       100   True\n",
       "Yoon  False  False  False         0  False"
      ]
     },
     "execution_count": 19,
     "metadata": {},
     "output_type": "execute_result"
    }
   ],
   "source": [
    "condition = make_condition(continuous_condition, \"follower\", 150)\n",
    "data[condition(data)]"
   ]
  },
  {
   "cell_type": "code",
   "execution_count": 20,
   "metadata": {},
   "outputs": [],
   "source": [
    "def make_condition_list(data, feature_names):\n",
    "    condition_list = {}\n",
    "\n",
    "    for feature_name in feature_names:\n",
    "        if data[feature_name].dtype == \"bool\":\n",
    "            description = f\"{feature_name} == True\"\n",
    "            condition = make_condition(binary_condition, feature_name, True)\n",
    "\n",
    "            condition_list[description] = condition\n",
    "        else:\n",
    "            values = data[feature_name].unique()\n",
    "            values = values[1:-1]\n",
    "\n",
    "            for value in values:\n",
    "                description = f\"{feature_name} < {value}\"\n",
    "                condition = make_condition(continuous_condition, feature_name, value)\n",
    "\n",
    "                condition_list[description] = condition\n",
    "\n",
    "    return condition_list"
   ]
  },
  {
   "cell_type": "code",
   "execution_count": 21,
   "metadata": {},
   "outputs": [
    {
     "data": {
      "text/plain": [
       "{'follower < 100': <function __main__.make_condition.<locals>.call_condition(data)>,\n",
       " '셀스타그램 == True': <function __main__.make_condition.<locals>.call_condition(data)>,\n",
       " '우산 == True': <function __main__.make_condition.<locals>.call_condition(data)>,\n",
       " '짱절미 == True': <function __main__.make_condition.<locals>.call_condition(data)>}"
      ]
     },
     "execution_count": 21,
     "metadata": {},
     "output_type": "execute_result"
    }
   ],
   "source": [
    "condition_list = make_condition_list(data, feature_names)\n",
    "condition_list"
   ]
  },
  {
   "cell_type": "markdown",
   "metadata": {},
   "source": [
    "### Evaluate Gini Impurity\n",
    "\n",
    "$$\n",
    "{\\displaystyle I_{G}(p)=\\sum _{i=1}^{J}p_{i}(1-p_{i})=p_{t}(1-p_{t}) + p_{f}(1-p_{f})}\n",
    "$$"
   ]
  },
  {
   "cell_type": "code",
   "execution_count": 22,
   "metadata": {},
   "outputs": [],
   "source": [
    "def evaluate_gini_impurity(data, label_name):\n",
    "    if len(data) == 0:\n",
    "        return 0\n",
    "\n",
    "    true_probability = data[label_name].mean()\n",
    "    false_probability = 1 - true_probability\n",
    "\n",
    "    true_gini_impurity = true_probability * (1 - true_probability)\n",
    "    false_gini_impurity = false_probability * (1 - false_probability)\n",
    "\n",
    "    gini_impurity = true_gini_impurity + false_gini_impurity\n",
    "\n",
    "    return gini_impurity"
   ]
  },
  {
   "cell_type": "code",
   "execution_count": 23,
   "metadata": {},
   "outputs": [
    {
     "data": {
      "text/plain": [
       "0.48"
      ]
     },
     "execution_count": 23,
     "metadata": {},
     "output_type": "execute_result"
    }
   ],
   "source": [
    "evaluate_gini_impurity(data, label_name)"
   ]
  },
  {
   "cell_type": "code",
   "execution_count": 24,
   "metadata": {},
   "outputs": [
    {
     "data": {
      "text/plain": [
       "0"
      ]
     },
     "execution_count": 24,
     "metadata": {},
     "output_type": "execute_result"
    }
   ],
   "source": [
    "evaluate_gini_impurity([], label_name)"
   ]
  },
  {
   "cell_type": "code",
   "execution_count": 25,
   "metadata": {},
   "outputs": [],
   "source": [
    "def evaluate_average_gini_impurity(data, condition, label_name):\n",
    "    true_data = data[condition(data)]\n",
    "    false_data = data[~condition(data)]\n",
    "\n",
    "    true_impurity = evaluate_gini_impurity(true_data, label_name)\n",
    "    false_impurity = evaluate_gini_impurity(false_data, label_name)\n",
    "\n",
    "    gini_impurity = (len(true_data) * true_impurity + len(false_data) * false_impurity)\n",
    "    gini_impurity = gini_impurity / len(data)\n",
    "\n",
    "    return gini_impurity"
   ]
  },
  {
   "cell_type": "code",
   "execution_count": 26,
   "metadata": {},
   "outputs": [
    {
     "data": {
      "text/plain": [
       "0.4"
      ]
     },
     "execution_count": 26,
     "metadata": {},
     "output_type": "execute_result"
    }
   ],
   "source": [
    "condition = make_condition(binary_condition, \"짱절미\", True)\n",
    "evaluate_average_gini_impurity(data, condition, label_name)"
   ]
  },
  {
   "cell_type": "code",
   "execution_count": 27,
   "metadata": {},
   "outputs": [
    {
     "data": {
      "text/plain": [
       "0.4"
      ]
     },
     "execution_count": 27,
     "metadata": {},
     "output_type": "execute_result"
    }
   ],
   "source": [
    "condition = make_condition(binary_condition, \"셀스타그램\", True)\n",
    "evaluate_average_gini_impurity(data, condition, label_name)"
   ]
  },
  {
   "cell_type": "code",
   "execution_count": 28,
   "metadata": {},
   "outputs": [
    {
     "data": {
      "text/plain": [
       "0.48"
      ]
     },
     "execution_count": 28,
     "metadata": {},
     "output_type": "execute_result"
    }
   ],
   "source": [
    "condition = make_condition(binary_condition, \"우산\", True)\n",
    "evaluate_average_gini_impurity(data, condition, label_name)"
   ]
  },
  {
   "cell_type": "code",
   "execution_count": 29,
   "metadata": {},
   "outputs": [],
   "source": [
    "def find_best_condition(data, condition_list, label_name):\n",
    "    best_gini_impurity = 0.51\n",
    "    best_condition = None\n",
    "    best_description = None\n",
    "\n",
    "    for description, condition in condition_list.items():\n",
    "        gini_impurity = evaluate_average_gini_impurity(data, condition, label_name)\n",
    "\n",
    "        if gini_impurity < best_gini_impurity:\n",
    "            best_gini_impurity = gini_impurity\n",
    "            best_condition = condition\n",
    "            best_description = description\n",
    "\n",
    "    return best_condition, best_description, best_gini_impurity"
   ]
  },
  {
   "cell_type": "code",
   "execution_count": 30,
   "metadata": {},
   "outputs": [
    {
     "data": {
      "text/plain": [
       "(<function __main__.make_condition.<locals>.call_condition(data)>,\n",
       " '짱절미 == True',\n",
       " 0.4)"
      ]
     },
     "execution_count": 30,
     "metadata": {},
     "output_type": "execute_result"
    }
   ],
   "source": [
    "condition1 = make_condition(binary_condition, \"짱절미\", True)\n",
    "condition2 = make_condition(binary_condition, \"셀스타그램\", True)\n",
    "condition3 = make_condition(binary_condition, \"우산\", True)\n",
    "\n",
    "condition_list = {\n",
    "    \"짱절미 == True\": condition1,\n",
    "    \"셀스타그램 == True\": condition2,\n",
    "    \"우산 == True\": condition3,\n",
    "}\n",
    "\n",
    "find_best_condition(data, condition_list, label_name)"
   ]
  },
  {
   "cell_type": "markdown",
   "metadata": {},
   "source": [
    "### Make a Tree"
   ]
  },
  {
   "cell_type": "code",
   "execution_count": 31,
   "metadata": {},
   "outputs": [
    {
     "data": {
      "image/svg+xml": [
       "<?xml version=\"1.0\" encoding=\"UTF-8\" standalone=\"no\"?>\r\n",
       "<!DOCTYPE svg PUBLIC \"-//W3C//DTD SVG 1.1//EN\"\r\n",
       " \"http://www.w3.org/Graphics/SVG/1.1/DTD/svg11.dtd\">\r\n",
       "<!-- Generated by graphviz version 2.38.0 (20140413.2041)\r\n",
       " -->\r\n",
       "<!-- Title: %3 Pages: 1 -->\r\n",
       "<svg width=\"332pt\" height=\"188pt\"\r\n",
       " viewBox=\"0.00 0.00 332.39 188.00\" xmlns=\"http://www.w3.org/2000/svg\" xmlns:xlink=\"http://www.w3.org/1999/xlink\">\r\n",
       "<g id=\"graph0\" class=\"graph\" transform=\"scale(1 1) rotate(0) translate(4 184)\">\r\n",
       "<title>%3</title>\r\n",
       "<polygon fill=\"white\" stroke=\"none\" points=\"-4,4 -4,-184 328.386,-184 328.386,4 -4,4\"/>\r\n",
       "<!-- Root -->\r\n",
       "<g id=\"node1\" class=\"node\"><title>Root</title>\r\n",
       "<ellipse fill=\"none\" stroke=\"black\" cx=\"153.244\" cy=\"-162\" rx=\"63.8893\" ry=\"18\"/>\r\n",
       "<text text-anchor=\"middle\" x=\"153.244\" y=\"-158.3\" font-family=\"Times New Roman,serif\" font-size=\"14.00\">follower &lt; 100</text>\r\n",
       "</g>\r\n",
       "<!-- RootL -->\r\n",
       "<g id=\"node2\" class=\"node\"><title>RootL</title>\r\n",
       "<ellipse fill=\"none\" stroke=\"black\" cx=\"68.2439\" cy=\"-90\" rx=\"68.4888\" ry=\"18\"/>\r\n",
       "<text text-anchor=\"middle\" x=\"68.2439\" y=\"-86.3\" font-family=\"Times New Roman,serif\" font-size=\"14.00\">짱절미 == True</text>\r\n",
       "</g>\r\n",
       "<!-- Root&#45;&gt;RootL -->\r\n",
       "<g id=\"edge3\" class=\"edge\"><title>Root&#45;&gt;RootL</title>\r\n",
       "<path fill=\"none\" stroke=\"black\" d=\"M133.53,-144.765C122.346,-135.554 108.173,-123.882 95.8922,-113.769\"/>\r\n",
       "<polygon fill=\"black\" stroke=\"black\" points=\"98.0901,-111.045 88.1458,-107.39 93.6402,-116.449 98.0901,-111.045\"/>\r\n",
       "</g>\r\n",
       "<!-- RootR -->\r\n",
       "<g id=\"node5\" class=\"node\"><title>RootR</title>\r\n",
       "<ellipse fill=\"none\" stroke=\"black\" cx=\"239.244\" cy=\"-90\" rx=\"85.2851\" ry=\"18\"/>\r\n",
       "<text text-anchor=\"middle\" x=\"239.244\" y=\"-86.3\" font-family=\"Times New Roman,serif\" font-size=\"14.00\">셀스타그램 == True</text>\r\n",
       "</g>\r\n",
       "<!-- Root&#45;&gt;RootR -->\r\n",
       "<g id=\"edge6\" class=\"edge\"><title>Root&#45;&gt;RootR</title>\r\n",
       "<path fill=\"none\" stroke=\"black\" d=\"M173.19,-144.765C184.424,-135.621 198.639,-124.05 211.002,-113.988\"/>\r\n",
       "<polygon fill=\"black\" stroke=\"black\" points=\"213.262,-116.661 218.809,-107.633 208.844,-111.232 213.262,-116.661\"/>\r\n",
       "</g>\r\n",
       "<!-- RootLL -->\r\n",
       "<g id=\"node3\" class=\"node\"><title>RootLL</title>\r\n",
       "<ellipse fill=\"none\" stroke=\"black\" cx=\"46.2439\" cy=\"-18\" rx=\"27\" ry=\"18\"/>\r\n",
       "<text text-anchor=\"middle\" x=\"46.2439\" y=\"-14.3\" font-family=\"Times New Roman,serif\" font-size=\"14.00\">1.0</text>\r\n",
       "</g>\r\n",
       "<!-- RootL&#45;&gt;RootLL -->\r\n",
       "<g id=\"edge1\" class=\"edge\"><title>RootL&#45;&gt;RootLL</title>\r\n",
       "<path fill=\"none\" stroke=\"black\" d=\"M62.8057,-71.6966C60.3547,-63.8979 57.4038,-54.5085 54.676,-45.8292\"/>\r\n",
       "<polygon fill=\"black\" stroke=\"black\" points=\"57.9569,-44.5949 51.6196,-36.1043 51.2789,-46.6937 57.9569,-44.5949\"/>\r\n",
       "</g>\r\n",
       "<!-- RootLR -->\r\n",
       "<g id=\"node4\" class=\"node\"><title>RootLR</title>\r\n",
       "<ellipse fill=\"none\" stroke=\"black\" cx=\"118.244\" cy=\"-18\" rx=\"27\" ry=\"18\"/>\r\n",
       "<text text-anchor=\"middle\" x=\"118.244\" y=\"-14.3\" font-family=\"Times New Roman,serif\" font-size=\"14.00\">0.0</text>\r\n",
       "</g>\r\n",
       "<!-- RootL&#45;&gt;RootLR -->\r\n",
       "<g id=\"edge2\" class=\"edge\"><title>RootL&#45;&gt;RootLR</title>\r\n",
       "<path fill=\"none\" stroke=\"black\" d=\"M80.3475,-72.055C86.5433,-63.3808 94.1944,-52.6694 100.996,-43.1473\"/>\r\n",
       "<polygon fill=\"black\" stroke=\"black\" points=\"103.973,-45.0011 106.937,-34.8294 98.2767,-40.9324 103.973,-45.0011\"/>\r\n",
       "</g>\r\n",
       "<!-- RootRL -->\r\n",
       "<g id=\"node6\" class=\"node\"><title>RootRL</title>\r\n",
       "<ellipse fill=\"none\" stroke=\"black\" cx=\"214.244\" cy=\"-18\" rx=\"27\" ry=\"18\"/>\r\n",
       "<text text-anchor=\"middle\" x=\"214.244\" y=\"-14.3\" font-family=\"Times New Roman,serif\" font-size=\"14.00\">1.0</text>\r\n",
       "</g>\r\n",
       "<!-- RootR&#45;&gt;RootRL -->\r\n",
       "<g id=\"edge4\" class=\"edge\"><title>RootR&#45;&gt;RootRL</title>\r\n",
       "<path fill=\"none\" stroke=\"black\" d=\"M233.064,-71.6966C230.207,-63.6955 226.751,-54.02 223.585,-45.1548\"/>\r\n",
       "<polygon fill=\"black\" stroke=\"black\" points=\"226.84,-43.8625 220.18,-35.6223 220.248,-46.2169 226.84,-43.8625\"/>\r\n",
       "</g>\r\n",
       "<!-- RootRR -->\r\n",
       "<g id=\"node7\" class=\"node\"><title>RootRR</title>\r\n",
       "<ellipse fill=\"none\" stroke=\"black\" cx=\"286.244\" cy=\"-18\" rx=\"27\" ry=\"18\"/>\r\n",
       "<text text-anchor=\"middle\" x=\"286.244\" y=\"-14.3\" font-family=\"Times New Roman,serif\" font-size=\"14.00\">1.0</text>\r\n",
       "</g>\r\n",
       "<!-- RootR&#45;&gt;RootRR -->\r\n",
       "<g id=\"edge5\" class=\"edge\"><title>RootR&#45;&gt;RootRR</title>\r\n",
       "<path fill=\"none\" stroke=\"black\" d=\"M250.621,-72.055C256.445,-63.3808 263.637,-52.6694 270.031,-43.1473\"/>\r\n",
       "<polygon fill=\"black\" stroke=\"black\" points=\"272.947,-45.0827 275.616,-34.8294 267.135,-41.1806 272.947,-45.0827\"/>\r\n",
       "</g>\r\n",
       "</g>\r\n",
       "</svg>\r\n"
      ],
      "text/plain": [
       "<graphviz.files.Source at 0x2da2f8b5e80>"
      ]
     },
     "execution_count": 31,
     "metadata": {},
     "output_type": "execute_result"
    }
   ],
   "source": [
    "max_depth = None\n",
    "min_sample_split = 2\n",
    "\n",
    "def make_node(data, condition_list, current_gini, current_depth):\n",
    "    condition = (len(condition_list) != 0)\n",
    "    sample = (len(data) >= min_sample_split)\n",
    "    depth = (max_depth == None) or (current_depth < max_depth)\n",
    "    \n",
    "    if condition and sample and depth:\n",
    "        condition, description, gini = \\\n",
    "            find_best_condition(data, condition_list, label_name)\n",
    "\n",
    "        left_data = data[condition(data)]\n",
    "        right_data = data[~condition(data)]\n",
    "        \n",
    "        if gini < current_gini and len(left_data) != 0 and len(right_data) != 0:\n",
    "            node = {'leaf': False, 'description': description, 'condition': condition}\n",
    "\n",
    "            del condition_list[description]\n",
    "\n",
    "            node['left'] = make_node(left_data, condition_list.copy(), gini, current_depth + 1)\n",
    "            node['right'] = make_node(right_data, condition_list.copy(), gini, current_depth + 1)\n",
    "\n",
    "            return node\n",
    "\n",
    "    probability = data[label_name].mean()\n",
    "    node = {'leaf': True, 'probability': probability}\n",
    "\n",
    "    return node\n",
    "\n",
    "    \n",
    "def make_tree(data, feature_names):\n",
    "    condition_list = make_condition_list(data, feature_names)\n",
    "\n",
    "    tree = make_node(data, condition_list, current_gini = 0.51, current_depth=0)\n",
    "\n",
    "    return tree\n",
    "\n",
    "tree = make_tree(data, feature_names)\n",
    "display_tree(tree)"
   ]
  },
  {
   "cell_type": "code",
   "execution_count": 32,
   "metadata": {},
   "outputs": [
    {
     "data": {
      "text/html": [
       "<div>\n",
       "<style scoped>\n",
       "    .dataframe tbody tr th:only-of-type {\n",
       "        vertical-align: middle;\n",
       "    }\n",
       "\n",
       "    .dataframe tbody tr th {\n",
       "        vertical-align: top;\n",
       "    }\n",
       "\n",
       "    .dataframe thead th {\n",
       "        text-align: right;\n",
       "    }\n",
       "</style>\n",
       "<table border=\"1\" class=\"dataframe\">\n",
       "  <thead>\n",
       "    <tr style=\"text-align: right;\">\n",
       "      <th></th>\n",
       "      <th>짱절미</th>\n",
       "      <th>셀스타그램</th>\n",
       "      <th>우산</th>\n",
       "      <th>follower</th>\n",
       "      <th>like</th>\n",
       "      <th>like(predict)</th>\n",
       "    </tr>\n",
       "    <tr>\n",
       "      <th>name</th>\n",
       "      <th></th>\n",
       "      <th></th>\n",
       "      <th></th>\n",
       "      <th></th>\n",
       "      <th></th>\n",
       "      <th></th>\n",
       "    </tr>\n",
       "  </thead>\n",
       "  <tbody>\n",
       "    <tr>\n",
       "      <th>Kang</th>\n",
       "      <td>True</td>\n",
       "      <td>False</td>\n",
       "      <td>False</td>\n",
       "      <td>0</td>\n",
       "      <td>True</td>\n",
       "      <td>1.0</td>\n",
       "    </tr>\n",
       "    <tr>\n",
       "      <th>Kim</th>\n",
       "      <td>False</td>\n",
       "      <td>False</td>\n",
       "      <td>False</td>\n",
       "      <td>0</td>\n",
       "      <td>False</td>\n",
       "      <td>0.0</td>\n",
       "    </tr>\n",
       "    <tr>\n",
       "      <th>Choi</th>\n",
       "      <td>False</td>\n",
       "      <td>True</td>\n",
       "      <td>False</td>\n",
       "      <td>100</td>\n",
       "      <td>True</td>\n",
       "      <td>1.0</td>\n",
       "    </tr>\n",
       "    <tr>\n",
       "      <th>Park</th>\n",
       "      <td>False</td>\n",
       "      <td>False</td>\n",
       "      <td>False</td>\n",
       "      <td>210</td>\n",
       "      <td>True</td>\n",
       "      <td>1.0</td>\n",
       "    </tr>\n",
       "    <tr>\n",
       "      <th>Yoon</th>\n",
       "      <td>False</td>\n",
       "      <td>False</td>\n",
       "      <td>False</td>\n",
       "      <td>0</td>\n",
       "      <td>False</td>\n",
       "      <td>0.0</td>\n",
       "    </tr>\n",
       "  </tbody>\n",
       "</table>\n",
       "</div>"
      ],
      "text/plain": [
       "        짱절미  셀스타그램     우산  follower   like  like(predict)\n",
       "name                                                     \n",
       "Kang   True  False  False         0   True            1.0\n",
       "Kim   False  False  False         0  False            0.0\n",
       "Choi  False   True  False       100   True            1.0\n",
       "Park  False  False  False       210   True            1.0\n",
       "Yoon  False  False  False         0  False            0.0"
      ]
     },
     "execution_count": 32,
     "metadata": {},
     "output_type": "execute_result"
    }
   ],
   "source": [
    "predictions = predict(data, tree)\n",
    "predictions = pd.Series(predictions)\n",
    "\n",
    "result = data.copy()\n",
    "result[\"like(predict)\"] = predictions\n",
    "\n",
    "result"
   ]
  },
  {
   "cell_type": "markdown",
   "metadata": {
    "collapsed": true
   },
   "source": [
    "## Implement Random Forest"
   ]
  },
  {
   "cell_type": "markdown",
   "metadata": {
    "collapsed": true
   },
   "source": [
    "### Boostrap data"
   ]
  },
  {
   "cell_type": "code",
   "execution_count": 66,
   "metadata": {},
   "outputs": [],
   "source": [
    "# import numpy as np\n",
    "\n",
    "# def bootstrap(original_data):\n",
    "#     index = np.random.choice(original_data.index, size=len(data))\n",
    "#     return data.loc[index]\n",
    "\n",
    "# bootstrap(data)"
   ]
  },
  {
   "cell_type": "code",
   "execution_count": 75,
   "metadata": {},
   "outputs": [],
   "source": [
    "import numpy as np\n",
    "\n",
    "def bootstrap(data, feature_names, label_name, max_feature = None):\n",
    "    feature_data = data[feature_names]\n",
    "    \n",
    "    num_rows, num_cols = feature_data.shape\n",
    "    \n",
    "    index = np.random.choice(feature_data.index, size=num_rows, replace=True)\n",
    "    \n",
    "    if max_feature == None:\n",
    "        num_cols = np.sqrt(num_cols)\n",
    "    else:\n",
    "        num_cols = num_cols * max_feature\n",
    "    num_cols = int(num_cols)\n",
    "    \n",
    "    columns = np.random.choice(feature_data.columns, size=num_cols, replace=False)\n",
    "    \n",
    "    result = feature_data.loc[index, columns]\n",
    "    result[label_name] = data[label_name]\n",
    "    \n",
    "    return result"
   ]
  },
  {
   "cell_type": "code",
   "execution_count": 76,
   "metadata": {},
   "outputs": [
    {
     "data": {
      "text/html": [
       "<div>\n",
       "<style scoped>\n",
       "    .dataframe tbody tr th:only-of-type {\n",
       "        vertical-align: middle;\n",
       "    }\n",
       "\n",
       "    .dataframe tbody tr th {\n",
       "        vertical-align: top;\n",
       "    }\n",
       "\n",
       "    .dataframe thead th {\n",
       "        text-align: right;\n",
       "    }\n",
       "</style>\n",
       "<table border=\"1\" class=\"dataframe\">\n",
       "  <thead>\n",
       "    <tr style=\"text-align: right;\">\n",
       "      <th></th>\n",
       "      <th>우산</th>\n",
       "      <th>짱절미</th>\n",
       "      <th>셀스타그램</th>\n",
       "      <th>like</th>\n",
       "    </tr>\n",
       "    <tr>\n",
       "      <th>name</th>\n",
       "      <th></th>\n",
       "      <th></th>\n",
       "      <th></th>\n",
       "      <th></th>\n",
       "    </tr>\n",
       "  </thead>\n",
       "  <tbody>\n",
       "    <tr>\n",
       "      <th>Park</th>\n",
       "      <td>False</td>\n",
       "      <td>False</td>\n",
       "      <td>False</td>\n",
       "      <td>True</td>\n",
       "    </tr>\n",
       "    <tr>\n",
       "      <th>Park</th>\n",
       "      <td>False</td>\n",
       "      <td>False</td>\n",
       "      <td>False</td>\n",
       "      <td>True</td>\n",
       "    </tr>\n",
       "    <tr>\n",
       "      <th>Kim</th>\n",
       "      <td>False</td>\n",
       "      <td>False</td>\n",
       "      <td>False</td>\n",
       "      <td>False</td>\n",
       "    </tr>\n",
       "    <tr>\n",
       "      <th>Yoon</th>\n",
       "      <td>False</td>\n",
       "      <td>False</td>\n",
       "      <td>False</td>\n",
       "      <td>False</td>\n",
       "    </tr>\n",
       "    <tr>\n",
       "      <th>Yoon</th>\n",
       "      <td>False</td>\n",
       "      <td>False</td>\n",
       "      <td>False</td>\n",
       "      <td>False</td>\n",
       "    </tr>\n",
       "  </tbody>\n",
       "</table>\n",
       "</div>"
      ],
      "text/plain": [
       "         우산    짱절미  셀스타그램   like\n",
       "name                            \n",
       "Park  False  False  False   True\n",
       "Park  False  False  False   True\n",
       "Kim   False  False  False  False\n",
       "Yoon  False  False  False  False\n",
       "Yoon  False  False  False  False"
      ]
     },
     "execution_count": 76,
     "metadata": {},
     "output_type": "execute_result"
    }
   ],
   "source": [
    "bootstrap(data, feature_names, label_name, max_feature=0.8)"
   ]
  },
  {
   "cell_type": "markdown",
   "metadata": {},
   "source": [
    "### Make Forest"
   ]
  },
  {
   "cell_type": "code",
   "execution_count": 79,
   "metadata": {},
   "outputs": [],
   "source": [
    "def make_forest(data, n_estimators):\n",
    "    forest = []\n",
    "    for _ in range(n_estimators):\n",
    "        bootstraped_data = bootstrap(data, feature_names, label_name)\n",
    "        \n",
    "        bootstrapped_feature_names = bootstraped_data.columns.difference([label_name])\n",
    "        \n",
    "        tree = make_tree(bootstraped_data, bootstrapped_feature_names)\n",
    "        \n",
    "        forest.append(tree)\n",
    "    \n",
    "    return forest"
   ]
  },
  {
   "cell_type": "code",
   "execution_count": 87,
   "metadata": {},
   "outputs": [
    {
     "name": "stdout",
     "output_type": "stream",
     "text": [
      "100\n"
     ]
    },
    {
     "data": {
      "image/svg+xml": [
       "<?xml version=\"1.0\" encoding=\"UTF-8\" standalone=\"no\"?>\r\n",
       "<!DOCTYPE svg PUBLIC \"-//W3C//DTD SVG 1.1//EN\"\r\n",
       " \"http://www.w3.org/Graphics/SVG/1.1/DTD/svg11.dtd\">\r\n",
       "<!-- Generated by graphviz version 2.38.0 (20140413.2041)\r\n",
       " -->\r\n",
       "<!-- Title: %3 Pages: 1 -->\r\n",
       "<svg width=\"62pt\" height=\"44pt\"\r\n",
       " viewBox=\"0.00 0.00 62.00 44.00\" xmlns=\"http://www.w3.org/2000/svg\" xmlns:xlink=\"http://www.w3.org/1999/xlink\">\r\n",
       "<g id=\"graph0\" class=\"graph\" transform=\"scale(1 1) rotate(0) translate(4 40)\">\r\n",
       "<title>%3</title>\r\n",
       "<polygon fill=\"white\" stroke=\"none\" points=\"-4,4 -4,-40 58,-40 58,4 -4,4\"/>\r\n",
       "<!-- Root -->\r\n",
       "<g id=\"node1\" class=\"node\"><title>Root</title>\r\n",
       "<ellipse fill=\"none\" stroke=\"black\" cx=\"27\" cy=\"-18\" rx=\"27\" ry=\"18\"/>\r\n",
       "<text text-anchor=\"middle\" x=\"27\" y=\"-14.3\" font-family=\"Times New Roman,serif\" font-size=\"14.00\">0.2</text>\r\n",
       "</g>\r\n",
       "</g>\r\n",
       "</svg>\r\n"
      ],
      "text/plain": [
       "<graphviz.files.Source at 0x2da2fba8860>"
      ]
     },
     "execution_count": 87,
     "metadata": {},
     "output_type": "execute_result"
    }
   ],
   "source": [
    "forest = make_forest(data, n_estimators=100)\n",
    "\n",
    "print(len(forest))\n",
    "display_tree(forest[0])"
   ]
  },
  {
   "cell_type": "code",
   "execution_count": 88,
   "metadata": {},
   "outputs": [],
   "source": [
    "def predict_forest(data, forest):\n",
    "    prediction_total = []\n",
    "    \n",
    "    for tree in forest:\n",
    "        prediction = predict(data, tree)\n",
    "        prediction = pd.Series(prediction)\n",
    "        \n",
    "        prediction_total.append(prediction)\n",
    "    \n",
    "    prediction_total = pd.concat(prediction_total, sort=False, axis=1)\n",
    "    prediction_total = prediction_total.mean(axis=1)\n",
    "    \n",
    "    return prediction_total                               "
   ]
  },
  {
   "cell_type": "code",
   "execution_count": 89,
   "metadata": {},
   "outputs": [
    {
     "data": {
      "text/plain": [
       "Kang    0.641500\n",
       "Kim     0.479833\n",
       "Choi    0.684000\n",
       "Park    0.541500\n",
       "Yoon    0.479833\n",
       "dtype: float64"
      ]
     },
     "execution_count": 89,
     "metadata": {},
     "output_type": "execute_result"
    }
   ],
   "source": [
    "predict_forest(data, forest)"
   ]
  },
  {
   "cell_type": "code",
   "execution_count": null,
   "metadata": {},
   "outputs": [],
   "source": []
  },
  {
   "cell_type": "code",
   "execution_count": null,
   "metadata": {},
   "outputs": [],
   "source": []
  },
  {
   "cell_type": "code",
   "execution_count": null,
   "metadata": {},
   "outputs": [],
   "source": []
  },
  {
   "cell_type": "code",
   "execution_count": null,
   "metadata": {},
   "outputs": [],
   "source": []
  },
  {
   "cell_type": "code",
   "execution_count": null,
   "metadata": {},
   "outputs": [],
   "source": []
  },
  {
   "cell_type": "code",
   "execution_count": null,
   "metadata": {},
   "outputs": [],
   "source": []
  }
 ],
 "metadata": {
  "kernelspec": {
   "display_name": "Python 3",
   "language": "python",
   "name": "python3"
  },
  "language_info": {
   "codemirror_mode": {
    "name": "ipython",
    "version": 3
   },
   "file_extension": ".py",
   "mimetype": "text/x-python",
   "name": "python",
   "nbconvert_exporter": "python",
   "pygments_lexer": "ipython3",
   "version": "3.6.5"
  }
 },
 "nbformat": 4,
 "nbformat_minor": 2
}
