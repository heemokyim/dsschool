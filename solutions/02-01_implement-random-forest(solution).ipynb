{
 "cells": [
  {
   "cell_type": "code",
   "execution_count": 119,
   "metadata": {
    "collapsed": true
   },
   "outputs": [],
   "source": [
    "import pandas as pd"
   ]
  },
  {
   "cell_type": "markdown",
   "metadata": {},
   "source": [
    "## Load Dataset"
   ]
  },
  {
   "cell_type": "code",
   "execution_count": 120,
   "metadata": {},
   "outputs": [
    {
     "name": "stdout",
     "output_type": "stream",
     "text": [
      "(5, 5)\n"
     ]
    },
    {
     "data": {
      "text/html": [
       "<div>\n",
       "<style>\n",
       "    .dataframe thead tr:only-child th {\n",
       "        text-align: right;\n",
       "    }\n",
       "\n",
       "    .dataframe thead th {\n",
       "        text-align: left;\n",
       "    }\n",
       "\n",
       "    .dataframe tbody tr th {\n",
       "        vertical-align: top;\n",
       "    }\n",
       "</style>\n",
       "<table border=\"1\" class=\"dataframe\">\n",
       "  <thead>\n",
       "    <tr style=\"text-align: right;\">\n",
       "      <th></th>\n",
       "      <th>follower</th>\n",
       "      <th>like</th>\n",
       "      <th>셀스타그램</th>\n",
       "      <th>우산</th>\n",
       "      <th>짱절미</th>\n",
       "    </tr>\n",
       "    <tr>\n",
       "      <th>name</th>\n",
       "      <th></th>\n",
       "      <th></th>\n",
       "      <th></th>\n",
       "      <th></th>\n",
       "      <th></th>\n",
       "    </tr>\n",
       "  </thead>\n",
       "  <tbody>\n",
       "    <tr>\n",
       "      <th>Kang</th>\n",
       "      <td>0</td>\n",
       "      <td>True</td>\n",
       "      <td>False</td>\n",
       "      <td>False</td>\n",
       "      <td>True</td>\n",
       "    </tr>\n",
       "    <tr>\n",
       "      <th>Kim</th>\n",
       "      <td>0</td>\n",
       "      <td>False</td>\n",
       "      <td>False</td>\n",
       "      <td>False</td>\n",
       "      <td>False</td>\n",
       "    </tr>\n",
       "    <tr>\n",
       "      <th>Choi</th>\n",
       "      <td>100</td>\n",
       "      <td>True</td>\n",
       "      <td>True</td>\n",
       "      <td>False</td>\n",
       "      <td>False</td>\n",
       "    </tr>\n",
       "    <tr>\n",
       "      <th>Park</th>\n",
       "      <td>210</td>\n",
       "      <td>True</td>\n",
       "      <td>False</td>\n",
       "      <td>False</td>\n",
       "      <td>False</td>\n",
       "    </tr>\n",
       "    <tr>\n",
       "      <th>Yoon</th>\n",
       "      <td>0</td>\n",
       "      <td>False</td>\n",
       "      <td>False</td>\n",
       "      <td>False</td>\n",
       "      <td>False</td>\n",
       "    </tr>\n",
       "  </tbody>\n",
       "</table>\n",
       "</div>"
      ],
      "text/plain": [
       "      follower   like  셀스타그램     우산    짱절미\n",
       "name                                      \n",
       "Kang         0   True  False  False   True\n",
       "Kim          0  False  False  False  False\n",
       "Choi       100   True   True  False  False\n",
       "Park       210   True  False  False  False\n",
       "Yoon         0  False  False  False  False"
      ]
     },
     "execution_count": 120,
     "metadata": {},
     "output_type": "execute_result"
    }
   ],
   "source": [
    "data = {\n",
    "    'name': [\"Kang\", \"Kim\", \"Choi\", \"Park\", \"Yoon\"],\n",
    "    '짱절미': [True, False, False, False, False],\n",
    "    '셀스타그램': [False, False, True, False, False],\n",
    "    '우산': [False, False, False, False, False],\n",
    "    'follower': [0, 0, 100, 210, 0],\n",
    "    'like': [True, False, True, True, False]\n",
    "}\n",
    "\n",
    "data = pd.DataFrame(data)\n",
    "data = data.set_index(\"name\")\n",
    "\n",
    "print(data.shape)\n",
    "data.head()"
   ]
  },
  {
   "cell_type": "markdown",
   "metadata": {},
   "source": [
    "## Preprocessing"
   ]
  },
  {
   "cell_type": "code",
   "execution_count": 121,
   "metadata": {},
   "outputs": [
    {
     "data": {
      "text/plain": [
       "'like'"
      ]
     },
     "execution_count": 121,
     "metadata": {},
     "output_type": "execute_result"
    }
   ],
   "source": [
    "label_name = \"like\"\n",
    "label_name"
   ]
  },
  {
   "cell_type": "code",
   "execution_count": 122,
   "metadata": {},
   "outputs": [
    {
     "data": {
      "text/plain": [
       "Index(['follower', '셀스타그램', '우산', '짱절미'], dtype='object')"
      ]
     },
     "execution_count": 122,
     "metadata": {},
     "output_type": "execute_result"
    }
   ],
   "source": [
    "feature_names = data.columns.difference([label_name])\n",
    "feature_names"
   ]
  },
  {
   "cell_type": "markdown",
   "metadata": {},
   "source": [
    "## Prerequisites"
   ]
  },
  {
   "cell_type": "markdown",
   "metadata": {},
   "source": [
    "### Visualize Tree"
   ]
  },
  {
   "cell_type": "code",
   "execution_count": 123,
   "metadata": {
    "collapsed": true
   },
   "outputs": [],
   "source": [
    "import graphviz\n",
    "from graphviz import Digraph\n",
    "\n",
    "def display_node(dot, key, node):\n",
    "    if node[\"leaf\"] == True:\n",
    "        probability = node['probability']\n",
    "        probability = round(probability, 4)\n",
    "        probability = str(probability)\n",
    "        \n",
    "        dot.node(key, probability)\n",
    "    else:\n",
    "        description = node['description']\n",
    "        dot.node(key, description)\n",
    "        \n",
    "        if \"left\" in node:\n",
    "            left_key = key + \"L\"\n",
    "            display_node(dot, left_key, node['left'])\n",
    "            dot.edge(key, left_key)\n",
    "\n",
    "        if \"right\" in node:\n",
    "            right_key = key + \"R\"\n",
    "            display_node(dot, right_key, node['right'])\n",
    "            dot.edge(key, right_key)\n",
    "\n",
    "def display_tree(tree):\n",
    "    dot = Digraph(comment='Decision Tree')\n",
    "\n",
    "    display_node(dot, \"Root\", tree)\n",
    "\n",
    "    return graphviz.Source(dot.source)"
   ]
  },
  {
   "cell_type": "markdown",
   "metadata": {},
   "source": [
    "### Predict"
   ]
  },
  {
   "cell_type": "code",
   "execution_count": 124,
   "metadata": {
    "collapsed": true
   },
   "outputs": [],
   "source": [
    "def predict(data, node):\n",
    "    if node['leaf'] == True:\n",
    "        probability = node[\"probability\"]\n",
    "        result = dict(zip(data.index, len(data) * [probability]))\n",
    "    else:\n",
    "        condition = node['condition']\n",
    "        \n",
    "        left_data = data[condition(data)]\n",
    "        left_result = predict(left_data, node['left'])\n",
    "        \n",
    "        right_data = data[~condition(data)]\n",
    "        right_result = predict(right_data, node['right'])    \n",
    "    \n",
    "        return {**left_result, **right_result}\n",
    "\n",
    "    return result"
   ]
  },
  {
   "cell_type": "markdown",
   "metadata": {
    "collapsed": true
   },
   "source": [
    "## Prior Knowledge"
   ]
  },
  {
   "cell_type": "markdown",
   "metadata": {},
   "source": [
    "### Dictionary"
   ]
  },
  {
   "cell_type": "code",
   "execution_count": 125,
   "metadata": {},
   "outputs": [
    {
     "data": {
      "text/plain": [
       "{'apple': {'ja': 'ringo', 'ko': '바나나'},\n",
       " 'banana': {'ja': 'banana', 'ko': '바나나'}}"
      ]
     },
     "execution_count": 125,
     "metadata": {},
     "output_type": "execute_result"
    }
   ],
   "source": [
    "vocabulary = {\n",
    "    'apple': {\n",
    "        'ko': '바나나',\n",
    "        'ja': 'ringo'\n",
    "    },\n",
    "    'banana': {\n",
    "        'ko': '바나나',\n",
    "        'ja': 'banana'\n",
    "    }\n",
    "}\n",
    "\n",
    "vocabulary"
   ]
  },
  {
   "cell_type": "code",
   "execution_count": 126,
   "metadata": {},
   "outputs": [
    {
     "data": {
      "text/plain": [
       "'ringo'"
      ]
     },
     "execution_count": 126,
     "metadata": {},
     "output_type": "execute_result"
    }
   ],
   "source": [
    "vocabulary[\"apple\"]['ja']"
   ]
  },
  {
   "cell_type": "code",
   "execution_count": 127,
   "metadata": {},
   "outputs": [
    {
     "data": {
      "text/plain": [
       "'바나나'"
      ]
     },
     "execution_count": 127,
     "metadata": {},
     "output_type": "execute_result"
    }
   ],
   "source": [
    "vocabulary[\"banana\"]['ko']"
   ]
  },
  {
   "cell_type": "code",
   "execution_count": 128,
   "metadata": {},
   "outputs": [
    {
     "data": {
      "text/plain": [
       "('apple', {'ja': 'ringo', 'ko': '바나나'})"
      ]
     },
     "execution_count": 128,
     "metadata": {},
     "output_type": "execute_result"
    }
   ],
   "source": [
    "first_key = list(vocabulary.keys())[0]\n",
    "first_key, vocabulary[first_key]"
   ]
  },
  {
   "cell_type": "markdown",
   "metadata": {},
   "source": [
    "### Recursive Function"
   ]
  },
  {
   "cell_type": "code",
   "execution_count": 129,
   "metadata": {
    "collapsed": true
   },
   "outputs": [],
   "source": [
    "# 3n + 1\n",
    "# 홀수면 3 * n + 1\n",
    "# 짝수면 n / 2\n",
    "# n이 1이면 종료"
   ]
  },
  {
   "cell_type": "code",
   "execution_count": 130,
   "metadata": {},
   "outputs": [
    {
     "name": "stdout",
     "output_type": "stream",
     "text": [
      "True\n",
      "True\n",
      "True\n",
      "True\n",
      "True\n"
     ]
    }
   ],
   "source": [
    "# def cycle(n):\n",
    "#     result = [n]\n",
    "    \n",
    "#     while True:\n",
    "#         if n == 1:\n",
    "#             break\n",
    "\n",
    "#         if n % 2 == 0:\n",
    "#             n = n / 2\n",
    "#         else:\n",
    "#             n = 3 * n + 1\n",
    "        \n",
    "#         result = result + [n]\n",
    "\n",
    "#     return result\n",
    "\n",
    "def cycle(n):\n",
    "    if n == 1:\n",
    "        return [n]\n",
    "    \n",
    "    if n % 2 == 0:\n",
    "        return [n] + cycle(n / 2)\n",
    "    else:\n",
    "        return [n] + cycle(3 * n + 1)\n",
    "\n",
    "print(cycle(1) == [1])\n",
    "print(cycle(2) == [2, 1])\n",
    "print(cycle(3) == [3, 10, 5, 16, 8, 4, 2, 1])\n",
    "print(cycle(4) == [4, 2, 1])\n",
    "print(cycle(5) == [5, 16, 8, 4, 2, 1])"
   ]
  },
  {
   "cell_type": "markdown",
   "metadata": {},
   "source": [
    "### Function + Lambda Function"
   ]
  },
  {
   "cell_type": "code",
   "execution_count": 131,
   "metadata": {},
   "outputs": [
    {
     "data": {
      "text/plain": [
       "12"
      ]
     },
     "execution_count": 131,
     "metadata": {},
     "output_type": "execute_result"
    }
   ],
   "source": [
    "def multiply(a, b):\n",
    "    return a * b\n",
    "    \n",
    "multiply(3, 4)"
   ]
  },
  {
   "cell_type": "code",
   "execution_count": 132,
   "metadata": {},
   "outputs": [
    {
     "data": {
      "text/plain": [
       "12"
      ]
     },
     "execution_count": 132,
     "metadata": {},
     "output_type": "execute_result"
    }
   ],
   "source": [
    "multiply = lambda a, b: a * b\n",
    "\n",
    "multiply(3, 4)"
   ]
  },
  {
   "cell_type": "markdown",
   "metadata": {},
   "source": [
    "### Closure"
   ]
  },
  {
   "cell_type": "code",
   "execution_count": 133,
   "metadata": {
    "collapsed": true
   },
   "outputs": [],
   "source": [
    "def profile_generator(company):\n",
    "    def user_geneartor(name):\n",
    "        print(f\"Name = {name}, Company = {company}\")\n",
    "        \n",
    "    return user_geneartor"
   ]
  },
  {
   "cell_type": "code",
   "execution_count": 134,
   "metadata": {},
   "outputs": [
    {
     "name": "stdout",
     "output_type": "stream",
     "text": [
      "Name = 강성희, Company = DS School\n"
     ]
    }
   ],
   "source": [
    "generator = profile_generator(\"DS School\")\n",
    "\n",
    "generator(\"강성희\")"
   ]
  },
  {
   "cell_type": "markdown",
   "metadata": {},
   "source": [
    "## Implement a Decision Tree"
   ]
  },
  {
   "cell_type": "markdown",
   "metadata": {},
   "source": [
    "### Make Conditions"
   ]
  },
  {
   "cell_type": "code",
   "execution_count": 135,
   "metadata": {
    "collapsed": true
   },
   "outputs": [],
   "source": [
    "def binary_condition(data, feature_name, value):\n",
    "    return data[feature_name] == value\n",
    "\n",
    "def continuous_condition(data, feature_name, value):\n",
    "    return data[feature_name] < value\n",
    "\n",
    "def make_condition(method, feature_name, value):\n",
    "    def call_condition(data):\n",
    "        return method(data, feature_name, value)\n",
    "    \n",
    "    return call_condition"
   ]
  },
  {
   "cell_type": "code",
   "execution_count": 136,
   "metadata": {},
   "outputs": [
    {
     "data": {
      "text/html": [
       "<div>\n",
       "<style>\n",
       "    .dataframe thead tr:only-child th {\n",
       "        text-align: right;\n",
       "    }\n",
       "\n",
       "    .dataframe thead th {\n",
       "        text-align: left;\n",
       "    }\n",
       "\n",
       "    .dataframe tbody tr th {\n",
       "        vertical-align: top;\n",
       "    }\n",
       "</style>\n",
       "<table border=\"1\" class=\"dataframe\">\n",
       "  <thead>\n",
       "    <tr style=\"text-align: right;\">\n",
       "      <th></th>\n",
       "      <th>follower</th>\n",
       "      <th>like</th>\n",
       "      <th>셀스타그램</th>\n",
       "      <th>우산</th>\n",
       "      <th>짱절미</th>\n",
       "    </tr>\n",
       "    <tr>\n",
       "      <th>name</th>\n",
       "      <th></th>\n",
       "      <th></th>\n",
       "      <th></th>\n",
       "      <th></th>\n",
       "      <th></th>\n",
       "    </tr>\n",
       "  </thead>\n",
       "  <tbody>\n",
       "    <tr>\n",
       "      <th>Kang</th>\n",
       "      <td>0</td>\n",
       "      <td>True</td>\n",
       "      <td>False</td>\n",
       "      <td>False</td>\n",
       "      <td>True</td>\n",
       "    </tr>\n",
       "  </tbody>\n",
       "</table>\n",
       "</div>"
      ],
      "text/plain": [
       "      follower  like  셀스타그램     우산   짱절미\n",
       "name                                    \n",
       "Kang         0  True  False  False  True"
      ]
     },
     "execution_count": 136,
     "metadata": {},
     "output_type": "execute_result"
    }
   ],
   "source": [
    "condition = make_condition(binary_condition, \"짱절미\", True)\n",
    "data[condition(data)]"
   ]
  },
  {
   "cell_type": "code",
   "execution_count": 137,
   "metadata": {},
   "outputs": [
    {
     "data": {
      "text/html": [
       "<div>\n",
       "<style>\n",
       "    .dataframe thead tr:only-child th {\n",
       "        text-align: right;\n",
       "    }\n",
       "\n",
       "    .dataframe thead th {\n",
       "        text-align: left;\n",
       "    }\n",
       "\n",
       "    .dataframe tbody tr th {\n",
       "        vertical-align: top;\n",
       "    }\n",
       "</style>\n",
       "<table border=\"1\" class=\"dataframe\">\n",
       "  <thead>\n",
       "    <tr style=\"text-align: right;\">\n",
       "      <th></th>\n",
       "      <th>follower</th>\n",
       "      <th>like</th>\n",
       "      <th>셀스타그램</th>\n",
       "      <th>우산</th>\n",
       "      <th>짱절미</th>\n",
       "    </tr>\n",
       "    <tr>\n",
       "      <th>name</th>\n",
       "      <th></th>\n",
       "      <th></th>\n",
       "      <th></th>\n",
       "      <th></th>\n",
       "      <th></th>\n",
       "    </tr>\n",
       "  </thead>\n",
       "  <tbody>\n",
       "    <tr>\n",
       "      <th>Kang</th>\n",
       "      <td>0</td>\n",
       "      <td>True</td>\n",
       "      <td>False</td>\n",
       "      <td>False</td>\n",
       "      <td>True</td>\n",
       "    </tr>\n",
       "    <tr>\n",
       "      <th>Kim</th>\n",
       "      <td>0</td>\n",
       "      <td>False</td>\n",
       "      <td>False</td>\n",
       "      <td>False</td>\n",
       "      <td>False</td>\n",
       "    </tr>\n",
       "    <tr>\n",
       "      <th>Choi</th>\n",
       "      <td>100</td>\n",
       "      <td>True</td>\n",
       "      <td>True</td>\n",
       "      <td>False</td>\n",
       "      <td>False</td>\n",
       "    </tr>\n",
       "    <tr>\n",
       "      <th>Yoon</th>\n",
       "      <td>0</td>\n",
       "      <td>False</td>\n",
       "      <td>False</td>\n",
       "      <td>False</td>\n",
       "      <td>False</td>\n",
       "    </tr>\n",
       "  </tbody>\n",
       "</table>\n",
       "</div>"
      ],
      "text/plain": [
       "      follower   like  셀스타그램     우산    짱절미\n",
       "name                                      \n",
       "Kang         0   True  False  False   True\n",
       "Kim          0  False  False  False  False\n",
       "Choi       100   True   True  False  False\n",
       "Yoon         0  False  False  False  False"
      ]
     },
     "execution_count": 137,
     "metadata": {},
     "output_type": "execute_result"
    }
   ],
   "source": [
    "condition = make_condition(continuous_condition, \"follower\", 150)\n",
    "data[condition(data)]"
   ]
  },
  {
   "cell_type": "code",
   "execution_count": 138,
   "metadata": {
    "collapsed": true
   },
   "outputs": [],
   "source": [
    "def make_condition_list(data, feature_names):\n",
    "    condition_list = {}\n",
    "\n",
    "    for feature_name in feature_names:\n",
    "        if data[feature_name].dtype == \"bool\":\n",
    "            description = f\"{feature_name} == True\"\n",
    "            condition = make_condition(binary_condition, feature_name, True)\n",
    "\n",
    "            condition_list[description] = condition\n",
    "        else:\n",
    "            values = data[feature_name].unique()\n",
    "            values = values[1:-1]\n",
    "\n",
    "            for value in values:\n",
    "                description = f\"{feature_name} < {value}\"\n",
    "                condition = make_condition(continuous_condition, feature_name, value)\n",
    "\n",
    "                condition_list[description] = condition\n",
    "\n",
    "    return condition_list"
   ]
  },
  {
   "cell_type": "code",
   "execution_count": 139,
   "metadata": {},
   "outputs": [
    {
     "data": {
      "text/plain": [
       "{'follower < 100': <function __main__.make_condition.<locals>.call_condition>,\n",
       " '셀스타그램 == True': <function __main__.make_condition.<locals>.call_condition>,\n",
       " '우산 == True': <function __main__.make_condition.<locals>.call_condition>,\n",
       " '짱절미 == True': <function __main__.make_condition.<locals>.call_condition>}"
      ]
     },
     "execution_count": 139,
     "metadata": {},
     "output_type": "execute_result"
    }
   ],
   "source": [
    "condition_list = make_condition_list(data, feature_names)\n",
    "condition_list"
   ]
  },
  {
   "cell_type": "markdown",
   "metadata": {},
   "source": [
    "### Evaluate Gini Impurity\n",
    "\n",
    "$$\n",
    "{\\displaystyle I_{G}(p)=\\sum _{i=1}^{J}p_{i}(1-p_{i})=p_{t}(1-p_{t}) + p_{f}(1-p_{f})}\n",
    "$$"
   ]
  },
  {
   "cell_type": "code",
   "execution_count": 140,
   "metadata": {
    "collapsed": true
   },
   "outputs": [],
   "source": [
    "def evaluate_gini_impurity(data, label_name):\n",
    "    if len(data) == 0:\n",
    "        return 0\n",
    "\n",
    "    true_probability = data[label_name].mean()\n",
    "    false_probability = 1 - true_probability\n",
    "\n",
    "    true_gini_impurity = true_probability * (1 - true_probability)\n",
    "    false_gini_impurity = false_probability * (1 - false_probability)\n",
    "\n",
    "    gini_impurity = true_gini_impurity + false_gini_impurity\n",
    "\n",
    "    return gini_impurity"
   ]
  },
  {
   "cell_type": "code",
   "execution_count": 141,
   "metadata": {},
   "outputs": [
    {
     "data": {
      "text/plain": [
       "0.47999999999999998"
      ]
     },
     "execution_count": 141,
     "metadata": {},
     "output_type": "execute_result"
    }
   ],
   "source": [
    "evaluate_gini_impurity(data, label_name)"
   ]
  },
  {
   "cell_type": "code",
   "execution_count": 142,
   "metadata": {},
   "outputs": [
    {
     "data": {
      "text/plain": [
       "0"
      ]
     },
     "execution_count": 142,
     "metadata": {},
     "output_type": "execute_result"
    }
   ],
   "source": [
    "evaluate_gini_impurity([], label_name)"
   ]
  },
  {
   "cell_type": "code",
   "execution_count": 143,
   "metadata": {
    "collapsed": true
   },
   "outputs": [],
   "source": [
    "def evaluate_average_gini_impurity(data, condition, label_name):\n",
    "    true_data = data[condition(data)]\n",
    "    false_data = data[~condition(data)]\n",
    "\n",
    "    true_impurity = evaluate_gini_impurity(true_data, label_name)\n",
    "    false_impurity = evaluate_gini_impurity(false_data, label_name)\n",
    "\n",
    "    gini_impurity = (len(true_data) * true_impurity + len(false_data) * false_impurity)\n",
    "    gini_impurity = gini_impurity / len(data)\n",
    "\n",
    "    return gini_impurity"
   ]
  },
  {
   "cell_type": "code",
   "execution_count": 144,
   "metadata": {},
   "outputs": [
    {
     "data": {
      "text/plain": [
       "0.40000000000000002"
      ]
     },
     "execution_count": 144,
     "metadata": {},
     "output_type": "execute_result"
    }
   ],
   "source": [
    "condition = make_condition(binary_condition, \"짱절미\", True)\n",
    "evaluate_average_gini_impurity(data, condition, label_name)"
   ]
  },
  {
   "cell_type": "code",
   "execution_count": 145,
   "metadata": {},
   "outputs": [
    {
     "data": {
      "text/plain": [
       "0.40000000000000002"
      ]
     },
     "execution_count": 145,
     "metadata": {},
     "output_type": "execute_result"
    }
   ],
   "source": [
    "condition = make_condition(binary_condition, \"셀스타그램\", True)\n",
    "evaluate_average_gini_impurity(data, condition, label_name)"
   ]
  },
  {
   "cell_type": "code",
   "execution_count": 146,
   "metadata": {},
   "outputs": [
    {
     "data": {
      "text/plain": [
       "0.47999999999999998"
      ]
     },
     "execution_count": 146,
     "metadata": {},
     "output_type": "execute_result"
    }
   ],
   "source": [
    "condition = make_condition(binary_condition, \"우산\", True)\n",
    "evaluate_average_gini_impurity(data, condition, label_name)"
   ]
  },
  {
   "cell_type": "code",
   "execution_count": 147,
   "metadata": {
    "collapsed": true
   },
   "outputs": [],
   "source": [
    "def find_best_condition(data, condition_list, label_name):\n",
    "    best_gini_impurity = 0.51\n",
    "    best_condition = None\n",
    "    best_description = None\n",
    "\n",
    "    for description, condition in condition_list.items():\n",
    "        gini_impurity = evaluate_average_gini_impurity(data, condition, label_name)\n",
    "\n",
    "        if gini_impurity < best_gini_impurity:\n",
    "            best_gini_impurity = gini_impurity\n",
    "            best_condition = condition\n",
    "            best_description = description\n",
    "\n",
    "    return best_condition, best_description, best_gini_impurity"
   ]
  },
  {
   "cell_type": "code",
   "execution_count": 148,
   "metadata": {},
   "outputs": [
    {
     "data": {
      "text/plain": [
       "(<function __main__.make_condition.<locals>.call_condition>,\n",
       " '짱절미 == True',\n",
       " 0.40000000000000002)"
      ]
     },
     "execution_count": 148,
     "metadata": {},
     "output_type": "execute_result"
    }
   ],
   "source": [
    "condition1 = make_condition(binary_condition, \"짱절미\", True)\n",
    "condition2 = make_condition(binary_condition, \"셀스타그램\", True)\n",
    "condition3 = make_condition(binary_condition, \"우산\", True)\n",
    "\n",
    "condition_list = {\n",
    "    \"짱절미 == True\": condition1,\n",
    "    \"셀스타그램 == True\": condition2,\n",
    "    \"우산 == True\": condition3,\n",
    "}\n",
    "\n",
    "find_best_condition(data, condition_list, label_name)"
   ]
  },
  {
   "cell_type": "markdown",
   "metadata": {},
   "source": [
    "### Make a Tree"
   ]
  },
  {
   "cell_type": "code",
   "execution_count": 149,
   "metadata": {},
   "outputs": [
    {
     "data": {
      "image/svg+xml": [
       "<?xml version=\"1.0\" encoding=\"UTF-8\" standalone=\"no\"?>\n",
       "<!DOCTYPE svg PUBLIC \"-//W3C//DTD SVG 1.1//EN\"\n",
       " \"http://www.w3.org/Graphics/SVG/1.1/DTD/svg11.dtd\">\n",
       "<!-- Generated by graphviz version 2.38.0 (20140413.2041)\n",
       " -->\n",
       "<!-- Title: %3 Pages: 1 -->\n",
       "<svg width=\"356pt\" height=\"188pt\"\n",
       " viewBox=\"0.00 0.00 356.08 188.00\" xmlns=\"http://www.w3.org/2000/svg\" xmlns:xlink=\"http://www.w3.org/1999/xlink\">\n",
       "<g id=\"graph0\" class=\"graph\" transform=\"scale(1 1) rotate(0) translate(4 184)\">\n",
       "<title>%3</title>\n",
       "<polygon fill=\"white\" stroke=\"none\" points=\"-4,4 -4,-184 352.084,-184 352.084,4 -4,4\"/>\n",
       "<!-- Root -->\n",
       "<g id=\"node1\" class=\"node\"><title>Root</title>\n",
       "<ellipse fill=\"none\" stroke=\"black\" cx=\"163.956\" cy=\"-162\" rx=\"62.9812\" ry=\"18\"/>\n",
       "<text text-anchor=\"middle\" x=\"163.956\" y=\"-157.8\" font-family=\"Times,serif\" font-size=\"14.00\">follower &lt; 100</text>\n",
       "</g>\n",
       "<!-- RootL -->\n",
       "<g id=\"node2\" class=\"node\"><title>RootL</title>\n",
       "<ellipse fill=\"none\" stroke=\"black\" cx=\"72.9561\" cy=\"-90\" rx=\"72.9123\" ry=\"18\"/>\n",
       "<text text-anchor=\"middle\" x=\"72.9561\" y=\"-87.1112\" font-family=\"Times,serif\" font-size=\"14.00\">짱절미 == True</text>\n",
       "</g>\n",
       "<!-- Root&#45;&gt;RootL -->\n",
       "<g id=\"edge3\" class=\"edge\"><title>Root&#45;&gt;RootL</title>\n",
       "<path fill=\"none\" stroke=\"black\" d=\"M142.85,-144.765C130.877,-135.554 115.703,-123.882 102.556,-113.769\"/>\n",
       "<polygon fill=\"black\" stroke=\"black\" points=\"104.323,-110.713 94.2629,-107.39 100.055,-116.261 104.323,-110.713\"/>\n",
       "</g>\n",
       "<!-- RootR -->\n",
       "<g id=\"node5\" class=\"node\"><title>RootR</title>\n",
       "<ellipse fill=\"none\" stroke=\"black\" cx=\"255.956\" cy=\"-90\" rx=\"92.2563\" ry=\"18\"/>\n",
       "<text text-anchor=\"middle\" x=\"255.956\" y=\"-87.1112\" font-family=\"Times,serif\" font-size=\"14.00\">셀스타그램 == True</text>\n",
       "</g>\n",
       "<!-- Root&#45;&gt;RootR -->\n",
       "<g id=\"edge6\" class=\"edge\"><title>Root&#45;&gt;RootR</title>\n",
       "<path fill=\"none\" stroke=\"black\" d=\"M185.294,-144.765C197.426,-135.533 212.809,-123.83 226.121,-113.701\"/>\n",
       "<polygon fill=\"black\" stroke=\"black\" points=\"228.256,-116.474 234.095,-107.633 224.017,-110.903 228.256,-116.474\"/>\n",
       "</g>\n",
       "<!-- RootLL -->\n",
       "<g id=\"node3\" class=\"node\"><title>RootLL</title>\n",
       "<ellipse fill=\"none\" stroke=\"black\" cx=\"56.9561\" cy=\"-18\" rx=\"27\" ry=\"18\"/>\n",
       "<text text-anchor=\"middle\" x=\"56.9561\" y=\"-13.8\" font-family=\"Times,serif\" font-size=\"14.00\">1.0</text>\n",
       "</g>\n",
       "<!-- RootL&#45;&gt;RootLL -->\n",
       "<g id=\"edge1\" class=\"edge\"><title>RootL&#45;&gt;RootLL</title>\n",
       "<path fill=\"none\" stroke=\"black\" d=\"M69.0011,-71.6966C67.2379,-63.9827 65.119,-54.7125 63.1533,-46.1124\"/>\n",
       "<polygon fill=\"black\" stroke=\"black\" points=\"66.506,-45.073 60.8657,-36.1043 59.682,-46.6328 66.506,-45.073\"/>\n",
       "</g>\n",
       "<!-- RootLR -->\n",
       "<g id=\"node4\" class=\"node\"><title>RootLR</title>\n",
       "<ellipse fill=\"none\" stroke=\"black\" cx=\"128.956\" cy=\"-18\" rx=\"27\" ry=\"18\"/>\n",
       "<text text-anchor=\"middle\" x=\"128.956\" y=\"-13.8\" font-family=\"Times,serif\" font-size=\"14.00\">0.0</text>\n",
       "</g>\n",
       "<!-- RootL&#45;&gt;RootLR -->\n",
       "<g id=\"edge2\" class=\"edge\"><title>RootL&#45;&gt;RootLR</title>\n",
       "<path fill=\"none\" stroke=\"black\" d=\"M86.5122,-72.055C93.6224,-63.1672 102.444,-52.1404 110.2,-42.4457\"/>\n",
       "<polygon fill=\"black\" stroke=\"black\" points=\"113.157,-44.3515 116.671,-34.3564 107.691,-39.9787 113.157,-44.3515\"/>\n",
       "</g>\n",
       "<!-- RootRL -->\n",
       "<g id=\"node6\" class=\"node\"><title>RootRL</title>\n",
       "<ellipse fill=\"none\" stroke=\"black\" cx=\"227.956\" cy=\"-18\" rx=\"27\" ry=\"18\"/>\n",
       "<text text-anchor=\"middle\" x=\"227.956\" y=\"-13.8\" font-family=\"Times,serif\" font-size=\"14.00\">1.0</text>\n",
       "</g>\n",
       "<!-- RootR&#45;&gt;RootRL -->\n",
       "<g id=\"edge4\" class=\"edge\"><title>RootR&#45;&gt;RootRL</title>\n",
       "<path fill=\"none\" stroke=\"black\" d=\"M249.035,-71.6966C245.834,-63.6955 241.964,-54.02 238.418,-45.1548\"/>\n",
       "<polygon fill=\"black\" stroke=\"black\" points=\"241.569,-43.6072 234.605,-35.6223 235.069,-46.207 241.569,-43.6072\"/>\n",
       "</g>\n",
       "<!-- RootRR -->\n",
       "<g id=\"node7\" class=\"node\"><title>RootRR</title>\n",
       "<ellipse fill=\"none\" stroke=\"black\" cx=\"299.956\" cy=\"-18\" rx=\"27\" ry=\"18\"/>\n",
       "<text text-anchor=\"middle\" x=\"299.956\" y=\"-13.8\" font-family=\"Times,serif\" font-size=\"14.00\">1.0</text>\n",
       "</g>\n",
       "<!-- RootR&#45;&gt;RootRR -->\n",
       "<g id=\"edge5\" class=\"edge\"><title>RootR&#45;&gt;RootRR</title>\n",
       "<path fill=\"none\" stroke=\"black\" d=\"M266.607,-72.055C272.004,-63.4694 278.655,-52.8877 284.594,-43.4391\"/>\n",
       "<polygon fill=\"black\" stroke=\"black\" points=\"287.648,-45.1584 290.006,-34.8294 281.721,-41.4332 287.648,-45.1584\"/>\n",
       "</g>\n",
       "</g>\n",
       "</svg>\n"
      ],
      "text/plain": [
       "<graphviz.files.Source at 0x10d8e7ef0>"
      ]
     },
     "execution_count": 149,
     "metadata": {},
     "output_type": "execute_result"
    }
   ],
   "source": [
    "max_depth = None\n",
    "min_sample_split = 2\n",
    "\n",
    "def make_node(data, condition_list, current_gini, current_depth):\n",
    "    condition = (len(condition_list) != 0)\n",
    "    sample = (len(data) >= min_sample_split)\n",
    "    depth = (max_depth == None) or (current_depth < max_depth)\n",
    "    \n",
    "    if condition and sample and depth:\n",
    "        condition, description, gini = \\\n",
    "            find_best_condition(data, condition_list, label_name)\n",
    "\n",
    "        left_data = data[condition(data)]\n",
    "        right_data = data[~condition(data)]\n",
    "        \n",
    "        if gini < current_gini and len(left_data) != 0 and len(right_data) != 0:\n",
    "            node = {'leaf': False, 'description': description, 'condition': condition}\n",
    "\n",
    "            del condition_list[description]\n",
    "\n",
    "            node['left'] = make_node(left_data, condition_list.copy(), gini, current_depth + 1)\n",
    "            node['right'] = make_node(right_data, condition_list.copy(), gini, current_depth + 1)\n",
    "\n",
    "            return node\n",
    "\n",
    "    probability = data[label_name].mean()\n",
    "    node = {'leaf': True, 'probability': probability}\n",
    "\n",
    "    return node\n",
    "\n",
    "    \n",
    "def make_tree(data, feature_names):\n",
    "    condition_list = make_condition_list(data, feature_names)\n",
    "\n",
    "    tree = make_node(data, condition_list, current_gini = 0.51, current_depth=0)\n",
    "\n",
    "    return tree\n",
    "\n",
    "tree = make_tree(data, feature_names)\n",
    "display_tree(tree)"
   ]
  },
  {
   "cell_type": "code",
   "execution_count": 150,
   "metadata": {},
   "outputs": [
    {
     "data": {
      "text/html": [
       "<div>\n",
       "<style>\n",
       "    .dataframe thead tr:only-child th {\n",
       "        text-align: right;\n",
       "    }\n",
       "\n",
       "    .dataframe thead th {\n",
       "        text-align: left;\n",
       "    }\n",
       "\n",
       "    .dataframe tbody tr th {\n",
       "        vertical-align: top;\n",
       "    }\n",
       "</style>\n",
       "<table border=\"1\" class=\"dataframe\">\n",
       "  <thead>\n",
       "    <tr style=\"text-align: right;\">\n",
       "      <th></th>\n",
       "      <th>follower</th>\n",
       "      <th>like</th>\n",
       "      <th>셀스타그램</th>\n",
       "      <th>우산</th>\n",
       "      <th>짱절미</th>\n",
       "      <th>like(predict)</th>\n",
       "    </tr>\n",
       "    <tr>\n",
       "      <th>name</th>\n",
       "      <th></th>\n",
       "      <th></th>\n",
       "      <th></th>\n",
       "      <th></th>\n",
       "      <th></th>\n",
       "      <th></th>\n",
       "    </tr>\n",
       "  </thead>\n",
       "  <tbody>\n",
       "    <tr>\n",
       "      <th>Kang</th>\n",
       "      <td>0</td>\n",
       "      <td>True</td>\n",
       "      <td>False</td>\n",
       "      <td>False</td>\n",
       "      <td>True</td>\n",
       "      <td>1.0</td>\n",
       "    </tr>\n",
       "    <tr>\n",
       "      <th>Kim</th>\n",
       "      <td>0</td>\n",
       "      <td>False</td>\n",
       "      <td>False</td>\n",
       "      <td>False</td>\n",
       "      <td>False</td>\n",
       "      <td>0.0</td>\n",
       "    </tr>\n",
       "    <tr>\n",
       "      <th>Choi</th>\n",
       "      <td>100</td>\n",
       "      <td>True</td>\n",
       "      <td>True</td>\n",
       "      <td>False</td>\n",
       "      <td>False</td>\n",
       "      <td>1.0</td>\n",
       "    </tr>\n",
       "    <tr>\n",
       "      <th>Park</th>\n",
       "      <td>210</td>\n",
       "      <td>True</td>\n",
       "      <td>False</td>\n",
       "      <td>False</td>\n",
       "      <td>False</td>\n",
       "      <td>1.0</td>\n",
       "    </tr>\n",
       "    <tr>\n",
       "      <th>Yoon</th>\n",
       "      <td>0</td>\n",
       "      <td>False</td>\n",
       "      <td>False</td>\n",
       "      <td>False</td>\n",
       "      <td>False</td>\n",
       "      <td>0.0</td>\n",
       "    </tr>\n",
       "  </tbody>\n",
       "</table>\n",
       "</div>"
      ],
      "text/plain": [
       "      follower   like  셀스타그램     우산    짱절미  like(predict)\n",
       "name                                                     \n",
       "Kang         0   True  False  False   True            1.0\n",
       "Kim          0  False  False  False  False            0.0\n",
       "Choi       100   True   True  False  False            1.0\n",
       "Park       210   True  False  False  False            1.0\n",
       "Yoon         0  False  False  False  False            0.0"
      ]
     },
     "execution_count": 150,
     "metadata": {},
     "output_type": "execute_result"
    }
   ],
   "source": [
    "predictions = predict(data, tree)\n",
    "predictions = pd.Series(predictions)\n",
    "\n",
    "result = data.copy()\n",
    "result[\"like(predict)\"] = predictions\n",
    "\n",
    "result"
   ]
  },
  {
   "cell_type": "markdown",
   "metadata": {
    "collapsed": true
   },
   "source": [
    "## Implement a Random Forest"
   ]
  },
  {
   "cell_type": "markdown",
   "metadata": {
    "collapsed": true
   },
   "source": [
    "### Boostrap data"
   ]
  },
  {
   "cell_type": "code",
   "execution_count": 174,
   "metadata": {
    "collapsed": true
   },
   "outputs": [],
   "source": [
    "import numpy as np\n",
    "\n",
    "def bootstrap(original_data, feature_names, label_name, max_features=None):\n",
    "    data = original_data[feature_names]\n",
    "    \n",
    "    num_rows, num_columns = data.shape\n",
    "\n",
    "    if max_features == None:\n",
    "        num_columns = np.sqrt(num_columns)\n",
    "    else:\n",
    "        num_columns = num_columns * max_features\n",
    "\n",
    "    num_columns = round(num_columns)\n",
    "    num_columns = int(num_columns)\n",
    "\n",
    "    index = np.random.choice(data.index, size=num_rows, replace=True)\n",
    "    columns = np.random.choice(data.columns, size=num_columns, replace=False)\n",
    "    \n",
    "    data = data.loc[index, columns]\n",
    "    data[label_name] = original_data[label_name]\n",
    "    \n",
    "    return data"
   ]
  },
  {
   "cell_type": "code",
   "execution_count": 175,
   "metadata": {},
   "outputs": [
    {
     "data": {
      "text/html": [
       "<div>\n",
       "<style>\n",
       "    .dataframe thead tr:only-child th {\n",
       "        text-align: right;\n",
       "    }\n",
       "\n",
       "    .dataframe thead th {\n",
       "        text-align: left;\n",
       "    }\n",
       "\n",
       "    .dataframe tbody tr th {\n",
       "        vertical-align: top;\n",
       "    }\n",
       "</style>\n",
       "<table border=\"1\" class=\"dataframe\">\n",
       "  <thead>\n",
       "    <tr style=\"text-align: right;\">\n",
       "      <th></th>\n",
       "      <th>follower</th>\n",
       "      <th>셀스타그램</th>\n",
       "      <th>like</th>\n",
       "    </tr>\n",
       "    <tr>\n",
       "      <th>name</th>\n",
       "      <th></th>\n",
       "      <th></th>\n",
       "      <th></th>\n",
       "    </tr>\n",
       "  </thead>\n",
       "  <tbody>\n",
       "    <tr>\n",
       "      <th>Kang</th>\n",
       "      <td>0</td>\n",
       "      <td>False</td>\n",
       "      <td>True</td>\n",
       "    </tr>\n",
       "    <tr>\n",
       "      <th>Park</th>\n",
       "      <td>210</td>\n",
       "      <td>False</td>\n",
       "      <td>True</td>\n",
       "    </tr>\n",
       "    <tr>\n",
       "      <th>Park</th>\n",
       "      <td>210</td>\n",
       "      <td>False</td>\n",
       "      <td>True</td>\n",
       "    </tr>\n",
       "    <tr>\n",
       "      <th>Kim</th>\n",
       "      <td>0</td>\n",
       "      <td>False</td>\n",
       "      <td>False</td>\n",
       "    </tr>\n",
       "    <tr>\n",
       "      <th>Kim</th>\n",
       "      <td>0</td>\n",
       "      <td>False</td>\n",
       "      <td>False</td>\n",
       "    </tr>\n",
       "  </tbody>\n",
       "</table>\n",
       "</div>"
      ],
      "text/plain": [
       "      follower  셀스타그램   like\n",
       "name                        \n",
       "Kang         0  False   True\n",
       "Park       210  False   True\n",
       "Park       210  False   True\n",
       "Kim          0  False  False\n",
       "Kim          0  False  False"
      ]
     },
     "execution_count": 175,
     "metadata": {},
     "output_type": "execute_result"
    }
   ],
   "source": [
    "bootstrap(data, feature_names, label_name)"
   ]
  },
  {
   "cell_type": "markdown",
   "metadata": {},
   "source": [
    "### Make Forest"
   ]
  },
  {
   "cell_type": "code",
   "execution_count": 181,
   "metadata": {
    "collapsed": true
   },
   "outputs": [],
   "source": [
    "def make_forest(original_data, original_feature_names, label_name, n_estimators):\n",
    "    forest = []\n",
    "\n",
    "    for _ in range(n_estimators):\n",
    "        data = bootstrap(original_data, original_feature_names, label_name)\n",
    "        \n",
    "        feature_names = data.columns.difference([label_name])\n",
    "\n",
    "        tree = make_tree(data, feature_names)\n",
    "        \n",
    "        forest.append(tree)\n",
    "        \n",
    "    return forest"
   ]
  },
  {
   "cell_type": "code",
   "execution_count": 182,
   "metadata": {},
   "outputs": [
    {
     "data": {
      "image/svg+xml": [
       "<?xml version=\"1.0\" encoding=\"UTF-8\" standalone=\"no\"?>\n",
       "<!DOCTYPE svg PUBLIC \"-//W3C//DTD SVG 1.1//EN\"\n",
       " \"http://www.w3.org/Graphics/SVG/1.1/DTD/svg11.dtd\">\n",
       "<!-- Generated by graphviz version 2.38.0 (20140413.2041)\n",
       " -->\n",
       "<!-- Title: %3 Pages: 1 -->\n",
       "<svg width=\"148pt\" height=\"116pt\"\n",
       " viewBox=\"0.00 0.00 148.43 116.00\" xmlns=\"http://www.w3.org/2000/svg\" xmlns:xlink=\"http://www.w3.org/1999/xlink\">\n",
       "<g id=\"graph0\" class=\"graph\" transform=\"scale(1 1) rotate(0) translate(4 112)\">\n",
       "<title>%3</title>\n",
       "<polygon fill=\"white\" stroke=\"none\" points=\"-4,4 -4,-112 144.426,-112 144.426,4 -4,4\"/>\n",
       "<!-- Root -->\n",
       "<g id=\"node1\" class=\"node\"><title>Root</title>\n",
       "<ellipse fill=\"none\" stroke=\"black\" cx=\"73.4264\" cy=\"-90\" rx=\"62.9812\" ry=\"18\"/>\n",
       "<text text-anchor=\"middle\" x=\"73.4264\" y=\"-85.8\" font-family=\"Times,serif\" font-size=\"14.00\">follower &lt; 210</text>\n",
       "</g>\n",
       "<!-- RootL -->\n",
       "<g id=\"node2\" class=\"node\"><title>RootL</title>\n",
       "<ellipse fill=\"none\" stroke=\"black\" cx=\"34.4264\" cy=\"-18\" rx=\"34.3529\" ry=\"18\"/>\n",
       "<text text-anchor=\"middle\" x=\"34.4264\" y=\"-13.8\" font-family=\"Times,serif\" font-size=\"14.00\">0.6667</text>\n",
       "</g>\n",
       "<!-- Root&#45;&gt;RootL -->\n",
       "<g id=\"edge1\" class=\"edge\"><title>Root&#45;&gt;RootL</title>\n",
       "<path fill=\"none\" stroke=\"black\" d=\"M63.9855,-72.055C59.3867,-63.8006 53.76,-53.7014 48.6545,-44.5378\"/>\n",
       "<polygon fill=\"black\" stroke=\"black\" points=\"51.7048,-42.8212 43.7802,-35.789 45.5898,-46.2282 51.7048,-42.8212\"/>\n",
       "</g>\n",
       "<!-- RootR -->\n",
       "<g id=\"node3\" class=\"node\"><title>RootR</title>\n",
       "<ellipse fill=\"none\" stroke=\"black\" cx=\"113.426\" cy=\"-18\" rx=\"27\" ry=\"18\"/>\n",
       "<text text-anchor=\"middle\" x=\"113.426\" y=\"-13.8\" font-family=\"Times,serif\" font-size=\"14.00\">1.0</text>\n",
       "</g>\n",
       "<!-- Root&#45;&gt;RootR -->\n",
       "<g id=\"edge2\" class=\"edge\"><title>Root&#45;&gt;RootR</title>\n",
       "<path fill=\"none\" stroke=\"black\" d=\"M83.1092,-72.055C87.8953,-63.6793 93.767,-53.4039 99.064,-44.1341\"/>\n",
       "<polygon fill=\"black\" stroke=\"black\" points=\"102.185,-45.7259 104.108,-35.307 96.1078,-42.2529 102.185,-45.7259\"/>\n",
       "</g>\n",
       "</g>\n",
       "</svg>\n"
      ],
      "text/plain": [
       "<graphviz.files.Source at 0x10d6bdc50>"
      ]
     },
     "execution_count": 182,
     "metadata": {},
     "output_type": "execute_result"
    }
   ],
   "source": [
    "forest = make_forest(data, feature_names, label_name, n_estimators=100)\n",
    "\n",
    "display_tree(forest[0])"
   ]
  },
  {
   "cell_type": "code",
   "execution_count": 183,
   "metadata": {},
   "outputs": [
    {
     "data": {
      "text/plain": [
       "Choi    0.614167\n",
       "Kang    0.665833\n",
       "Kim     0.500833\n",
       "Park    0.525000\n",
       "Yoon    0.500833\n",
       "dtype: float64"
      ]
     },
     "execution_count": 183,
     "metadata": {},
     "output_type": "execute_result"
    }
   ],
   "source": [
    "def predict_forest(data, forest):\n",
    "    prediction_list = []\n",
    "\n",
    "    for tree in forest:\n",
    "        prediction = predict(data, tree)\n",
    "        prediction = pd.Series(prediction)\n",
    "        prediction_list.append(prediction)\n",
    "\n",
    "    prediction_list = pd.concat(prediction_list, axis=1)\n",
    "    prediction_list = prediction_list.mean(axis=1)\n",
    "\n",
    "    return prediction_list\n",
    "\n",
    "predict_forest(data, forest)"
   ]
  },
  {
   "cell_type": "code",
   "execution_count": null,
   "metadata": {
    "collapsed": true
   },
   "outputs": [],
   "source": []
  },
  {
   "cell_type": "code",
   "execution_count": null,
   "metadata": {
    "collapsed": true
   },
   "outputs": [],
   "source": []
  },
  {
   "cell_type": "code",
   "execution_count": null,
   "metadata": {
    "collapsed": true
   },
   "outputs": [],
   "source": []
  }
 ],
 "metadata": {
  "kernelspec": {
   "display_name": "Python 3",
   "language": "python",
   "name": "python3"
  },
  "language_info": {
   "codemirror_mode": {
    "name": "ipython",
    "version": 3
   },
   "file_extension": ".py",
   "mimetype": "text/x-python",
   "name": "python",
   "nbconvert_exporter": "python",
   "pygments_lexer": "ipython3",
   "version": "3.6.3"
  }
 },
 "nbformat": 4,
 "nbformat_minor": 2
}
