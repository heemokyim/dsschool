{
 "cells": [
  {
   "cell_type": "code",
   "execution_count": 1,
   "metadata": {
    "collapsed": true
   },
   "outputs": [],
   "source": [
    "import pandas as pd"
   ]
  },
  {
   "cell_type": "markdown",
   "metadata": {},
   "source": [
    "## Load Dataset"
   ]
  },
  {
   "cell_type": "code",
   "execution_count": null,
   "metadata": {},
   "outputs": [
    {
     "name": "stdout",
     "output_type": "stream",
     "text": [
      "(5, 5)\n"
     ]
    },
    {
     "data": {
      "text/html": [
       "<div>\n",
       "<style>\n",
       "    .dataframe thead tr:only-child th {\n",
       "        text-align: right;\n",
       "    }\n",
       "\n",
       "    .dataframe thead th {\n",
       "        text-align: left;\n",
       "    }\n",
       "\n",
       "    .dataframe tbody tr th {\n",
       "        vertical-align: top;\n",
       "    }\n",
       "</style>\n",
       "<table border=\"1\" class=\"dataframe\">\n",
       "  <thead>\n",
       "    <tr style=\"text-align: right;\">\n",
       "      <th></th>\n",
       "      <th>follower</th>\n",
       "      <th>like</th>\n",
       "      <th>셀스타그램</th>\n",
       "      <th>우산</th>\n",
       "      <th>짱절미</th>\n",
       "    </tr>\n",
       "    <tr>\n",
       "      <th>name</th>\n",
       "      <th></th>\n",
       "      <th></th>\n",
       "      <th></th>\n",
       "      <th></th>\n",
       "      <th></th>\n",
       "    </tr>\n",
       "  </thead>\n",
       "  <tbody>\n",
       "    <tr>\n",
       "      <th>Kang</th>\n",
       "      <td>0</td>\n",
       "      <td>True</td>\n",
       "      <td>False</td>\n",
       "      <td>False</td>\n",
       "      <td>True</td>\n",
       "    </tr>\n",
       "    <tr>\n",
       "      <th>Kim</th>\n",
       "      <td>0</td>\n",
       "      <td>False</td>\n",
       "      <td>False</td>\n",
       "      <td>False</td>\n",
       "      <td>False</td>\n",
       "    </tr>\n",
       "    <tr>\n",
       "      <th>Choi</th>\n",
       "      <td>100</td>\n",
       "      <td>True</td>\n",
       "      <td>True</td>\n",
       "      <td>False</td>\n",
       "      <td>False</td>\n",
       "    </tr>\n",
       "    <tr>\n",
       "      <th>Park</th>\n",
       "      <td>210</td>\n",
       "      <td>True</td>\n",
       "      <td>False</td>\n",
       "      <td>False</td>\n",
       "      <td>False</td>\n",
       "    </tr>\n",
       "    <tr>\n",
       "      <th>Yoon</th>\n",
       "      <td>0</td>\n",
       "      <td>False</td>\n",
       "      <td>False</td>\n",
       "      <td>False</td>\n",
       "      <td>False</td>\n",
       "    </tr>\n",
       "  </tbody>\n",
       "</table>\n",
       "</div>"
      ],
      "text/plain": [
       "      follower   like  셀스타그램     우산    짱절미\n",
       "name                                      \n",
       "Kang         0   True  False  False   True\n",
       "Kim          0  False  False  False  False\n",
       "Choi       100   True   True  False  False\n",
       "Park       210   True  False  False  False\n",
       "Yoon         0  False  False  False  False"
      ]
     },
     "execution_count": 2,
     "metadata": {},
     "output_type": "execute_result"
    }
   ],
   "source": [
    "data = {\n",
    "    'name': [\"Kang\", \"Kim\", \"Choi\", \"Park\", \"Yoon\"],\n",
    "    '짱절미': [True, False, False, False, False],\n",
    "    '셀스타그램': [False, False, True, False, False],\n",
    "    '우산': [False, False, False, False, False],\n",
    "    'follower': [0, 0, 100, 210, 0],\n",
    "    'like': [True, False, True, True, False]\n",
    "}\n",
    "\n",
    "data = pd.DataFrame(data)\n",
    "data = data.set_index(\"name\")\n",
    "\n",
    "print(data.shape)\n",
    "data.head()"
   ]
  },
  {
   "cell_type": "markdown",
   "metadata": {},
   "source": [
    "## Preprocessing"
   ]
  },
  {
   "cell_type": "code",
   "execution_count": null,
   "metadata": {
    "collapsed": true
   },
   "outputs": [],
   "source": [
    "label_name = \"follower\"\n",
    "label_name"
   ]
  },
  {
   "cell_type": "code",
   "execution_count": null,
   "metadata": {},
   "outputs": [
    {
     "data": {
      "text/plain": [
       "Index(['like', '셀스타그램', '우산', '짱절미'], dtype='object')"
      ]
     },
     "execution_count": 4,
     "metadata": {},
     "output_type": "execute_result"
    }
   ],
   "source": [
    "feature_names = data.columns.difference([label_name])\n",
    "feature_names"
   ]
  },
  {
   "cell_type": "markdown",
   "metadata": {},
   "source": [
    "## Prerequisites"
   ]
  },
  {
   "cell_type": "markdown",
   "metadata": {},
   "source": [
    "### Visualize Tree"
   ]
  },
  {
   "cell_type": "code",
   "execution_count": null,
   "metadata": {
    "collapsed": true
   },
   "outputs": [],
   "source": [
    "import graphviz\n",
    "from graphviz import Digraph\n",
    "\n",
    "def display_node(dot, key, node):\n",
    "    if node[\"leaf\"] == True:\n",
    "        probability = node['probability']\n",
    "        probability = round(probability, 4)\n",
    "        probability = str(probability)\n",
    "        \n",
    "        dot.node(key, probability)\n",
    "    else:\n",
    "        description = node['description']\n",
    "        dot.node(key, description)\n",
    "        \n",
    "        if \"left\" in node:\n",
    "            left_key = key + \"L\"\n",
    "            display_node(dot, left_key, node['left'])\n",
    "            dot.edge(key, left_key)\n",
    "\n",
    "        if \"right\" in node:\n",
    "            right_key = key + \"R\"\n",
    "            display_node(dot, right_key, node['right'])\n",
    "            dot.edge(key, right_key)\n",
    "\n",
    "def display_tree(tree):\n",
    "    dot = Digraph(comment='Decision Tree')\n",
    "\n",
    "    display_node(dot, \"Root\", tree)\n",
    "\n",
    "    return graphviz.Source(dot.source)"
   ]
  },
  {
   "cell_type": "markdown",
   "metadata": {},
   "source": [
    "### Predict"
   ]
  },
  {
   "cell_type": "code",
   "execution_count": null,
   "metadata": {
    "collapsed": true
   },
   "outputs": [],
   "source": [
    "def predict(data, node):\n",
    "    if node['leaf'] == True:\n",
    "        probability = node[\"probability\"]\n",
    "        result = dict(zip(data.index, len(data) * [probability]))\n",
    "    else:\n",
    "        condition = node['condition']\n",
    "        \n",
    "        left_data = data[condition(data)]\n",
    "        left_result = predict(left_data, node['left'])\n",
    "        \n",
    "        right_data = data[~condition(data)]\n",
    "        right_result = predict(right_data, node['right'])    \n",
    "    \n",
    "        return {**left_result, **right_result}\n",
    "\n",
    "    return result"
   ]
  },
  {
   "cell_type": "markdown",
   "metadata": {
    "collapsed": true
   },
   "source": [
    "## Prior Knowledge"
   ]
  },
  {
   "cell_type": "markdown",
   "metadata": {},
   "source": [
    "### Dictionary"
   ]
  },
  {
   "cell_type": "code",
   "execution_count": null,
   "metadata": {},
   "outputs": [
    {
     "data": {
      "text/plain": [
       "{'apple': {'ja': 'ringo', 'ko': '바나나'},\n",
       " 'banana': {'ja': 'banana', 'ko': '바나나'}}"
      ]
     },
     "execution_count": 7,
     "metadata": {},
     "output_type": "execute_result"
    }
   ],
   "source": [
    "vocabulary = {\n",
    "    'apple': {\n",
    "        'ko': '바나나',\n",
    "        'ja': 'ringo'\n",
    "    },\n",
    "    'banana': {\n",
    "        'ko': '바나나',\n",
    "        'ja': 'banana'\n",
    "    }\n",
    "}\n",
    "\n",
    "vocabulary"
   ]
  },
  {
   "cell_type": "code",
   "execution_count": null,
   "metadata": {},
   "outputs": [
    {
     "data": {
      "text/plain": [
       "'ringo'"
      ]
     },
     "execution_count": 8,
     "metadata": {},
     "output_type": "execute_result"
    }
   ],
   "source": [
    "vocabulary[\"apple\"]['ja']"
   ]
  },
  {
   "cell_type": "code",
   "execution_count": null,
   "metadata": {},
   "outputs": [
    {
     "data": {
      "text/plain": [
       "'바나나'"
      ]
     },
     "execution_count": 9,
     "metadata": {},
     "output_type": "execute_result"
    }
   ],
   "source": [
    "vocabulary[\"banana\"]['ko']"
   ]
  },
  {
   "cell_type": "code",
   "execution_count": null,
   "metadata": {},
   "outputs": [
    {
     "data": {
      "text/plain": [
       "('apple', {'ja': 'ringo', 'ko': '바나나'})"
      ]
     },
     "execution_count": 10,
     "metadata": {},
     "output_type": "execute_result"
    }
   ],
   "source": [
    "first_key = list(vocabulary.keys())[0]\n",
    "first_key, vocabulary[first_key]"
   ]
  },
  {
   "cell_type": "markdown",
   "metadata": {},
   "source": [
    "### Recursive Function"
   ]
  },
  {
   "cell_type": "code",
   "execution_count": null,
   "metadata": {
    "collapsed": true
   },
   "outputs": [],
   "source": [
    "# 3n + 1\n",
    "# 홀수면 3 * n + 1\n",
    "# 짝수면 n / 2\n",
    "# n이 1이면 종료"
   ]
  },
  {
   "cell_type": "code",
   "execution_count": null,
   "metadata": {},
   "outputs": [
    {
     "name": "stdout",
     "output_type": "stream",
     "text": [
      "True\n",
      "True\n",
      "True\n",
      "True\n",
      "True\n"
     ]
    }
   ],
   "source": [
    "# def cycle(n):\n",
    "#     result = [n]\n",
    "    \n",
    "#     while True:\n",
    "#         if n == 1:\n",
    "#             break\n",
    "\n",
    "#         if n % 2 == 0:\n",
    "#             n = n / 2\n",
    "#         else:\n",
    "#             n = 3 * n + 1\n",
    "        \n",
    "#         result = result + [n]\n",
    "\n",
    "#     return result\n",
    "\n",
    "def cycle(n):\n",
    "    if n == 1:\n",
    "        return [n]\n",
    "    \n",
    "    if n % 2 == 0:\n",
    "        return [n] + cycle(n / 2)\n",
    "    else:\n",
    "        return [n] + cycle(3 * n + 1)\n",
    "\n",
    "print(cycle(1) == [1])\n",
    "print(cycle(2) == [2, 1])\n",
    "print(cycle(3) == [3, 10, 5, 16, 8, 4, 2, 1])\n",
    "print(cycle(4) == [4, 2, 1])\n",
    "print(cycle(5) == [5, 16, 8, 4, 2, 1])"
   ]
  },
  {
   "cell_type": "markdown",
   "metadata": {},
   "source": [
    "### Function + Lambda Function"
   ]
  },
  {
   "cell_type": "code",
   "execution_count": null,
   "metadata": {},
   "outputs": [
    {
     "data": {
      "text/plain": [
       "12"
      ]
     },
     "execution_count": 13,
     "metadata": {},
     "output_type": "execute_result"
    }
   ],
   "source": [
    "def multiply(a, b):\n",
    "    return a * b\n",
    "    \n",
    "multiply(3, 4)"
   ]
  },
  {
   "cell_type": "code",
   "execution_count": null,
   "metadata": {},
   "outputs": [
    {
     "data": {
      "text/plain": [
       "12"
      ]
     },
     "execution_count": 14,
     "metadata": {},
     "output_type": "execute_result"
    }
   ],
   "source": [
    "multiply = lambda a, b: a * b\n",
    "\n",
    "multiply(3, 4)"
   ]
  },
  {
   "cell_type": "markdown",
   "metadata": {},
   "source": [
    "### Closure"
   ]
  },
  {
   "cell_type": "code",
   "execution_count": null,
   "metadata": {
    "collapsed": true
   },
   "outputs": [],
   "source": [
    "def profile_generator(company):\n",
    "    def user_geneartor(name):\n",
    "        print(f\"Name = {name}, Company = {company}\")\n",
    "        \n",
    "    return user_geneartor"
   ]
  },
  {
   "cell_type": "code",
   "execution_count": null,
   "metadata": {},
   "outputs": [
    {
     "name": "stdout",
     "output_type": "stream",
     "text": [
      "Name = 강성희, Company = DS School\n"
     ]
    }
   ],
   "source": [
    "generator = profile_generator(\"DS School\")\n",
    "\n",
    "generator(\"강성희\")"
   ]
  },
  {
   "cell_type": "markdown",
   "metadata": {},
   "source": [
    "## Implement a Decision Tree"
   ]
  },
  {
   "cell_type": "markdown",
   "metadata": {},
   "source": [
    "### Make Conditions"
   ]
  },
  {
   "cell_type": "code",
   "execution_count": null,
   "metadata": {
    "collapsed": true
   },
   "outputs": [],
   "source": [
    "def binary_condition(data, feature_name, value):\n",
    "    return data[feature_name] == value\n",
    "\n",
    "def continuous_condition(data, feature_name, value):\n",
    "    return data[feature_name] < value\n",
    "\n",
    "def make_condition(method, feature_name, value):\n",
    "    def call_condition(data):\n",
    "        return method(data, feature_name, value)\n",
    "    \n",
    "    return call_condition"
   ]
  },
  {
   "cell_type": "code",
   "execution_count": null,
   "metadata": {},
   "outputs": [
    {
     "data": {
      "text/html": [
       "<div>\n",
       "<style>\n",
       "    .dataframe thead tr:only-child th {\n",
       "        text-align: right;\n",
       "    }\n",
       "\n",
       "    .dataframe thead th {\n",
       "        text-align: left;\n",
       "    }\n",
       "\n",
       "    .dataframe tbody tr th {\n",
       "        vertical-align: top;\n",
       "    }\n",
       "</style>\n",
       "<table border=\"1\" class=\"dataframe\">\n",
       "  <thead>\n",
       "    <tr style=\"text-align: right;\">\n",
       "      <th></th>\n",
       "      <th>follower</th>\n",
       "      <th>like</th>\n",
       "      <th>셀스타그램</th>\n",
       "      <th>우산</th>\n",
       "      <th>짱절미</th>\n",
       "    </tr>\n",
       "    <tr>\n",
       "      <th>name</th>\n",
       "      <th></th>\n",
       "      <th></th>\n",
       "      <th></th>\n",
       "      <th></th>\n",
       "      <th></th>\n",
       "    </tr>\n",
       "  </thead>\n",
       "  <tbody>\n",
       "    <tr>\n",
       "      <th>Kang</th>\n",
       "      <td>0</td>\n",
       "      <td>True</td>\n",
       "      <td>False</td>\n",
       "      <td>False</td>\n",
       "      <td>True</td>\n",
       "    </tr>\n",
       "  </tbody>\n",
       "</table>\n",
       "</div>"
      ],
      "text/plain": [
       "      follower  like  셀스타그램     우산   짱절미\n",
       "name                                    \n",
       "Kang         0  True  False  False  True"
      ]
     },
     "execution_count": 18,
     "metadata": {},
     "output_type": "execute_result"
    }
   ],
   "source": [
    "condition = make_condition(binary_condition, \"짱절미\", True)\n",
    "data[condition(data)]"
   ]
  },
  {
   "cell_type": "code",
   "execution_count": null,
   "metadata": {},
   "outputs": [
    {
     "data": {
      "text/html": [
       "<div>\n",
       "<style>\n",
       "    .dataframe thead tr:only-child th {\n",
       "        text-align: right;\n",
       "    }\n",
       "\n",
       "    .dataframe thead th {\n",
       "        text-align: left;\n",
       "    }\n",
       "\n",
       "    .dataframe tbody tr th {\n",
       "        vertical-align: top;\n",
       "    }\n",
       "</style>\n",
       "<table border=\"1\" class=\"dataframe\">\n",
       "  <thead>\n",
       "    <tr style=\"text-align: right;\">\n",
       "      <th></th>\n",
       "      <th>follower</th>\n",
       "      <th>like</th>\n",
       "      <th>셀스타그램</th>\n",
       "      <th>우산</th>\n",
       "      <th>짱절미</th>\n",
       "    </tr>\n",
       "    <tr>\n",
       "      <th>name</th>\n",
       "      <th></th>\n",
       "      <th></th>\n",
       "      <th></th>\n",
       "      <th></th>\n",
       "      <th></th>\n",
       "    </tr>\n",
       "  </thead>\n",
       "  <tbody>\n",
       "    <tr>\n",
       "      <th>Kang</th>\n",
       "      <td>0</td>\n",
       "      <td>True</td>\n",
       "      <td>False</td>\n",
       "      <td>False</td>\n",
       "      <td>True</td>\n",
       "    </tr>\n",
       "    <tr>\n",
       "      <th>Kim</th>\n",
       "      <td>0</td>\n",
       "      <td>False</td>\n",
       "      <td>False</td>\n",
       "      <td>False</td>\n",
       "      <td>False</td>\n",
       "    </tr>\n",
       "    <tr>\n",
       "      <th>Choi</th>\n",
       "      <td>100</td>\n",
       "      <td>True</td>\n",
       "      <td>True</td>\n",
       "      <td>False</td>\n",
       "      <td>False</td>\n",
       "    </tr>\n",
       "    <tr>\n",
       "      <th>Yoon</th>\n",
       "      <td>0</td>\n",
       "      <td>False</td>\n",
       "      <td>False</td>\n",
       "      <td>False</td>\n",
       "      <td>False</td>\n",
       "    </tr>\n",
       "  </tbody>\n",
       "</table>\n",
       "</div>"
      ],
      "text/plain": [
       "      follower   like  셀스타그램     우산    짱절미\n",
       "name                                      \n",
       "Kang         0   True  False  False   True\n",
       "Kim          0  False  False  False  False\n",
       "Choi       100   True   True  False  False\n",
       "Yoon         0  False  False  False  False"
      ]
     },
     "execution_count": 19,
     "metadata": {},
     "output_type": "execute_result"
    }
   ],
   "source": [
    "condition = make_condition(continuous_condition, \"follower\", 150)\n",
    "data[condition(data)]"
   ]
  },
  {
   "cell_type": "code",
   "execution_count": null,
   "metadata": {
    "collapsed": true
   },
   "outputs": [],
   "source": [
    "def make_condition_list(data, feature_names):\n",
    "    condition_list = {}\n",
    "\n",
    "    for feature_name in feature_names:\n",
    "        if data[feature_name].dtype == \"bool\":\n",
    "            description = f\"{feature_name} == True\"\n",
    "            condition = make_condition(binary_condition, feature_name, True)\n",
    "\n",
    "            condition_list[description] = condition\n",
    "        else:\n",
    "            values = data[feature_name].unique()\n",
    "            values = values[1:-1]\n",
    "\n",
    "            for value in values:\n",
    "                description = f\"{feature_name} < {value}\"\n",
    "                condition = make_condition(continuous_condition, feature_name, value)\n",
    "\n",
    "                condition_list[description] = condition\n",
    "\n",
    "    return condition_list"
   ]
  },
  {
   "cell_type": "code",
   "execution_count": null,
   "metadata": {},
   "outputs": [
    {
     "data": {
      "text/plain": [
       "{'like == True': <function __main__.make_condition.<locals>.call_condition>,\n",
       " '셀스타그램 == True': <function __main__.make_condition.<locals>.call_condition>,\n",
       " '우산 == True': <function __main__.make_condition.<locals>.call_condition>,\n",
       " '짱절미 == True': <function __main__.make_condition.<locals>.call_condition>}"
      ]
     },
     "execution_count": 21,
     "metadata": {},
     "output_type": "execute_result"
    }
   ],
   "source": [
    "condition_list = make_condition_list(data, feature_names)\n",
    "condition_list"
   ]
  },
  {
   "cell_type": "markdown",
   "metadata": {},
   "source": [
    "### Evaluate Mean Squaed Error\n",
    "\n",
    "$$\n",
    "{\\displaystyle \\operatorname {MSE} ={\\frac {1}{n}}\\sum _{i=1}^{n}(p_{i}-{{a_{i}}})^{2}.}\n",
    "$$"
   ]
  },
  {
   "cell_type": "code",
   "execution_count": null,
   "metadata": {},
   "outputs": [
    {
     "data": {
      "text/plain": [
       "6976.0"
      ]
     },
     "execution_count": 22,
     "metadata": {},
     "output_type": "execute_result"
    }
   ],
   "source": [
    "def evaluate_mse(data, label_name):\n",
    "    if len(data) == 0:\n",
    "        # return np.inf\n",
    "        return 999999\n",
    "\n",
    "    mean = data[label_name].mean()\n",
    "\n",
    "    mse = ((data[label_name] - mean) ** 2).mean()\n",
    "\n",
    "    return mse\n",
    "\n",
    "evaluate_mse(data, \"follower\")"
   ]
  },
  {
   "cell_type": "code",
   "execution_count": null,
   "metadata": {},
   "outputs": [
    {
     "data": {
      "text/plain": [
       "6976.0"
      ]
     },
     "execution_count": 23,
     "metadata": {},
     "output_type": "execute_result"
    }
   ],
   "source": [
    "evaluate_mse(data, label_name)"
   ]
  },
  {
   "cell_type": "code",
   "execution_count": null,
   "metadata": {},
   "outputs": [
    {
     "data": {
      "text/plain": [
       "999999"
      ]
     },
     "execution_count": 24,
     "metadata": {},
     "output_type": "execute_result"
    }
   ],
   "source": [
    "evaluate_mse([], label_name)"
   ]
  },
  {
   "cell_type": "code",
   "execution_count": null,
   "metadata": {
    "collapsed": true
   },
   "outputs": [],
   "source": [
    "def evaluate_average_mse(data, condition, label_name):\n",
    "    true_data = data[condition(data)]\n",
    "    false_data = data[~condition(data)]\n",
    "\n",
    "    true_mse = evaluate_mse(true_data, label_name)\n",
    "    false_mse = evaluate_mse(false_data, label_name)\n",
    "\n",
    "    mse = (len(true_data) * true_mse + len(false_data) * false_mse)\n",
    "    mse = mse / len(data)\n",
    "\n",
    "    return mse"
   ]
  },
  {
   "cell_type": "code",
   "execution_count": null,
   "metadata": {},
   "outputs": [
    {
     "data": {
      "text/plain": [
       "6015.0"
      ]
     },
     "execution_count": 26,
     "metadata": {},
     "output_type": "execute_result"
    }
   ],
   "source": [
    "condition = make_condition(binary_condition, \"짱절미\", True)\n",
    "evaluate_average_mse(data, condition, label_name)"
   ]
  },
  {
   "cell_type": "code",
   "execution_count": null,
   "metadata": {},
   "outputs": [
    {
     "data": {
      "text/plain": [
       "6615.0"
      ]
     },
     "execution_count": 27,
     "metadata": {},
     "output_type": "execute_result"
    }
   ],
   "source": [
    "condition = make_condition(binary_condition, \"셀스타그램\", True)\n",
    "evaluate_average_mse(data, condition, label_name)"
   ]
  },
  {
   "cell_type": "code",
   "execution_count": null,
   "metadata": {},
   "outputs": [
    {
     "data": {
      "text/plain": [
       "6976.0"
      ]
     },
     "execution_count": 28,
     "metadata": {},
     "output_type": "execute_result"
    }
   ],
   "source": [
    "condition = make_condition(binary_condition, \"우산\", True)\n",
    "evaluate_average_mse(data, condition, label_name)"
   ]
  },
  {
   "cell_type": "code",
   "execution_count": null,
   "metadata": {},
   "outputs": [
    {
     "data": {
      "text/plain": [
       "4413.333333333334"
      ]
     },
     "execution_count": 29,
     "metadata": {},
     "output_type": "execute_result"
    }
   ],
   "source": [
    "condition = make_condition(binary_condition, \"like\", True)\n",
    "evaluate_average_mse(data, condition, label_name)"
   ]
  },
  {
   "cell_type": "code",
   "execution_count": null,
   "metadata": {
    "collapsed": true
   },
   "outputs": [],
   "source": [
    "import numpy as np\n",
    "\n",
    "def find_best_condition(data, condition_list, label_name):\n",
    "    best_mse = np.inf\n",
    "    best_condition = None\n",
    "    best_description = None\n",
    "\n",
    "    for description, condition in condition_list.items():\n",
    "        mse = evaluate_average_mse(data, condition, label_name)\n",
    "\n",
    "        if mse < best_mse:\n",
    "            best_mse = mse\n",
    "            best_condition = condition\n",
    "            best_description = description\n",
    "\n",
    "    return best_condition, best_description, best_mse"
   ]
  },
  {
   "cell_type": "code",
   "execution_count": null,
   "metadata": {},
   "outputs": [
    {
     "data": {
      "text/plain": [
       "(<function __main__.make_condition.<locals>.call_condition>,\n",
       " '짱절미 == True',\n",
       " 6015.0)"
      ]
     },
     "execution_count": 31,
     "metadata": {},
     "output_type": "execute_result"
    }
   ],
   "source": [
    "condition1 = make_condition(binary_condition, \"짱절미\", True)\n",
    "condition2 = make_condition(binary_condition, \"셀스타그램\", True)\n",
    "condition3 = make_condition(binary_condition, \"우산\", True)\n",
    "\n",
    "condition_list = {\n",
    "    \"짱절미 == True\": condition1,\n",
    "    \"셀스타그램 == True\": condition2,\n",
    "    \"우산 == True\": condition3,\n",
    "}\n",
    "\n",
    "find_best_condition(data, condition_list, label_name)"
   ]
  },
  {
   "cell_type": "markdown",
   "metadata": {},
   "source": [
    "### Make a Tree"
   ]
  },
  {
   "cell_type": "code",
   "execution_count": null,
   "metadata": {},
   "outputs": [
    {
     "data": {
      "image/svg+xml": [
       "<?xml version=\"1.0\" encoding=\"UTF-8\" standalone=\"no\"?>\n",
       "<!DOCTYPE svg PUBLIC \"-//W3C//DTD SVG 1.1//EN\"\n",
       " \"http://www.w3.org/Graphics/SVG/1.1/DTD/svg11.dtd\">\n",
       "<!-- Generated by graphviz version 2.38.0 (20140413.2041)\n",
       " -->\n",
       "<!-- Title: %3 Pages: 1 -->\n",
       "<svg width=\"264pt\" height=\"260pt\"\n",
       " viewBox=\"0.00 0.00 264.13 260.00\" xmlns=\"http://www.w3.org/2000/svg\" xmlns:xlink=\"http://www.w3.org/1999/xlink\">\n",
       "<g id=\"graph0\" class=\"graph\" transform=\"scale(1 1) rotate(0) translate(4 256)\">\n",
       "<title>%3</title>\n",
       "<polygon fill=\"white\" stroke=\"none\" points=\"-4,4 -4,-256 260.128,-256 260.128,4 -4,4\"/>\n",
       "<!-- Root -->\n",
       "<g id=\"node1\" class=\"node\"><title>Root</title>\n",
       "<ellipse fill=\"none\" stroke=\"black\" cx=\"154\" cy=\"-234\" rx=\"53.9919\" ry=\"18\"/>\n",
       "<text text-anchor=\"middle\" x=\"154\" y=\"-229.8\" font-family=\"Times,serif\" font-size=\"14.00\">like == True</text>\n",
       "</g>\n",
       "<!-- RootL -->\n",
       "<g id=\"node2\" class=\"node\"><title>RootL</title>\n",
       "<ellipse fill=\"none\" stroke=\"black\" cx=\"95\" cy=\"-162\" rx=\"72.9123\" ry=\"18\"/>\n",
       "<text text-anchor=\"middle\" x=\"95\" y=\"-159.111\" font-family=\"Times,serif\" font-size=\"14.00\">짱절미 == True</text>\n",
       "</g>\n",
       "<!-- Root&#45;&gt;RootL -->\n",
       "<g id=\"edge5\" class=\"edge\"><title>Root&#45;&gt;RootL</title>\n",
       "<path fill=\"none\" stroke=\"black\" d=\"M140.018,-216.411C132.777,-207.82 123.791,-197.159 115.757,-187.627\"/>\n",
       "<polygon fill=\"black\" stroke=\"black\" points=\"118.413,-185.347 109.292,-179.956 113.06,-189.858 118.413,-185.347\"/>\n",
       "</g>\n",
       "<!-- RootR -->\n",
       "<g id=\"node7\" class=\"node\"><title>RootR</title>\n",
       "<ellipse fill=\"none\" stroke=\"black\" cx=\"213\" cy=\"-162\" rx=\"27\" ry=\"18\"/>\n",
       "<text text-anchor=\"middle\" x=\"213\" y=\"-157.8\" font-family=\"Times,serif\" font-size=\"14.00\">0.0</text>\n",
       "</g>\n",
       "<!-- Root&#45;&gt;RootR -->\n",
       "<g id=\"edge6\" class=\"edge\"><title>Root&#45;&gt;RootR</title>\n",
       "<path fill=\"none\" stroke=\"black\" d=\"M167.982,-216.411C175.649,-207.314 185.272,-195.898 193.65,-185.958\"/>\n",
       "<polygon fill=\"black\" stroke=\"black\" points=\"196.556,-187.94 200.325,-178.038 191.204,-183.429 196.556,-187.94\"/>\n",
       "</g>\n",
       "<!-- RootLL -->\n",
       "<g id=\"node3\" class=\"node\"><title>RootLL</title>\n",
       "<ellipse fill=\"none\" stroke=\"black\" cx=\"27\" cy=\"-90\" rx=\"27\" ry=\"18\"/>\n",
       "<text text-anchor=\"middle\" x=\"27\" y=\"-85.8\" font-family=\"Times,serif\" font-size=\"14.00\">0.0</text>\n",
       "</g>\n",
       "<!-- RootL&#45;&gt;RootLL -->\n",
       "<g id=\"edge1\" class=\"edge\"><title>RootL&#45;&gt;RootLL</title>\n",
       "<path fill=\"none\" stroke=\"black\" d=\"M78.8849,-144.411C69.7463,-135.004 58.1977,-123.115 48.3172,-112.944\"/>\n",
       "<polygon fill=\"black\" stroke=\"black\" points=\"50.6325,-110.305 41.1542,-105.57 45.6116,-115.182 50.6325,-110.305\"/>\n",
       "</g>\n",
       "<!-- RootLR -->\n",
       "<g id=\"node4\" class=\"node\"><title>RootLR</title>\n",
       "<ellipse fill=\"none\" stroke=\"black\" cx=\"164\" cy=\"-90\" rx=\"92.2563\" ry=\"18\"/>\n",
       "<text text-anchor=\"middle\" x=\"164\" y=\"-87.1112\" font-family=\"Times,serif\" font-size=\"14.00\">셀스타그램 == True</text>\n",
       "</g>\n",
       "<!-- RootL&#45;&gt;RootLR -->\n",
       "<g id=\"edge4\" class=\"edge\"><title>RootL&#45;&gt;RootLR</title>\n",
       "<path fill=\"none\" stroke=\"black\" d=\"M111.352,-144.411C119.905,-135.734 130.539,-124.946 140.006,-115.342\"/>\n",
       "<polygon fill=\"black\" stroke=\"black\" points=\"142.759,-117.535 147.286,-107.956 137.773,-112.621 142.759,-117.535\"/>\n",
       "</g>\n",
       "<!-- RootLRL -->\n",
       "<g id=\"node5\" class=\"node\"><title>RootLRL</title>\n",
       "<ellipse fill=\"none\" stroke=\"black\" cx=\"125\" cy=\"-18\" rx=\"30.0092\" ry=\"18\"/>\n",
       "<text text-anchor=\"middle\" x=\"125\" y=\"-13.8\" font-family=\"Times,serif\" font-size=\"14.00\">100.0</text>\n",
       "</g>\n",
       "<!-- RootLR&#45;&gt;RootLRL -->\n",
       "<g id=\"edge2\" class=\"edge\"><title>RootLR&#45;&gt;RootLRL</title>\n",
       "<path fill=\"none\" stroke=\"black\" d=\"M154.559,-72.055C149.893,-63.6793 144.168,-53.4039 139.003,-44.1341\"/>\n",
       "<polygon fill=\"black\" stroke=\"black\" points=\"142.01,-42.3392 134.085,-35.307 135.895,-45.7462 142.01,-42.3392\"/>\n",
       "</g>\n",
       "<!-- RootLRR -->\n",
       "<g id=\"node6\" class=\"node\"><title>RootLRR</title>\n",
       "<ellipse fill=\"none\" stroke=\"black\" cx=\"203\" cy=\"-18\" rx=\"30.0092\" ry=\"18\"/>\n",
       "<text text-anchor=\"middle\" x=\"203\" y=\"-13.8\" font-family=\"Times,serif\" font-size=\"14.00\">210.0</text>\n",
       "</g>\n",
       "<!-- RootLR&#45;&gt;RootLRR -->\n",
       "<g id=\"edge3\" class=\"edge\"><title>RootLR&#45;&gt;RootLRR</title>\n",
       "<path fill=\"none\" stroke=\"black\" d=\"M173.441,-72.055C178.107,-63.6793 183.832,-53.4039 188.997,-44.1341\"/>\n",
       "<polygon fill=\"black\" stroke=\"black\" points=\"192.105,-45.7462 193.915,-35.307 185.99,-42.3392 192.105,-45.7462\"/>\n",
       "</g>\n",
       "</g>\n",
       "</svg>\n"
      ],
      "text/plain": [
       "<graphviz.files.Source at 0x109674780>"
      ]
     },
     "execution_count": 32,
     "metadata": {},
     "output_type": "execute_result"
    }
   ],
   "source": [
    "max_depth = None\n",
    "min_sample_split = 2\n",
    "\n",
    "def make_node(data, label_name, condition_list, current_mse, current_depth):\n",
    "    condition = (len(condition_list) != 0)\n",
    "    sample = (len(data) >= min_sample_split)\n",
    "    depth = (max_depth == None) or (current_depth < max_depth)\n",
    "    \n",
    "    if condition and sample and depth:\n",
    "        condition, description, mse = \\\n",
    "            find_best_condition(data, condition_list, label_name)\n",
    "\n",
    "        left_data = data[condition(data)]\n",
    "        right_data = data[~condition(data)]\n",
    "        \n",
    "        if mse < current_mse and len(left_data) != 0 and len(right_data) != 0:\n",
    "            node = {'leaf': False, 'description': description, 'condition': condition}\n",
    "\n",
    "            del condition_list[description]\n",
    "\n",
    "            node['left'] = make_node(left_data, label_name, condition_list.copy(), mse, current_depth + 1)\n",
    "            node['right'] = make_node(right_data, label_name, condition_list.copy(), mse, current_depth + 1)\n",
    "\n",
    "            return node\n",
    "\n",
    "    probability = data[label_name].mean()\n",
    "    node = {'leaf': True, 'probability': probability}\n",
    "\n",
    "    return node\n",
    "\n",
    "    \n",
    "def make_tree(data, feature_names, label_name):\n",
    "    condition_list = make_condition_list(data, feature_names)\n",
    "\n",
    "    tree = make_node(data, label_name, condition_list, current_mse = 999999999, current_depth=0)\n",
    "\n",
    "    return tree\n",
    "\n",
    "tree = make_tree(data, feature_names, label_name)\n",
    "display_tree(tree)"
   ]
  },
  {
   "cell_type": "code",
   "execution_count": null,
   "metadata": {},
   "outputs": [
    {
     "data": {
      "text/html": [
       "<div>\n",
       "<style>\n",
       "    .dataframe thead tr:only-child th {\n",
       "        text-align: right;\n",
       "    }\n",
       "\n",
       "    .dataframe thead th {\n",
       "        text-align: left;\n",
       "    }\n",
       "\n",
       "    .dataframe tbody tr th {\n",
       "        vertical-align: top;\n",
       "    }\n",
       "</style>\n",
       "<table border=\"1\" class=\"dataframe\">\n",
       "  <thead>\n",
       "    <tr style=\"text-align: right;\">\n",
       "      <th></th>\n",
       "      <th>follower</th>\n",
       "      <th>like</th>\n",
       "      <th>셀스타그램</th>\n",
       "      <th>우산</th>\n",
       "      <th>짱절미</th>\n",
       "      <th>follower(predict)</th>\n",
       "    </tr>\n",
       "    <tr>\n",
       "      <th>name</th>\n",
       "      <th></th>\n",
       "      <th></th>\n",
       "      <th></th>\n",
       "      <th></th>\n",
       "      <th></th>\n",
       "      <th></th>\n",
       "    </tr>\n",
       "  </thead>\n",
       "  <tbody>\n",
       "    <tr>\n",
       "      <th>Kang</th>\n",
       "      <td>0</td>\n",
       "      <td>True</td>\n",
       "      <td>False</td>\n",
       "      <td>False</td>\n",
       "      <td>True</td>\n",
       "      <td>0.0</td>\n",
       "    </tr>\n",
       "    <tr>\n",
       "      <th>Kim</th>\n",
       "      <td>0</td>\n",
       "      <td>False</td>\n",
       "      <td>False</td>\n",
       "      <td>False</td>\n",
       "      <td>False</td>\n",
       "      <td>0.0</td>\n",
       "    </tr>\n",
       "    <tr>\n",
       "      <th>Choi</th>\n",
       "      <td>100</td>\n",
       "      <td>True</td>\n",
       "      <td>True</td>\n",
       "      <td>False</td>\n",
       "      <td>False</td>\n",
       "      <td>100.0</td>\n",
       "    </tr>\n",
       "    <tr>\n",
       "      <th>Park</th>\n",
       "      <td>210</td>\n",
       "      <td>True</td>\n",
       "      <td>False</td>\n",
       "      <td>False</td>\n",
       "      <td>False</td>\n",
       "      <td>210.0</td>\n",
       "    </tr>\n",
       "    <tr>\n",
       "      <th>Yoon</th>\n",
       "      <td>0</td>\n",
       "      <td>False</td>\n",
       "      <td>False</td>\n",
       "      <td>False</td>\n",
       "      <td>False</td>\n",
       "      <td>0.0</td>\n",
       "    </tr>\n",
       "  </tbody>\n",
       "</table>\n",
       "</div>"
      ],
      "text/plain": [
       "      follower   like  셀스타그램     우산    짱절미  follower(predict)\n",
       "name                                                         \n",
       "Kang         0   True  False  False   True                0.0\n",
       "Kim          0  False  False  False  False                0.0\n",
       "Choi       100   True   True  False  False              100.0\n",
       "Park       210   True  False  False  False              210.0\n",
       "Yoon         0  False  False  False  False                0.0"
      ]
     },
     "execution_count": 33,
     "metadata": {},
     "output_type": "execute_result"
    }
   ],
   "source": [
    "predictions = predict(data, tree)\n",
    "predictions = pd.Series(predictions)\n",
    "\n",
    "result = data.copy()\n",
    "result[\"follower(predict)\"] = predictions\n",
    "\n",
    "result"
   ]
  },
  {
   "cell_type": "markdown",
   "metadata": {
    "collapsed": true
   },
   "source": [
    "## Implement a Gradient Boosting Machine"
   ]
  },
  {
   "cell_type": "code",
   "execution_count": 2,
   "metadata": {
    "collapsed": true
   },
   "outputs": [],
   "source": [
    "# Write your code here!"
   ]
  },
  {
   "cell_type": "code",
   "execution_count": null,
   "metadata": {
    "collapsed": true
   },
   "outputs": [],
   "source": []
  }
 ],
 "metadata": {
  "kernelspec": {
   "display_name": "Python 3",
   "language": "python",
   "name": "python3"
  },
  "language_info": {
   "codemirror_mode": {
    "name": "ipython",
    "version": 3
   },
   "file_extension": ".py",
   "mimetype": "text/x-python",
   "name": "python",
   "nbconvert_exporter": "python",
   "pygments_lexer": "ipython3",
   "version": "3.6.3"
  }
 },
 "nbformat": 4,
 "nbformat_minor": 2
}
